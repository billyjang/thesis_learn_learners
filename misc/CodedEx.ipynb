{
 "cells": [
  {
   "cell_type": "code",
   "execution_count": 1,
   "metadata": {},
   "outputs": [],
   "source": [
    "import numpy as np\n",
    "import pandas as pd\n",
    "from numpy import genfromtxt\n",
    "from sklearn.linear_model import LinearRegression\n",
    "from sklearn.linear_model import LogisticRegression\n",
    "from sklearn.linear_model import Perceptron\n",
    "from sklearn import metrics\n",
    "from sklearn.svm import SVC\n",
    "import matplotlib.pyplot as plt"
   ]
  },
  {
   "cell_type": "code",
   "execution_count": 2,
   "metadata": {},
   "outputs": [],
   "source": [
    "# From Stack Overflow\n",
    "def make_meshgrid(x, y, h=.02):\n",
    "    x_min, x_max = x.min() - 1, x.max() + 1\n",
    "    y_min, y_max = y.min() - 1, y.max() + 1\n",
    "    xx, yy = np.meshgrid(np.arange(x_min, x_max, h), np.arange(y_min, y_max, h))\n",
    "    return xx, yy\n",
    "\n",
    "def plot_contours(ax, clf, xx, yy, **params):\n",
    "    Z = clf.predict(np.c_[xx.ravel(), yy.ravel()])\n",
    "    Z = Z.reshape(xx.shape)\n",
    "    out = ax.contourf(xx, yy, Z, **params)\n",
    "    return out"
   ]
  },
  {
   "cell_type": "markdown",
   "metadata": {},
   "source": [
    "## Linear Regression"
   ]
  },
  {
   "cell_type": "code",
   "execution_count": 3,
   "metadata": {},
   "outputs": [],
   "source": [
    "data_small = np.genfromtxt('linreg_small.csv', delimiter=',')\n",
    "data_large = np.genfromtxt('linreg_large.csv', delimiter=',')"
   ]
  },
  {
   "cell_type": "code",
   "execution_count": 4,
   "metadata": {},
   "outputs": [],
   "source": [
    "X_train_small = data_small[:,0]\n",
    "Y_train_small = data_small[:,1]\n",
    "X_train_large = data_large[:,0]\n",
    "Y_train_large = data_large[:,1]"
   ]
  },
  {
   "cell_type": "code",
   "execution_count": 5,
   "metadata": {},
   "outputs": [
    {
     "data": {
      "text/plain": [
       "LinearRegression(copy_X=True, fit_intercept=True, n_jobs=None, normalize=False)"
      ]
     },
     "execution_count": 5,
     "metadata": {},
     "output_type": "execute_result"
    }
   ],
   "source": [
    "linreg_small = LinearRegression()\n",
    "linreg_small.fit(X_train_small.reshape(-1,1), Y_train_small)\n",
    "linreg_large = LinearRegression()\n",
    "linreg_large.fit(X_train_large.reshape(-1,1), Y_train_large)"
   ]
  },
  {
   "cell_type": "code",
   "execution_count": 6,
   "metadata": {},
   "outputs": [],
   "source": [
    "X_train_small_p = np.append(X_train_small,0)\n",
    "Y_train_small_p = np.append(Y_train_small,15)\n",
    "X_train_large_p = np.append(X_train_large,0)\n",
    "Y_train_large_p = np.append(Y_train_large,15)"
   ]
  },
  {
   "cell_type": "code",
   "execution_count": 7,
   "metadata": {},
   "outputs": [
    {
     "data": {
      "text/plain": [
       "LinearRegression(copy_X=True, fit_intercept=True, n_jobs=None, normalize=False)"
      ]
     },
     "execution_count": 7,
     "metadata": {},
     "output_type": "execute_result"
    }
   ],
   "source": [
    "linreg_small_p = LinearRegression()\n",
    "linreg_small_p.fit(X_train_small_p.reshape(-1,1), Y_train_small_p)\n",
    "linreg_large_p = LinearRegression()\n",
    "linreg_large_p.fit(X_train_large_p.reshape(-1,1), Y_train_large_p)"
   ]
  },
  {
   "cell_type": "code",
   "execution_count": 8,
   "metadata": {},
   "outputs": [
    {
     "data": {
      "image/png": "[encoded data removed]",
      "text/plain": [
       "<Figure size 432x288 with 1 Axes>"
      ]
     },
     "metadata": {
      "needs_background": "light"
     },
     "output_type": "display_data"
    }
   ],
   "source": [
    "x_values = [-10,10]\n",
    "\n",
    "#Small Dataset\n",
    "plt.scatter(X_train_small, Y_train_small, s=10, label='Small')\n",
    "y_values_small = [linreg_small.intercept_ + linreg_small.coef_ * x for x in x_values]\n",
    "plt.plot(x_values, y_values_small)\n",
    "\n",
    "#Large Dataset\n",
    "plt.scatter(X_train_large, Y_train_large, s=10, label='Large')\n",
    "y_values_large = [linreg_large.intercept_ + linreg_large.coef_ * x for x in x_values]\n",
    "plt.plot(x_values, y_values_large)\n",
    "\n",
    "## prime == new data point added\n",
    "\n",
    "#Small Prime\n",
    "plt.scatter(X_train_small_p, Y_train_small_p, s=10, label='Small_Prime', alpha=.5)\n",
    "y_values_small_p = [linreg_small_p.intercept_ + linreg_small_p.coef_ * x for x in x_values]\n",
    "plt.plot(x_values, y_values_small_p)\n",
    "\n",
    "#Large Prime\n",
    "plt.scatter(X_train_large_p, Y_train_large_p, s=10, label='Large_Prime', alpha=.5)\n",
    "y_values_large_p = [linreg_large_p.intercept_ + linreg_large_p.coef_ * x for x in x_values]\n",
    "plt.plot(x_values, y_values_large_p)\n",
    "\n",
    "plt.legend()\n",
    "plt.show()"
   ]
  },
  {
   "cell_type": "markdown",
   "metadata": {},
   "source": [
    "## Logistic Regression"
   ]
  },
  {
   "cell_type": "markdown",
   "metadata": {},
   "source": [
    "#### Can't really make sense of log reg... need a refresher I think"
   ]
  },
  {
   "cell_type": "code",
   "execution_count": 12,
   "metadata": {},
   "outputs": [],
   "source": [
    "data_small = np.genfromtxt('logreg_small.csv', delimiter=',')\n",
    "data_large = np.genfromtxt('logreg_large.csv', delimiter=',')\n",
    "data_small_p = np.genfromtxt('logreg_small_p.csv', delimiter=',')\n",
    "data_large_p = np.genfromtxt('logreg_large_p.csv', delimiter=',')"
   ]
  },
  {
   "cell_type": "code",
   "execution_count": 13,
   "metadata": {},
   "outputs": [],
   "source": [
    "X_train_small = data_small[:,:2]\n",
    "Y_train_small = data_small[:,2]\n",
    "X_train_large = data_large[:,:2]\n",
    "Y_train_large = data_large[:,2]\n",
    "X_train_small_p = data_small_p[:,:2]\n",
    "Y_train_small_p = data_small_p[:,2]\n",
    "X_train_large_p = data_large_p[:,:2]\n",
    "Y_train_large_p = data_large_p[:,2]"
   ]
  },
  {
   "cell_type": "code",
   "execution_count": 14,
   "metadata": {},
   "outputs": [
    {
     "name": "stdout",
     "output_type": "stream",
     "text": [
      "[[0.         1.25127353]]\n",
      "[0.]\n",
      "[[0.         2.33867431]]\n",
      "[0.]\n",
      "[[0.         1.24207959]]\n",
      "[0.02789063]\n",
      "[[0.         2.29130527]]\n",
      "[0.31856902]\n"
     ]
    },
    {
     "data": {
      "image/png": "[encoded data removed]",
      "text/plain": [
       "<Figure size 1080x1080 with 4 Axes>"
      ]
     },
     "metadata": {
      "needs_background": "light"
     },
     "output_type": "display_data"
    }
   ],
   "source": [
    "fig, (ax1, ax2) = plt.subplots(2, 2, sharex=True, sharey=True, figsize=(15,15))\n",
    "\n",
    "X0, X1 = X_train_large_p[:, 0], X_train_large_p[:, 1]\n",
    "xx, yy = make_meshgrid(X0, X1)\n",
    "\n",
    "model = LogisticRegression(penalty='none', solver='lbfgs', fit_intercept=True)\n",
    "\n",
    "logreg_small = model.fit(X_train_small, Y_train_small)\n",
    "plot_contours(ax1[0], logreg_small, xx, yy, cmap=plt.cm.coolwarm, alpha=.5)\n",
    "ax1[0].scatter(X_train_small[:,0], X_train_small[:,1], cmap=plt.cm.coolwarm, s=20, edgecolors='k', label='Small')\n",
    "ax1[0].set_title('Small')\n",
    "print(logreg_small.coef_)\n",
    "print(logreg_small.intercept_)\n",
    "\n",
    "logreg_large = model.fit(X_train_large, Y_train_large)\n",
    "plot_contours(ax1[1], logreg_large, xx, yy, cmap=plt.cm.coolwarm, alpha=.5)\n",
    "ax1[1].scatter(X_train_large[:,0], X_train_large[:,1], cmap=plt.cm.coolwarm, s=20, edgecolors='k', label='Large')\n",
    "ax1[1].set_title('Large')\n",
    "print(logreg_large.coef_)\n",
    "print(logreg_large.intercept_)\n",
    "\n",
    "logreg_small_p = model.fit(X_train_small_p, Y_train_small_p)\n",
    "plot_contours(ax2[0], logreg_small_p, xx, yy, cmap=plt.cm.coolwarm, alpha=.5)\n",
    "ax2[0].scatter(X_train_small_p[:,0], X_train_small_p[:,1], cmap=plt.cm.coolwarm, s=20, edgecolors='k', label='Small_P')\n",
    "ax2[0].set_title('Small Prime')\n",
    "print(logreg_small_p.coef_)\n",
    "print(logreg_small_p.intercept_)\n",
    "\n",
    "logreg_large_p = model.fit(X_train_large_p, Y_train_large_p)\n",
    "plot_contours(ax2[1], logreg_large_p, xx, yy, cmap=plt.cm.coolwarm, alpha=.5)\n",
    "ax2[1].scatter(X_train_large_p[:,0], X_train_large_p[:,1], cmap=plt.cm.coolwarm, s=20, edgecolors='k', label='Large_P')\n",
    "ax2[1].set_title('Large Prime')\n",
    "print(logreg_large_p.coef_)\n",
    "print(logreg_large_p.intercept_)"
   ]
  },
  {
   "cell_type": "markdown",
   "metadata": {},
   "source": [
    "## SVM"
   ]
  },
  {
   "cell_type": "code",
   "execution_count": 14,
   "metadata": {},
   "outputs": [],
   "source": [
    "data_small = np.genfromtxt('svm_small.csv', delimiter=',')\n",
    "data_large = np.genfromtxt('svm_large.csv', delimiter=',')\n",
    "data_small_p = np.genfromtxt('svm_small_p.csv', delimiter=',')\n",
    "data_large_p = np.genfromtxt('svm_large_p.csv', delimiter=',')"
   ]
  },
  {
   "cell_type": "code",
   "execution_count": 15,
   "metadata": {},
   "outputs": [],
   "source": [
    "X_train_small = data_small[:,:2]\n",
    "Y_train_small = data_small[:,2]\n",
    "X_train_large = data_large[:,:2]\n",
    "Y_train_large = data_large[:,2]\n",
    "X_train_small_p = data_small_p[:,:2]\n",
    "Y_train_small_p = data_small_p[:,2]\n",
    "X_train_large_p = data_large_p[:,:2]\n",
    "Y_train_large_p = data_large_p[:,2]"
   ]
  },
  {
   "cell_type": "code",
   "execution_count": 16,
   "metadata": {},
   "outputs": [
    {
     "data": {
      "text/plain": [
       "Text(0.5, 1.0, 'Large Prime')"
      ]
     },
     "execution_count": 16,
     "metadata": {},
     "output_type": "execute_result"
    },
    {
     "data": {
      "image/png": "[encoded data removed]",
      "text/plain": [
       "<Figure size 1080x1080 with 4 Axes>"
      ]
     },
     "metadata": {
      "needs_background": "light"
     },
     "output_type": "display_data"
    }
   ],
   "source": [
    "fig, (ax1, ax2) = plt.subplots(2, 2, sharex=True, sharey=True, figsize=(15,15))\n",
    "\n",
    "X0, X1 = X_train_large[:, 0], X_train_large[:, 1]\n",
    "xx, yy = make_meshgrid(X0, X1)\n",
    "\n",
    "model = SVC(kernel='linear')\n",
    "\n",
    "svm_small = model.fit(X_train_small, Y_train_small)\n",
    "plot_contours(ax1[0], svm_small, xx, yy, cmap=plt.cm.coolwarm, alpha=.5)\n",
    "ax1[0].scatter(X_train_small[:,0], X_train_small[:,1], cmap=plt.cm.coolwarm, s=20, edgecolors='k', label='Small')\n",
    "ax1[0].set_title('Small')\n",
    "\n",
    "svm_large = model.fit(X_train_large, Y_train_large)\n",
    "plot_contours(ax1[1], svm_large, xx, yy, cmap=plt.cm.coolwarm, alpha=.5)\n",
    "ax1[1].scatter(X_train_large[:,0], X_train_large[:,1], cmap=plt.cm.coolwarm, s=20, edgecolors='k', label='Large')\n",
    "ax1[1].set_title('Large')\n",
    "\n",
    "svm_small_p = model.fit(X_train_small_p, Y_train_small_p)\n",
    "plot_contours(ax2[0], svm_small_p, xx, yy, cmap=plt.cm.coolwarm, alpha=.5)\n",
    "ax2[0].scatter(X_train_small_p[:,0], X_train_small_p[:,1], cmap=plt.cm.coolwarm, s=20, edgecolors='k', label='Small_P')\n",
    "ax2[0].set_title('Small Prime')\n",
    "\n",
    "svm_large_p = model.fit(X_train_large_p, Y_train_large_p)\n",
    "plot_contours(ax2[1], svm_large_p, xx, yy, cmap=plt.cm.coolwarm, alpha=.5)\n",
    "ax2[1].scatter(X_train_large_p[:,0], X_train_large_p[:,1], cmap=plt.cm.coolwarm, s=20, edgecolors='k', label='Large_P')\n",
    "ax2[1].set_title('Large Prime')\n"
   ]
  },
  {
   "cell_type": "markdown",
   "metadata": {},
   "source": [
    "## Perceptron"
   ]
  },
  {
   "cell_type": "code",
   "execution_count": 23,
   "metadata": {},
   "outputs": [],
   "source": [
    "data_small = np.genfromtxt('svm_small.csv', delimiter=',')"
   ]
  },
  {
   "cell_type": "code",
   "execution_count": 24,
   "metadata": {},
   "outputs": [],
   "source": [
    "X_train_small = data_small[:,:2]\n",
    "Y_train_small = data_small[:,2]"
   ]
  },
  {
   "cell_type": "code",
   "execution_count": 25,
   "metadata": {},
   "outputs": [
    {
     "data": {
      "text/plain": [
       "Perceptron(alpha=0.0001, class_weight=None, early_stopping=False, eta0=1.0,\n",
       "           fit_intercept=True, max_iter=1000, n_iter_no_change=5, n_jobs=None,\n",
       "           penalty=None, random_state=0, shuffle=True, tol=0.001,\n",
       "           validation_fraction=0.1, verbose=0, warm_start=False)"
      ]
     },
     "execution_count": 25,
     "metadata": {},
     "output_type": "execute_result"
    }
   ],
   "source": [
    "ptm = Perceptron()\n",
    "ptm.fit(X_train_small, Y_train_small)"
   ]
  },
  {
   "cell_type": "code",
   "execution_count": 27,
   "metadata": {},
   "outputs": [
    {
     "data": {
      "text/plain": [
       "Text(0.5, 1.0, 'Small')"
      ]
     },
     "execution_count": 27,
     "metadata": {},
     "output_type": "execute_result"
    },
    {
     "data": {
      "image/png": "[encoded data removed]",
      "text/plain": [
       "<Figure size 1080x1080 with 4 Axes>"
      ]
     },
     "metadata": {
      "needs_background": "light"
     },
     "output_type": "display_data"
    }
   ],
   "source": [
    "fig, (ax1, ax2) = plt.subplots(2,2, sharex=True, sharey=True, figsize=(15,15))\n",
    "plot_contours(ax1[0], ptm, xx, yy, cmap=plt.cm.coolwarm, alpha=.5)\n",
    "ax1[0].scatter(X_train_small[:,0], X_train_small[:,1], cmap=plt.cm.coolwarm, s=20, edgecolors='k', label='Small')\n",
    "ax1[0].set_title('Small')"
   ]
  },
  {
   "cell_type": "markdown",
   "metadata": {},
   "source": [
    "## Decision Trees (needs some thinking about dataset)"
   ]
  },
  {
   "cell_type": "code",
   "execution_count": null,
   "metadata": {},
   "outputs": [],
   "source": [
    "data_small = np.genfromtxt('dt_small.csv', delimiter=',')\n",
    "data_large = np.genfromtxt('dt_large.csv', delimiter=',')\n",
    "data_small_p = np.genfromtxt('dt_small_p.csv', delimiter=',')\n",
    "data_large_p = np.genfromtxt('dt_large_p.csv', delimiter=',')"
   ]
  },
  {
   "cell_type": "code",
   "execution_count": null,
   "metadata": {},
   "outputs": [],
   "source": []
  },
  {
   "cell_type": "code",
   "execution_count": null,
   "metadata": {},
   "outputs": [],
   "source": []
  },
  {
   "cell_type": "markdown",
   "metadata": {},
   "source": [
    "## Misc"
   ]
  },
  {
   "cell_type": "code",
   "execution_count": 18,
   "metadata": {},
   "outputs": [
    {
     "ename": "FileNotFoundError",
     "evalue": "[Errno 2] File b'dataset_small.csv' does not exist: b'dataset_small.csv'",
     "output_type": "error",
     "traceback": [
      "\u001b[0;31m---------------------------------------------------------------------------\u001b[0m",
      "\u001b[0;31mFileNotFoundError\u001b[0m                         Traceback (most recent call last)",
      "\u001b[0;32m<ipython-input-18-eec61bf1c141>\u001b[0m in \u001b[0;36m<module>\u001b[0;34m\u001b[0m\n\u001b[0;32m----> 1\u001b[0;31m \u001b[0mdata_small\u001b[0m \u001b[0;34m=\u001b[0m \u001b[0mpd\u001b[0m\u001b[0;34m.\u001b[0m\u001b[0mread_csv\u001b[0m\u001b[0;34m(\u001b[0m\u001b[0;34m'dataset_small.csv'\u001b[0m\u001b[0;34m)\u001b[0m\u001b[0;34m\u001b[0m\u001b[0;34m\u001b[0m\u001b[0m\n\u001b[0m\u001b[1;32m      2\u001b[0m \u001b[0mdata_large\u001b[0m \u001b[0;34m=\u001b[0m \u001b[0mpd\u001b[0m\u001b[0;34m.\u001b[0m\u001b[0mread_csv\u001b[0m\u001b[0;34m(\u001b[0m\u001b[0;34m'dataset_large.csv'\u001b[0m\u001b[0;34m)\u001b[0m\u001b[0;34m\u001b[0m\u001b[0;34m\u001b[0m\u001b[0m\n\u001b[1;32m      3\u001b[0m \u001b[0;34m\u001b[0m\u001b[0m\n\u001b[1;32m      4\u001b[0m \u001b[0mX_train_small\u001b[0m \u001b[0;34m=\u001b[0m \u001b[0mdata_small\u001b[0m\u001b[0;34m.\u001b[0m\u001b[0mloc\u001b[0m\u001b[0;34m[\u001b[0m\u001b[0;34m:\u001b[0m\u001b[0;34m,\u001b[0m\u001b[0;34m[\u001b[0m\u001b[0;34m'Feature 1'\u001b[0m\u001b[0;34m,\u001b[0m \u001b[0;34m'Feature 2'\u001b[0m\u001b[0;34m]\u001b[0m\u001b[0;34m]\u001b[0m\u001b[0;34m\u001b[0m\u001b[0;34m\u001b[0m\u001b[0m\n\u001b[1;32m      5\u001b[0m \u001b[0mY_train_small\u001b[0m \u001b[0;34m=\u001b[0m \u001b[0mdata_small\u001b[0m\u001b[0;34m.\u001b[0m\u001b[0mloc\u001b[0m\u001b[0;34m[\u001b[0m\u001b[0;34m:\u001b[0m\u001b[0;34m,\u001b[0m\u001b[0;34m[\u001b[0m\u001b[0;34m'Potato'\u001b[0m\u001b[0;34m]\u001b[0m\u001b[0;34m]\u001b[0m\u001b[0;34m\u001b[0m\u001b[0;34m\u001b[0m\u001b[0m\n",
      "\u001b[0;32m/anaconda3/envs/cds/lib/python3.7/site-packages/pandas/io/parsers.py\u001b[0m in \u001b[0;36mparser_f\u001b[0;34m(filepath_or_buffer, sep, delimiter, header, names, index_col, usecols, squeeze, prefix, mangle_dupe_cols, dtype, engine, converters, true_values, false_values, skipinitialspace, skiprows, skipfooter, nrows, na_values, keep_default_na, na_filter, verbose, skip_blank_lines, parse_dates, infer_datetime_format, keep_date_col, date_parser, dayfirst, iterator, chunksize, compression, thousands, decimal, lineterminator, quotechar, quoting, doublequote, escapechar, comment, encoding, dialect, tupleize_cols, error_bad_lines, warn_bad_lines, delim_whitespace, low_memory, memory_map, float_precision)\u001b[0m\n\u001b[1;32m    700\u001b[0m                     skip_blank_lines=skip_blank_lines)\n\u001b[1;32m    701\u001b[0m \u001b[0;34m\u001b[0m\u001b[0m\n\u001b[0;32m--> 702\u001b[0;31m         \u001b[0;32mreturn\u001b[0m \u001b[0m_read\u001b[0m\u001b[0;34m(\u001b[0m\u001b[0mfilepath_or_buffer\u001b[0m\u001b[0;34m,\u001b[0m \u001b[0mkwds\u001b[0m\u001b[0;34m)\u001b[0m\u001b[0;34m\u001b[0m\u001b[0;34m\u001b[0m\u001b[0m\n\u001b[0m\u001b[1;32m    703\u001b[0m \u001b[0;34m\u001b[0m\u001b[0m\n\u001b[1;32m    704\u001b[0m     \u001b[0mparser_f\u001b[0m\u001b[0;34m.\u001b[0m\u001b[0m__name__\u001b[0m \u001b[0;34m=\u001b[0m \u001b[0mname\u001b[0m\u001b[0;34m\u001b[0m\u001b[0;34m\u001b[0m\u001b[0m\n",
      "\u001b[0;32m/anaconda3/envs/cds/lib/python3.7/site-packages/pandas/io/parsers.py\u001b[0m in \u001b[0;36m_read\u001b[0;34m(filepath_or_buffer, kwds)\u001b[0m\n\u001b[1;32m    427\u001b[0m \u001b[0;34m\u001b[0m\u001b[0m\n\u001b[1;32m    428\u001b[0m     \u001b[0;31m# Create the parser.\u001b[0m\u001b[0;34m\u001b[0m\u001b[0;34m\u001b[0m\u001b[0;34m\u001b[0m\u001b[0m\n\u001b[0;32m--> 429\u001b[0;31m     \u001b[0mparser\u001b[0m \u001b[0;34m=\u001b[0m \u001b[0mTextFileReader\u001b[0m\u001b[0;34m(\u001b[0m\u001b[0mfilepath_or_buffer\u001b[0m\u001b[0;34m,\u001b[0m \u001b[0;34m**\u001b[0m\u001b[0mkwds\u001b[0m\u001b[0;34m)\u001b[0m\u001b[0;34m\u001b[0m\u001b[0;34m\u001b[0m\u001b[0m\n\u001b[0m\u001b[1;32m    430\u001b[0m \u001b[0;34m\u001b[0m\u001b[0m\n\u001b[1;32m    431\u001b[0m     \u001b[0;32mif\u001b[0m \u001b[0mchunksize\u001b[0m \u001b[0;32mor\u001b[0m \u001b[0miterator\u001b[0m\u001b[0;34m:\u001b[0m\u001b[0;34m\u001b[0m\u001b[0;34m\u001b[0m\u001b[0m\n",
      "\u001b[0;32m/anaconda3/envs/cds/lib/python3.7/site-packages/pandas/io/parsers.py\u001b[0m in \u001b[0;36m__init__\u001b[0;34m(self, f, engine, **kwds)\u001b[0m\n\u001b[1;32m    893\u001b[0m             \u001b[0mself\u001b[0m\u001b[0;34m.\u001b[0m\u001b[0moptions\u001b[0m\u001b[0;34m[\u001b[0m\u001b[0;34m'has_index_names'\u001b[0m\u001b[0;34m]\u001b[0m \u001b[0;34m=\u001b[0m \u001b[0mkwds\u001b[0m\u001b[0;34m[\u001b[0m\u001b[0;34m'has_index_names'\u001b[0m\u001b[0;34m]\u001b[0m\u001b[0;34m\u001b[0m\u001b[0;34m\u001b[0m\u001b[0m\n\u001b[1;32m    894\u001b[0m \u001b[0;34m\u001b[0m\u001b[0m\n\u001b[0;32m--> 895\u001b[0;31m         \u001b[0mself\u001b[0m\u001b[0;34m.\u001b[0m\u001b[0m_make_engine\u001b[0m\u001b[0;34m(\u001b[0m\u001b[0mself\u001b[0m\u001b[0;34m.\u001b[0m\u001b[0mengine\u001b[0m\u001b[0;34m)\u001b[0m\u001b[0;34m\u001b[0m\u001b[0;34m\u001b[0m\u001b[0m\n\u001b[0m\u001b[1;32m    896\u001b[0m \u001b[0;34m\u001b[0m\u001b[0m\n\u001b[1;32m    897\u001b[0m     \u001b[0;32mdef\u001b[0m \u001b[0mclose\u001b[0m\u001b[0;34m(\u001b[0m\u001b[0mself\u001b[0m\u001b[0;34m)\u001b[0m\u001b[0;34m:\u001b[0m\u001b[0;34m\u001b[0m\u001b[0;34m\u001b[0m\u001b[0m\n",
      "\u001b[0;32m/anaconda3/envs/cds/lib/python3.7/site-packages/pandas/io/parsers.py\u001b[0m in \u001b[0;36m_make_engine\u001b[0;34m(self, engine)\u001b[0m\n\u001b[1;32m   1120\u001b[0m     \u001b[0;32mdef\u001b[0m \u001b[0m_make_engine\u001b[0m\u001b[0;34m(\u001b[0m\u001b[0mself\u001b[0m\u001b[0;34m,\u001b[0m \u001b[0mengine\u001b[0m\u001b[0;34m=\u001b[0m\u001b[0;34m'c'\u001b[0m\u001b[0;34m)\u001b[0m\u001b[0;34m:\u001b[0m\u001b[0;34m\u001b[0m\u001b[0;34m\u001b[0m\u001b[0m\n\u001b[1;32m   1121\u001b[0m         \u001b[0;32mif\u001b[0m \u001b[0mengine\u001b[0m \u001b[0;34m==\u001b[0m \u001b[0;34m'c'\u001b[0m\u001b[0;34m:\u001b[0m\u001b[0;34m\u001b[0m\u001b[0;34m\u001b[0m\u001b[0m\n\u001b[0;32m-> 1122\u001b[0;31m             \u001b[0mself\u001b[0m\u001b[0;34m.\u001b[0m\u001b[0m_engine\u001b[0m \u001b[0;34m=\u001b[0m \u001b[0mCParserWrapper\u001b[0m\u001b[0;34m(\u001b[0m\u001b[0mself\u001b[0m\u001b[0;34m.\u001b[0m\u001b[0mf\u001b[0m\u001b[0;34m,\u001b[0m \u001b[0;34m**\u001b[0m\u001b[0mself\u001b[0m\u001b[0;34m.\u001b[0m\u001b[0moptions\u001b[0m\u001b[0;34m)\u001b[0m\u001b[0;34m\u001b[0m\u001b[0;34m\u001b[0m\u001b[0m\n\u001b[0m\u001b[1;32m   1123\u001b[0m         \u001b[0;32melse\u001b[0m\u001b[0;34m:\u001b[0m\u001b[0;34m\u001b[0m\u001b[0;34m\u001b[0m\u001b[0m\n\u001b[1;32m   1124\u001b[0m             \u001b[0;32mif\u001b[0m \u001b[0mengine\u001b[0m \u001b[0;34m==\u001b[0m \u001b[0;34m'python'\u001b[0m\u001b[0;34m:\u001b[0m\u001b[0;34m\u001b[0m\u001b[0;34m\u001b[0m\u001b[0m\n",
      "\u001b[0;32m/anaconda3/envs/cds/lib/python3.7/site-packages/pandas/io/parsers.py\u001b[0m in \u001b[0;36m__init__\u001b[0;34m(self, src, **kwds)\u001b[0m\n\u001b[1;32m   1851\u001b[0m         \u001b[0mkwds\u001b[0m\u001b[0;34m[\u001b[0m\u001b[0;34m'usecols'\u001b[0m\u001b[0;34m]\u001b[0m \u001b[0;34m=\u001b[0m \u001b[0mself\u001b[0m\u001b[0;34m.\u001b[0m\u001b[0musecols\u001b[0m\u001b[0;34m\u001b[0m\u001b[0;34m\u001b[0m\u001b[0m\n\u001b[1;32m   1852\u001b[0m \u001b[0;34m\u001b[0m\u001b[0m\n\u001b[0;32m-> 1853\u001b[0;31m         \u001b[0mself\u001b[0m\u001b[0;34m.\u001b[0m\u001b[0m_reader\u001b[0m \u001b[0;34m=\u001b[0m \u001b[0mparsers\u001b[0m\u001b[0;34m.\u001b[0m\u001b[0mTextReader\u001b[0m\u001b[0;34m(\u001b[0m\u001b[0msrc\u001b[0m\u001b[0;34m,\u001b[0m \u001b[0;34m**\u001b[0m\u001b[0mkwds\u001b[0m\u001b[0;34m)\u001b[0m\u001b[0;34m\u001b[0m\u001b[0;34m\u001b[0m\u001b[0m\n\u001b[0m\u001b[1;32m   1854\u001b[0m         \u001b[0mself\u001b[0m\u001b[0;34m.\u001b[0m\u001b[0munnamed_cols\u001b[0m \u001b[0;34m=\u001b[0m \u001b[0mself\u001b[0m\u001b[0;34m.\u001b[0m\u001b[0m_reader\u001b[0m\u001b[0;34m.\u001b[0m\u001b[0munnamed_cols\u001b[0m\u001b[0;34m\u001b[0m\u001b[0;34m\u001b[0m\u001b[0m\n\u001b[1;32m   1855\u001b[0m \u001b[0;34m\u001b[0m\u001b[0m\n",
      "\u001b[0;32mpandas/_libs/parsers.pyx\u001b[0m in \u001b[0;36mpandas._libs.parsers.TextReader.__cinit__\u001b[0;34m()\u001b[0m\n",
      "\u001b[0;32mpandas/_libs/parsers.pyx\u001b[0m in \u001b[0;36mpandas._libs.parsers.TextReader._setup_parser_source\u001b[0;34m()\u001b[0m\n",
      "\u001b[0;31mFileNotFoundError\u001b[0m: [Errno 2] File b'dataset_small.csv' does not exist: b'dataset_small.csv'"
     ]
    }
   ],
   "source": [
    "data_small = pd.read_csv('dataset_small.csv')\n",
    "data_large = pd.read_csv('dataset_large.csv')\n",
    "\n",
    "X_train_small = data_small.loc[:,['Feature 1', 'Feature 2']]\n",
    "Y_train_small = data_small.loc[:,['Potato']]\n",
    "Y_train_small = Y_train_small.values.reshape(X_train_small.shape[0],)\n",
    "X_train_large = data_large.loc[:,['Feature 1', 'Feature 2']]\n",
    "Y_train_large = data_large.loc[:,['Potato']]\n",
    "Y_train_large = Y_train_large.values.reshape(X_train_large.shape[0],)\n",
    "\n",
    "logreg_small = LogisticRegression(penalty='none',solver='lbfgs', fit_intercept=True)\n",
    "logreg_small.fit(X_train_small, Y_train_small)\n",
    "logreg_large = LogisticRegression(penalty='none',solver='lbfgs', fit_intercept=True)\n",
    "logreg_large.fit(X_train_large, Y_train_large)\n",
    "\n",
    "not_potato_small = X_train_small.loc[~data_small['Potato']]\n",
    "potato_small = X_train_small.loc[data_small['Potato']]\n",
    "not_potato_large = X_train_large.loc[~data_large['Potato']]\n",
    "potato_large = X_train_large.loc[data_large['Potato']]\n",
    "\n",
    "np.arange(-1.0,3.0,.1)\n",
    "\n",
    "plt.scatter(not_potato_small.iloc[:,0], not_potato_small.iloc[:,1], s=10, label='Not potato small')\n",
    "plt.scatter(potato_small.iloc[:,0], potato_small.iloc[:,1], s=10, label='Potato small')\n",
    "parameters_small = logreg_small.intercept_.tolist()\n",
    "parameters_small.extend(logreg_small.coef_[0])\n",
    "x_values_small = [-10,10]\n",
    "y_values_small = - (parameters_small[0] + np.dot(parameters_small[1], x_values_small)) / parameters_small[2]\n",
    "plt.plot(x_values_small, y_values_small, label='Decision Boundary small')\n",
    "\n",
    "plt.scatter(not_potato_large.iloc[:,0], not_potato_large.iloc[:,1], s=10, label='Not Potato large')\n",
    "plt.scatter(potato_large.iloc[:,0], potato_large.iloc[:,1], s=10, label='Potato large')\n",
    "parameters_large = logreg_large.intercept_.tolist()\n",
    "parameters_large.extend(logreg_large.coef_[0])\n",
    "x_values_large = [-20,20]\n",
    "#x_values = np.arange(-5.0,7.0,.1)\n",
    "y_values_large = - (parameters_large[0] + np.dot(parameters_large[1], x_values_large)) / parameters_large[2]\n",
    "plt.plot(x_values_large, y_values_large, label='Decision Boundary large')\n",
    "\n",
    "\n",
    "plt.legend()\n",
    "plt.show()\n",
    "\n",
    "parameters_small\n",
    "\n",
    "parameters_large\n"
   ]
  },
  {
   "cell_type": "code",
   "execution_count": null,
   "metadata": {},
   "outputs": [],
   "source": []
  }
 ],
 "metadata": {
  "kernelspec": {
   "display_name": "Python 3",
   "language": "python",
   "name": "python3"
  },
  "language_info": {
   "codemirror_mode": {
    "name": "ipython",
    "version": 3
   },
   "file_extension": ".py",
   "mimetype": "text/x-python",
   "name": "python",
   "nbconvert_exporter": "python",
   "pygments_lexer": "ipython3",
   "version": "3.7.4"
  }
 },
 "nbformat": 4,
 "nbformat_minor": 2
}
