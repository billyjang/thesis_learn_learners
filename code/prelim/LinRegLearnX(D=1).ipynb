{
 "cells": [
  {
   "cell_type": "code",
   "execution_count": 1,
   "metadata": {},
   "outputs": [],
   "source": [
    "import numpy as np\n",
    "import pandas as pd\n",
    "import matplotlib.pyplot as plt\n",
    "from sklearn.linear_model import LinearRegression\n",
    "import math\n",
    "import seaborn as sns; sns.set()"
   ]
  },
  {
   "cell_type": "code",
   "execution_count": 2,
   "metadata": {},
   "outputs": [],
   "source": [
    "def read_data(data):\n",
    "    pts = np.genfromtxt(data, delimiter=',')\n",
    "    try:\n",
    "        d = len(pts[0]) - 1\n",
    "        n = len(pts)\n",
    "        X = pts[:,:-1]\n",
    "        y = pts[:,-1:]\n",
    "    except:\n",
    "        d = len(pts) - 1\n",
    "        n = 1\n",
    "        X = pts[:-1].reshape(n,d)\n",
    "        y = pts[-1].reshape(n,1)\n",
    "    return(X,y)"
   ]
  },
  {
   "cell_type": "code",
   "execution_count": 3,
   "metadata": {},
   "outputs": [],
   "source": [
    "def make_meshgrid(x, y, h=.02):\n",
    "    x_min, x_max = x.min() - 1, x.max() + 1\n",
    "    y_min, y_max = y.min() - 1, y.max() + 1\n",
    "    xx, yy = np.meshgrid(np.arange(x_min, x_max, h), np.arange(y_min, y_max, h))\n",
    "    return xx, yy\n",
    "\n",
    "def plot_contours(ax, clf, xx, yy, **params):\n",
    "    Z = clf.predict(np.c_[xx.ravel(), yy.ravel()])\n",
    "    Z = Z.reshape(xx.shape)\n",
    "    out = ax.contourf(xx, yy, Z, **params)\n",
    "    return out"
   ]
  },
  {
   "cell_type": "code",
   "execution_count": 4,
   "metadata": {},
   "outputs": [],
   "source": [
    "def plot_dbl_graph(xy, xy_p):\n",
    "    # maybe create a version of this that just takes in the X,y,X_p,y_p values, or a func that reads that also\n",
    "    X = [a[0] for a in xy]\n",
    "    y = [a[1] for a in xy]\n",
    "    X_p = [a[0] for a in xy_p]\n",
    "    y_p = [a[1] for a in xy_p]\n",
    "    fig, (ax1,ax2) = plt.subplots(1, 2, sharex=True, sharey=True, figsize=(15,5))\n",
    "    ax1.scatter(X,y)\n",
    "    ax2.scatter(X_p, y_p)\n",
    "    return fig, (ax1,ax2)"
   ]
  },
  {
   "cell_type": "code",
   "execution_count": 5,
   "metadata": {},
   "outputs": [],
   "source": [
    "#maybe redo this.\n",
    "#need to change the min max stuff i think\n",
    "def single_pt_graph(X, y, X_p, y_p, lines=False):\n",
    "    # right now only works for single dimension I think? Just need an extra case\n",
    "    \n",
    "    # create plot\n",
    "    fig, (ax1, ax2) = plt.subplots(1, 2, sharex=True, sharey=True, figsize=(15, 5))\n",
    "    \n",
    "    # scatter pts\n",
    "    ax1.scatter(X, y)\n",
    "    ax2.scatter(X_p, y_p)\n",
    "    \n",
    "    # model\n",
    "    lm1 = LinearRegression(fit_intercept=False)\n",
    "    lm1.fit(X,y)\n",
    "    \n",
    "    # fit first model\n",
    "    x_values = 0, X_p.max() + 1\n",
    "    y = [lm1.coef_[0] * x for x in x_values]\n",
    "    ax1.plot(x_values, y)\n",
    "    # set title\n",
    "    ax1.set_title(str(lm1.coef_[0]))\n",
    "    \n",
    "    # 2nd model\n",
    "    lm2 = LinearRegression(fit_intercept=False)\n",
    "    lm2.fit(X_p, y_p)\n",
    "    \n",
    "    # fit second model\n",
    "    x_values = 0, X_p.max() + 1\n",
    "    #y = [lm2.intercept_ + lm2.coef_ * x for x in x_values]\n",
    "    y = [lm2.coef_[0] * x for x in x_values]\n",
    "    ax2.set_title(str(lm2.coef_[0]))\n",
    "    ax2.plot(x_values, y)\n",
    "    \n",
    "    return fig, (ax1, ax2)"
   ]
  },
  {
   "cell_type": "code",
   "execution_count": 6,
   "metadata": {},
   "outputs": [],
   "source": [
    "def extend_ds(X, y, X_p, y_p, pt):\n",
    "    #fix these\n",
    "    newx, newy = pt[0], pt[1]\n",
    "    X = np.append(X, [[newx]], axis=0)\n",
    "    y = np.append(y, [[newy]], axis=0)\n",
    "    X_p = np.append(X_p, [[newx]], axis=0)\n",
    "    y_p = np.append(y_p, [[newy]], axis=0)\n",
    "    return X,y,X_p,y_p"
   ]
  },
  {
   "cell_type": "code",
   "execution_count": 7,
   "metadata": {},
   "outputs": [],
   "source": [
    "def extend_ds_single(X, y, pt):\n",
    "    newx, newy = pt[0], pt[1]\n",
    "    X = np.append(X, [[newx]], axis=0)\n",
    "    y = np.append(y, [[newy]], axis=0)\n",
    "    return X, y"
   ]
  },
  {
   "cell_type": "code",
   "execution_count": 8,
   "metadata": {},
   "outputs": [],
   "source": [
    "def vary_x(X, y, X_p, y_p, n, pt_0):\n",
    "    coef = []\n",
    "    coef_p = []\n",
    "    x_0, y_0 = pt_0[0], pt_0[1]\n",
    "    for i in range(n):\n",
    "        ex_X, ex_y, ex_X_p, ex_y_p = extend_ds(X, y, X_p, y_p, (x_0+i, y_0))\n",
    "        lm = LinearRegression(fit_intercept=False)\n",
    "        lm_p = LinearRegression(fit_intercept=False)\n",
    "        lm.fit(ex_X, ex_y)\n",
    "        lm_p.fit(ex_X_p, ex_y_p)\n",
    "        coef.append((x_0+i, lm.coef_[0]))\n",
    "        coef_p.append((x_0+i, lm_p.coef_[0]))\n",
    "    return np.asarray(coef), np.asarray(coef_p)"
   ]
  },
  {
   "cell_type": "code",
   "execution_count": 9,
   "metadata": {},
   "outputs": [],
   "source": [
    "def vary_y(X, y, X_p, y_p, n, pt_0):\n",
    "    coef = []\n",
    "    coef_p = []\n",
    "    x_0, y_0 = pt_0[0], pt_0[1]\n",
    "    for i in range(n):\n",
    "        ex_X, ex_y, ex_X_p, ex_y_p = extend_ds(X, y, X_p, y_p, (x_0, y_0+i))\n",
    "        lm = LinearRegression(fit_intercept=False)\n",
    "        lm_p = LinearRegression(fit_intercept=False)\n",
    "        lm.fit(ex_X, ex_y)\n",
    "        lm_p.fit(ex_X_p, ex_y_p)\n",
    "        coef.append((y_0+i, lm.coef_[0]))\n",
    "        coef_p.append((y_0+i, lm_p.coef_[0]))\n",
    "    return np.asarray(coef), np.asarray(coef_p)"
   ]
  },
  {
   "cell_type": "code",
   "execution_count": 10,
   "metadata": {},
   "outputs": [],
   "source": [
    "def apply_transform(coef, func):\n",
    "    # need to make more robust\n",
    "    n = len(coef)\n",
    "    transformed_values = np.apply_along_axis(func, 0, coef[:,1])\n",
    "    values = np.asarray([transformed_values[i][0] for i in range(n)])\n",
    "    coef = np.append(coef[:,0].reshape(50,1), values.reshape(50,1), axis=1)\n",
    "    return coef"
   ]
  },
  {
   "cell_type": "code",
   "execution_count": 11,
   "metadata": {},
   "outputs": [],
   "source": [
    "def fit_coef(coef, coef_p):\n",
    "    lm = LinearRegression(fit_intercept=False)\n",
    "    X = np.asarray([a[0] for a in coef])\n",
    "    y = np.asarray([a[1] for a in coef])\n",
    "    X_p = np.asarray([a[0] for a in coef_p])\n",
    "    y_p = np.asarray([a[1] for a in coef_p])\n",
    "    \n",
    "    lm.fit(X.reshape(-1,1),y)\n",
    "    print(lm.coef_, lm.score(X.reshape(-1,1),y))\n",
    "    \n",
    "    lm.fit(X_p.reshape(-1,1), y_p)\n",
    "    print(lm.coef_, lm.score(X.reshape(-1,1),y))"
   ]
  },
  {
   "cell_type": "code",
   "execution_count": 12,
   "metadata": {},
   "outputs": [],
   "source": [
    "def heat_map(X, y, X_p, y_p):\n",
    "    fig, (ax1,ax2) = plt.subplots(1, 2, sharex = True, sharey=True, figsize = (15,5))\n",
    "    \n",
    "    minX, maxX = int(X_p.min() - X_p.max()), int(X_p.max() + X_p.max())\n",
    "    \n",
    "    lm = LinearRegression(fit_intercept=False)\n",
    "    lm.fit(X, y)\n",
    "    \n",
    "    starter = lm.coef_[0]\n",
    "    change = np.zeros((maxX-minX+1, maxX-minX+1))\n",
    "    \n",
    "    lm_p = LinearRegression(fit_intercept=False)\n",
    "    lm_p.fit(X_p, y_p)\n",
    "    \n",
    "    starter_p = lm_p.coef_[0]\n",
    "    change_p = np.zeros((maxX-minX+1, maxX-minX+1))\n",
    "    \n",
    "    for i in range(minX, maxX):\n",
    "        for j in range(minX, maxX):\n",
    "            tmp_X, tmp_y, tmp_Xp, tmp_yp = extend_ds(X, y, X_p, y_p, (i,j))\n",
    "            \n",
    "            lm.fit(tmp_X, tmp_y)\n",
    "            change[i,j] = math.fabs(lm.coef_[0] - starter)\n",
    "            \n",
    "            lm_p.fit(tmp_Xp, tmp_yp)\n",
    "            change_p[i,j] = math.fabs(lm_p.coef_[0] - starter_p)\n",
    "\n",
    "    sns.heatmap(change, ax=ax1)\n",
    "    sns.heatmap(change_p, ax=ax2)\n",
    "    ax1.invert_yaxis()\n",
    "    return fig, (ax1,ax2)"
   ]
  },
  {
   "cell_type": "markdown",
   "metadata": {},
   "source": [
    "## Learn X from betas"
   ]
  },
  {
   "cell_type": "markdown",
   "metadata": {},
   "source": [
    "## Motivating ex (pt out far)"
   ]
  },
  {
   "cell_type": "code",
   "execution_count": 13,
   "metadata": {},
   "outputs": [],
   "source": [
    "X,y = read_data('LinRegLearnX_ds3.csv')\n",
    "X_p,y_p = read_data('LinRegLearnX_ds4.csv')"
   ]
  },
  {
   "cell_type": "code",
   "execution_count": 14,
   "metadata": {},
   "outputs": [
    {
     "data": {
      "image/png": "[encoded data removed]",
      "text/plain": [
       "<Figure size 1080x360 with 2 Axes>"
      ]
     },
     "metadata": {
      "needs_background": "light"
     },
     "output_type": "display_data"
    }
   ],
   "source": [
    "fig, (ax1,ax2) = single_pt_graph(X,y,X_p,y_p)"
   ]
  },
  {
   "cell_type": "code",
   "execution_count": 15,
   "metadata": {},
   "outputs": [],
   "source": [
    "tmp_X, tmp_y, tmp_Xp, tmp_yp = extend_ds(X, y, X_p, y_p, (21, 22))"
   ]
  },
  {
   "cell_type": "code",
   "execution_count": 16,
   "metadata": {},
   "outputs": [
    {
     "data": {
      "image/png": "[encoded data removed]",
      "text/plain": [
       "<Figure size 1080x360 with 2 Axes>"
      ]
     },
     "metadata": {
      "needs_background": "light"
     },
     "output_type": "display_data"
    }
   ],
   "source": [
    "fig, (ax1,ax2) = single_pt_graph(tmp_X, tmp_y, tmp_Xp, tmp_yp)"
   ]
  },
  {
   "cell_type": "code",
   "execution_count": 17,
   "metadata": {},
   "outputs": [],
   "source": [
    "## what happens when you add a point on one that moves it up and another that moves it down on the second graph\n",
    "## and then you add second pt that counteracts so each line is the same again"
   ]
  },
  {
   "cell_type": "markdown",
   "metadata": {},
   "source": [
    "## Vary x"
   ]
  },
  {
   "cell_type": "code",
   "execution_count": 18,
   "metadata": {},
   "outputs": [],
   "source": [
    "coef, coef_p = vary_x(X, y, X_p, y_p, 50, (21,22))"
   ]
  },
  {
   "cell_type": "code",
   "execution_count": 19,
   "metadata": {},
   "outputs": [
    {
     "data": {
      "text/plain": [
       "(<Figure size 1080x360 with 2 Axes>,\n",
       " (<matplotlib.axes._subplots.AxesSubplot at 0x1a1cfe8390>,\n",
       "  <matplotlib.axes._subplots.AxesSubplot at 0x1a1d016f10>))"
      ]
     },
     "execution_count": 19,
     "metadata": {},
     "output_type": "execute_result"
    },
    {
     "data": {
      "image/png": "[encoded data removed]",
      "text/plain": [
       "<Figure size 1080x360 with 2 Axes>"
      ]
     },
     "metadata": {
      "needs_background": "light"
     },
     "output_type": "display_data"
    }
   ],
   "source": [
    "plot_dbl_graph(coef, coef_p)"
   ]
  },
  {
   "cell_type": "markdown",
   "metadata": {},
   "source": [
    "## Vary y"
   ]
  },
  {
   "cell_type": "code",
   "execution_count": 20,
   "metadata": {},
   "outputs": [],
   "source": [
    "coef, coef_p = vary_y(X, y, X_p, y_p, 50, (21,22))"
   ]
  },
  {
   "cell_type": "code",
   "execution_count": 21,
   "metadata": {},
   "outputs": [
    {
     "data": {
      "text/plain": [
       "(<Figure size 1080x360 with 2 Axes>,\n",
       " (<matplotlib.axes._subplots.AxesSubplot at 0x1a1d1cecd0>,\n",
       "  <matplotlib.axes._subplots.AxesSubplot at 0x1a1d303cd0>))"
      ]
     },
     "execution_count": 21,
     "metadata": {},
     "output_type": "execute_result"
    },
    {
     "data": {
      "image/png": "[encoded data removed]",
      "text/plain": [
       "<Figure size 1080x360 with 2 Axes>"
      ]
     },
     "metadata": {
      "needs_background": "light"
     },
     "output_type": "display_data"
    }
   ],
   "source": [
    "plot_dbl_graph(coef, coef_p)"
   ]
  },
  {
   "cell_type": "code",
   "execution_count": 22,
   "metadata": {},
   "outputs": [
    {
     "name": "stdout",
     "output_type": "stream",
     "text": [
      "[[0.04755569]] 0.99999904341966\n",
      "[[0.0424429]] 0.8681805217482065\n"
     ]
    }
   ],
   "source": [
    "fit_coef(coef, coef_p)"
   ]
  },
  {
   "cell_type": "code",
   "execution_count": 23,
   "metadata": {},
   "outputs": [],
   "source": [
    "## visual for moving x and y"
   ]
  },
  {
   "cell_type": "markdown",
   "metadata": {},
   "source": [
    "## Motivating ex (pt in middle)"
   ]
  },
  {
   "cell_type": "code",
   "execution_count": 24,
   "metadata": {},
   "outputs": [],
   "source": [
    "# Can you tell where a new point you add is, relative to existing dataset?\n",
    "# Always keeping in mind more pts and higher dimensions :("
   ]
  },
  {
   "cell_type": "code",
   "execution_count": 25,
   "metadata": {},
   "outputs": [],
   "source": [
    "X,y = read_data('LinRegLearnX_ds1.csv')\n",
    "X_p,y_p = read_data('LinRegLearnX_ds2.csv')"
   ]
  },
  {
   "cell_type": "code",
   "execution_count": 26,
   "metadata": {},
   "outputs": [],
   "source": [
    "tmp_X, tmp_y, tmp_Xp, tmp_yp = extend_ds(X, y, X_p, y_p, (15, 16))"
   ]
  },
  {
   "cell_type": "code",
   "execution_count": 27,
   "metadata": {},
   "outputs": [
    {
     "data": {
      "image/png": "[encoded data removed]",
      "text/plain": [
       "<Figure size 1080x360 with 2 Axes>"
      ]
     },
     "metadata": {
      "needs_background": "light"
     },
     "output_type": "display_data"
    }
   ],
   "source": [
    "fig, (ax1,ax2) = single_pt_graph(tmp_X, tmp_y, tmp_Xp, tmp_yp)"
   ]
  },
  {
   "cell_type": "code",
   "execution_count": 28,
   "metadata": {},
   "outputs": [],
   "source": [
    "coef, coef_p = vary_y(X, y, X_p, y_p, 50, (15,16))"
   ]
  },
  {
   "cell_type": "code",
   "execution_count": 29,
   "metadata": {},
   "outputs": [
    {
     "data": {
      "text/plain": [
       "(<Figure size 1080x360 with 2 Axes>,\n",
       " (<matplotlib.axes._subplots.AxesSubplot at 0x1a1d557910>,\n",
       "  <matplotlib.axes._subplots.AxesSubplot at 0x1a1cfb0650>))"
      ]
     },
     "execution_count": 29,
     "metadata": {},
     "output_type": "execute_result"
    },
    {
     "data": {
      "image/png": "[encoded data removed]",
      "text/plain": [
       "<Figure size 1080x360 with 2 Axes>"
      ]
     },
     "metadata": {
      "needs_background": "light"
     },
     "output_type": "display_data"
    }
   ],
   "source": [
    "plot_dbl_graph(coef, coef_p)"
   ]
  },
  {
   "cell_type": "code",
   "execution_count": 30,
   "metadata": {},
   "outputs": [
    {
     "name": "stdout",
     "output_type": "stream",
     "text": [
      "[[0.05289528]] 0.9759564812310281\n",
      "[[0.03802218]] 0.054188596625197594\n"
     ]
    }
   ],
   "source": [
    "fit_coef(coef, coef_p)"
   ]
  },
  {
   "cell_type": "markdown",
   "metadata": {},
   "source": [
    "## Heatmap"
   ]
  },
  {
   "cell_type": "code",
   "execution_count": 31,
   "metadata": {},
   "outputs": [],
   "source": [
    "X,y = read_data('LinRegLearnX_ds1.csv')\n",
    "X_p,y_p = read_data('LinRegLearnX_ds2.csv')"
   ]
  },
  {
   "cell_type": "code",
   "execution_count": 32,
   "metadata": {},
   "outputs": [],
   "source": [
    "## need to double check the black lines"
   ]
  },
  {
   "cell_type": "code",
   "execution_count": 33,
   "metadata": {},
   "outputs": [
    {
     "data": {
      "text/plain": [
       "(<Figure size 1080x360 with 4 Axes>,\n",
       " (<matplotlib.axes._subplots.AxesSubplot at 0x1a1cea5f10>,\n",
       "  <matplotlib.axes._subplots.AxesSubplot at 0x1a1cd0d850>))"
      ]
     },
     "execution_count": 33,
     "metadata": {},
     "output_type": "execute_result"
    },
    {
     "data": {
      "image/png": "[encoded data removed]",
      "text/plain": [
       "<Figure size 1080x360 with 4 Axes>"
      ]
     },
     "metadata": {
      "needs_background": "light"
     },
     "output_type": "display_data"
    }
   ],
   "source": [
    "heat_map(X, y, X_p, y_p)"
   ]
  },
  {
   "cell_type": "markdown",
   "metadata": {},
   "source": [
    "## End of motivating examples -- more focused task"
   ]
  },
  {
   "cell_type": "code",
   "execution_count": 34,
   "metadata": {},
   "outputs": [],
   "source": [
    "# Given a model, take a random pt and see if new model is uniquely id by pt?\n",
    "# Given a pt, find a random model, and see if change in model uniquely id old model dataset?"
   ]
  },
  {
   "cell_type": "code",
   "execution_count": 35,
   "metadata": {},
   "outputs": [],
   "source": [
    "# great! single pt model. should be useful/ fairly intuitive. Also neural net idea for learning update\n",
    "# might not be a bad idea. Also can redo above with additive. like adding 50 pts to dataset"
   ]
  },
  {
   "cell_type": "code",
   "execution_count": 36,
   "metadata": {},
   "outputs": [],
   "source": [
    "# think about how 1 pt case carries over to 2 pt case."
   ]
  },
  {
   "cell_type": "code",
   "execution_count": 37,
   "metadata": {},
   "outputs": [],
   "source": [
    "X, y = read_data('LinRegLearnX_ds3.csv')\n",
    "X_p, y_p = read_data('LinRegLearnX_ds4.csv')"
   ]
  },
  {
   "cell_type": "code",
   "execution_count": 38,
   "metadata": {},
   "outputs": [
    {
     "data": {
      "text/plain": [
       "(<Figure size 1080x360 with 2 Axes>,\n",
       " (<matplotlib.axes._subplots.AxesSubplot at 0x1a1d4d0dd0>,\n",
       "  <matplotlib.axes._subplots.AxesSubplot at 0x1a1d7e5c90>))"
      ]
     },
     "execution_count": 38,
     "metadata": {},
     "output_type": "execute_result"
    },
    {
     "data": {
      "image/png": "[encoded data removed]",
      "text/plain": [
       "<Figure size 1080x360 with 2 Axes>"
      ]
     },
     "metadata": {
      "needs_background": "light"
     },
     "output_type": "display_data"
    }
   ],
   "source": [
    "single_pt_graph(X, y, X_p, y_p)"
   ]
  },
  {
   "cell_type": "markdown",
   "metadata": {},
   "source": [
    "## What happens when we add a pt that is out far?"
   ]
  },
  {
   "cell_type": "code",
   "execution_count": 39,
   "metadata": {},
   "outputs": [],
   "source": [
    "ex_X, ex_y, ex_X_p, ex_y_p = extend_ds(X, y, X_p, y_p, (12, 13))"
   ]
  },
  {
   "cell_type": "markdown",
   "metadata": {},
   "source": [
    "### motivating ex"
   ]
  },
  {
   "cell_type": "code",
   "execution_count": 40,
   "metadata": {},
   "outputs": [
    {
     "data": {
      "text/plain": [
       "(<Figure size 1080x360 with 2 Axes>,\n",
       " (<matplotlib.axes._subplots.AxesSubplot at 0x1a1d88b490>,\n",
       "  <matplotlib.axes._subplots.AxesSubplot at 0x1a1d8b9bd0>))"
      ]
     },
     "execution_count": 40,
     "metadata": {},
     "output_type": "execute_result"
    },
    {
     "data": {
      "image/png": "[encoded data removed]",
      "text/plain": [
       "<Figure size 1080x360 with 2 Axes>"
      ]
     },
     "metadata": {
      "needs_background": "light"
     },
     "output_type": "display_data"
    }
   ],
   "source": [
    "single_pt_graph(ex_X, ex_y, ex_X_p, ex_y_p) #does theta make more sense here?"
   ]
  },
  {
   "cell_type": "code",
   "execution_count": 41,
   "metadata": {},
   "outputs": [
    {
     "data": {
      "text/plain": [
       "(<Figure size 1080x360 with 2 Axes>,\n",
       " (<matplotlib.axes._subplots.AxesSubplot at 0x1a1da2d550>,\n",
       "  <matplotlib.axes._subplots.AxesSubplot at 0x1a1dbb6a90>))"
      ]
     },
     "execution_count": 41,
     "metadata": {},
     "output_type": "execute_result"
    },
    {
     "data": {
      "image/png": "[encoded data removed]",
      "text/plain": [
       "<Figure size 1080x360 with 2 Axes>"
      ]
     },
     "metadata": {
      "needs_background": "light"
     },
     "output_type": "display_data"
    }
   ],
   "source": [
    "coef, coef_p = vary_y(X, y, X_p, y_p, 50, (12,13))\n",
    "plot_dbl_graph(coef, coef_p)"
   ]
  },
  {
   "cell_type": "code",
   "execution_count": 42,
   "metadata": {},
   "outputs": [
    {
     "name": "stdout",
     "output_type": "stream",
     "text": [
      "[[0.08291881]] 0.9999956987027289\n",
      "[[0.05869959]] 0.3360284419982993\n"
     ]
    }
   ],
   "source": [
    "fit_coef(coef, coef_p)"
   ]
  },
  {
   "cell_type": "code",
   "execution_count": 43,
   "metadata": {},
   "outputs": [],
   "source": [
    "## So as soon as you know 2 pts with same x, you know how the others will vary?"
   ]
  },
  {
   "cell_type": "code",
   "execution_count": 44,
   "metadata": {},
   "outputs": [],
   "source": [
    "## need a way to fit curve to coef, then maybe can get as a function of x and y if there\n",
    "## is no interaction term"
   ]
  },
  {
   "cell_type": "code",
   "execution_count": 45,
   "metadata": {},
   "outputs": [
    {
     "data": {
      "text/plain": [
       "(<Figure size 1080x360 with 2 Axes>,\n",
       " (<matplotlib.axes._subplots.AxesSubplot at 0x1a1dc50210>,\n",
       "  <matplotlib.axes._subplots.AxesSubplot at 0x1a1dd79e50>))"
      ]
     },
     "execution_count": 45,
     "metadata": {},
     "output_type": "execute_result"
    },
    {
     "data": {
      "image/png": "[encoded data removed]",
      "text/plain": [
       "<Figure size 1080x360 with 2 Axes>"
      ]
     },
     "metadata": {
      "needs_background": "light"
     },
     "output_type": "display_data"
    }
   ],
   "source": [
    "coef, coef_p = vary_x(X, y, X_p, y_p, 50, (12,13))\n",
    "plot_dbl_graph(coef, coef_p)"
   ]
  },
  {
   "cell_type": "code",
   "execution_count": 46,
   "metadata": {},
   "outputs": [],
   "source": [
    "coef = apply_transform(coef, lambda x: 1/x)\n",
    "coef_p = apply_transform(coef_p, lambda x: 1/x)"
   ]
  },
  {
   "cell_type": "code",
   "execution_count": 47,
   "metadata": {},
   "outputs": [
    {
     "data": {
      "text/plain": [
       "(<Figure size 1080x360 with 2 Axes>,\n",
       " (<matplotlib.axes._subplots.AxesSubplot at 0x1a1de14b10>,\n",
       "  <matplotlib.axes._subplots.AxesSubplot at 0x1a1d7b7750>))"
      ]
     },
     "execution_count": 47,
     "metadata": {},
     "output_type": "execute_result"
    },
    {
     "data": {
      "image/png": "[encoded data removed]",
      "text/plain": [
       "<Figure size 1080x360 with 2 Axes>"
      ]
     },
     "metadata": {
      "needs_background": "light"
     },
     "output_type": "display_data"
    }
   ],
   "source": [
    "plot_dbl_graph(coef, coef_p)"
   ]
  },
  {
   "cell_type": "code",
   "execution_count": 48,
   "metadata": {},
   "outputs": [
    {
     "name": "stdout",
     "output_type": "stream",
     "text": [
      "[0.07683298] 0.9999997583647741\n",
      "[0.0692833] 0.9285907002762018\n"
     ]
    }
   ],
   "source": [
    "fit_coef(coef, coef_p)"
   ]
  },
  {
   "cell_type": "code",
   "execution_count": 49,
   "metadata": {},
   "outputs": [],
   "source": [
    "# vary the pt along the line and see how a given pt changes the model?"
   ]
  },
  {
   "cell_type": "markdown",
   "metadata": {},
   "source": [
    "## yeah..."
   ]
  },
  {
   "cell_type": "code",
   "execution_count": 50,
   "metadata": {},
   "outputs": [],
   "source": [
    "# so want to know how many pts will uniquely identify the model\n",
    "# so create a dataset and then take a given pt and add on"
   ]
  },
  {
   "cell_type": "code",
   "execution_count": 51,
   "metadata": {},
   "outputs": [],
   "source": [
    "def create_dataset(pts):\n",
    "    try:\n",
    "        d = len(pts[0]) - 1\n",
    "        n = len(pts)\n",
    "        X = pts[:,:-1]\n",
    "        y = pts[:,-1:]\n",
    "    except:\n",
    "        d = len(pts) - 1\n",
    "        n = 1\n",
    "        X = pts[:-1].reshape(n,d)\n",
    "        y = pts[-1].reshape(n,1)\n",
    "    return(X,y)"
   ]
  },
  {
   "cell_type": "code",
   "execution_count": 52,
   "metadata": {},
   "outputs": [],
   "source": [
    "# first dataset / motivating example"
   ]
  },
  {
   "cell_type": "code",
   "execution_count": 53,
   "metadata": {},
   "outputs": [],
   "source": [
    "pts = np.array([[1,1]])\n",
    "X, y = create_dataset(pts)"
   ]
  },
  {
   "cell_type": "code",
   "execution_count": 54,
   "metadata": {},
   "outputs": [],
   "source": [
    "ex_X, ex_y = extend_ds_single(X, y, (10, 15))"
   ]
  },
  {
   "cell_type": "code",
   "execution_count": 55,
   "metadata": {},
   "outputs": [
    {
     "name": "stdout",
     "output_type": "stream",
     "text": [
      "[[1.]]\n",
      "[[1.4950495]]\n"
     ]
    }
   ],
   "source": [
    "lm_original = LinearRegression(fit_intercept=False)\n",
    "lm_extended = LinearRegression(fit_intercept=False)\n",
    "lm_original.fit(X, y)\n",
    "lm_extended.fit(ex_X, ex_y)\n",
    "print(lm_original.coef_)\n",
    "print(lm_extended.coef_)"
   ]
  },
  {
   "cell_type": "code",
   "execution_count": 56,
   "metadata": {},
   "outputs": [],
   "source": [
    "# Question: could it have been any other pt that created this original dataset?"
   ]
  },
  {
   "cell_type": "markdown",
   "metadata": {},
   "source": [
    "we could imagine running through a random number of datasets to find a linear model that has this coefficient, but that seems unreasonable. Instead, we should work on finding an example where a single point does not work, and then go down to the lower case below where we have two points. If we have two points, then we potentially learn something about the size of the dataset or something else, that essentially allows us to figure out what our initial point would have been. So first, an example showing that our current coefficient could have been created by some other dataset. A contrived example. Obviously, it could have been created by two points where 1.495 is the mean! So one point is definitely not enough. Buuuut... if you know that your dataset was only one point, then that might be a different story. If we knew it was one point, could we create some function, or use some additional information that we construct right now that would tell us what our initial point was? What exact info is our second point really giving us?\n",
    "\n",
    "What if we have different datasets: \n",
    "1,1\n",
    "1,1 2,2\n",
    "1,1 2,2 3,3 and so on, and we see how an additional point affects? Could be a bit harder and not entirely sure what I'd gain from it. "
   ]
  },
  {
   "cell_type": "code",
   "execution_count": null,
   "metadata": {},
   "outputs": [],
   "source": []
  },
  {
   "cell_type": "code",
   "execution_count": null,
   "metadata": {},
   "outputs": [],
   "source": []
  },
  {
   "cell_type": "code",
   "execution_count": null,
   "metadata": {},
   "outputs": [],
   "source": []
  },
  {
   "cell_type": "code",
   "execution_count": null,
   "metadata": {},
   "outputs": [],
   "source": []
  },
  {
   "cell_type": "code",
   "execution_count": null,
   "metadata": {},
   "outputs": [],
   "source": []
  },
  {
   "cell_type": "code",
   "execution_count": null,
   "metadata": {},
   "outputs": [],
   "source": []
  },
  {
   "cell_type": "code",
   "execution_count": null,
   "metadata": {},
   "outputs": [],
   "source": []
  },
  {
   "cell_type": "code",
   "execution_count": null,
   "metadata": {},
   "outputs": [],
   "source": []
  },
  {
   "cell_type": "code",
   "execution_count": null,
   "metadata": {},
   "outputs": [],
   "source": []
  },
  {
   "cell_type": "code",
   "execution_count": null,
   "metadata": {},
   "outputs": [],
   "source": []
  },
  {
   "cell_type": "code",
   "execution_count": null,
   "metadata": {},
   "outputs": [],
   "source": []
  },
  {
   "cell_type": "code",
   "execution_count": 57,
   "metadata": {},
   "outputs": [],
   "source": [
    "coef_extended = []\n",
    "for i in range(100):\n",
    "    pts = np.array([[i,i]])\n",
    "    X, y = create_dataset(pts)\n",
    "    ex_X, ex_y = extend_ds_single(X, y, (100, 150))\n",
    "    lm_original = LinearRegression(fit_intercept=False)\n",
    "    lm_extended = LinearRegression(fit_intercept=False)\n",
    "    lm_original.fit(X, y)\n",
    "    lm_extended.fit(ex_X, ex_y)\n",
    "    coef_extended.append(lm_extended.coef_[0])\n",
    "coef_extended = np.asarray(coef_extended)"
   ]
  },
  {
   "cell_type": "code",
   "execution_count": 58,
   "metadata": {},
   "outputs": [
    {
     "data": {
      "text/plain": [
       "[<matplotlib.lines.Line2D at 0x1a1dff61d0>]"
      ]
     },
     "execution_count": 58,
     "metadata": {},
     "output_type": "execute_result"
    },
    {
     "data": {
      "image/png": "[encoded data removed]",
      "text/plain": [
       "<Figure size 432x288 with 1 Axes>"
      ]
     },
     "metadata": {
      "needs_background": "light"
     },
     "output_type": "display_data"
    }
   ],
   "source": [
    "plt.plot([i for i in range(100)], coef_extended)"
   ]
  },
  {
   "cell_type": "code",
   "execution_count": 59,
   "metadata": {},
   "outputs": [
    {
     "data": {
      "text/plain": [
       "array([[1.5       ],\n",
       "       [1.49995   ],\n",
       "       [1.49980008],\n",
       "       [1.4995504 ],\n",
       "       [1.49920128],\n",
       "       [1.49875312],\n",
       "       [1.49820646],\n",
       "       [1.49756195],\n",
       "       [1.49682035],\n",
       "       [1.49598254],\n",
       "       [1.4950495 ],\n",
       "       [1.49402233],\n",
       "       [1.49290221],\n",
       "       [1.49169043],\n",
       "       [1.49038839],\n",
       "       [1.48899756],\n",
       "       [1.4875195 ],\n",
       "       [1.48595588],\n",
       "       [1.48430841],\n",
       "       [1.4825789 ],\n",
       "       [1.48076923],\n",
       "       [1.47888133],\n",
       "       [1.47691721],\n",
       "       [1.47487891],\n",
       "       [1.47276853],\n",
       "       [1.47058824],\n",
       "       [1.4683402 ],\n",
       "       [1.46602666],\n",
       "       [1.46364985],\n",
       "       [1.46121207],\n",
       "       [1.4587156 ],\n",
       "       [1.45616276],\n",
       "       [1.45355588],\n",
       "       [1.45089729],\n",
       "       [1.44818932],\n",
       "       [1.4454343 ],\n",
       "       [1.44263456],\n",
       "       [1.43979242],\n",
       "       [1.43691017],\n",
       "       [1.43399011],\n",
       "       [1.43103448],\n",
       "       [1.42804554],\n",
       "       [1.4250255 ],\n",
       "       [1.42197654],\n",
       "       [1.4189008 ],\n",
       "       [1.41580042],\n",
       "       [1.41267745],\n",
       "       [1.40953395],\n",
       "       [1.40637191],\n",
       "       [1.40319329],\n",
       "       [1.4       ],\n",
       "       [1.39679391],\n",
       "       [1.39357683],\n",
       "       [1.39035053],\n",
       "       [1.38711675],\n",
       "       [1.38387716],\n",
       "       [1.38063337],\n",
       "       [1.37738697],\n",
       "       [1.37413948],\n",
       "       [1.37089237],\n",
       "       [1.36764706],\n",
       "       [1.36440493],\n",
       "       [1.36116729],\n",
       "       [1.35793543],\n",
       "       [1.35471056],\n",
       "       [1.35149385],\n",
       "       [1.34828643],\n",
       "       [1.34508938],\n",
       "       [1.34190372],\n",
       "       [1.33873044],\n",
       "       [1.33557047],\n",
       "       [1.33242471],\n",
       "       [1.32929399],\n",
       "       [1.32617914],\n",
       "       [1.3230809 ],\n",
       "       [1.32      ],\n",
       "       [1.31693712],\n",
       "       [1.3138929 ],\n",
       "       [1.31086794],\n",
       "       [1.30786282],\n",
       "       [1.30487805],\n",
       "       [1.30191414],\n",
       "       [1.29897154],\n",
       "       [1.29605068],\n",
       "       [1.29315197],\n",
       "       [1.29027576],\n",
       "       [1.2874224 ],\n",
       "       [1.28459218],\n",
       "       [1.28178539],\n",
       "       [1.27900229],\n",
       "       [1.27624309],\n",
       "       [1.27350801],\n",
       "       [1.27079723],\n",
       "       [1.26811089],\n",
       "       [1.26544914],\n",
       "       [1.26281209],\n",
       "       [1.26019983],\n",
       "       [1.25761245],\n",
       "       [1.25504999],\n",
       "       [1.2525125 ]])"
      ]
     },
     "execution_count": 59,
     "metadata": {},
     "output_type": "execute_result"
    }
   ],
   "source": [
    "coef_extended"
   ]
  },
  {
   "cell_type": "markdown",
   "metadata": {},
   "source": [
    "# ok i know this has been weird and not v focused, but let's try the one pt above one pt below tactic"
   ]
  },
  {
   "cell_type": "code",
   "execution_count": 60,
   "metadata": {},
   "outputs": [],
   "source": [
    "pts = np.array([[1,1]])\n",
    "X, y = create_dataset(pts)"
   ]
  },
  {
   "cell_type": "code",
   "execution_count": 61,
   "metadata": {},
   "outputs": [],
   "source": [
    "ab_X, ab_y = extend_ds_single(X, y, (10, 15))\n",
    "bl_X, bl_y = extend_ds_single(ab_X, ab_y, (10, 10))"
   ]
  },
  {
   "cell_type": "code",
   "execution_count": 62,
   "metadata": {},
   "outputs": [
    {
     "name": "stdout",
     "output_type": "stream",
     "text": [
      "[[1.]]\n",
      "[[1.4950495]]\n",
      "[[1.24875622]]\n"
     ]
    }
   ],
   "source": [
    "lm_original = LinearRegression(fit_intercept=False)\n",
    "lm_above = LinearRegression(fit_intercept=False)\n",
    "lm_below = LinearRegression(fit_intercept=False)\n",
    "lm_original.fit(X, y)\n",
    "lm_above.fit(ab_X, ab_y)\n",
    "lm_below.fit(bl_X, bl_y)\n",
    "print(lm_original.coef_)\n",
    "print(lm_above.coef_)\n",
    "print(lm_below.coef_)"
   ]
  },
  {
   "cell_type": "code",
   "execution_count": null,
   "metadata": {},
   "outputs": [],
   "source": []
  }
 ],
 "metadata": {
  "kernelspec": {
   "display_name": "Python [conda env:thesis]",
   "language": "python",
   "name": "conda-env-thesis-py"
  },
  "language_info": {
   "codemirror_mode": {
    "name": "ipython",
    "version": 3
   },
   "file_extension": ".py",
   "mimetype": "text/x-python",
   "name": "python",
   "nbconvert_exporter": "python",
   "pygments_lexer": "ipython3",
   "version": "3.7.4"
  }
 },
 "nbformat": 4,
 "nbformat_minor": 2
}
