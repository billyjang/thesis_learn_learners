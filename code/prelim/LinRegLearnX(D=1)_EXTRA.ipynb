{
 "cells": [
  {
   "cell_type": "code",
   "execution_count": null,
   "metadata": {},
   "outputs": [],
   "source": [
    "def dim_data(data):\n",
    "    dim = data.shape\n",
    "    n = dim[0]\n",
    "    d = 1\n",
    "    try:\n",
    "        d = dim[1]\n",
    "    except:\n",
    "        d = 1\n",
    "    return (d,n)\n",
    "\n",
    "def rereshape(X):\n",
    "    dim = dim_data(X)\n",
    "    print(dim)\n",
    "    if dim[1] == 1:\n",
    "        X = X.reshape(1,-1)\n",
    "    else:\n",
    "        if dim[0] == 1:\n",
    "            X = X.reshape(-1,1)\n",
    "    return X\n",
    "\n",
    "def readData(data):\n",
    "    #nope need to change this, really\n",
    "    pts = np.genfromtxt(data, delimiter=',')\n",
    "    dim = dim_data(pts)\n",
    "    if dim[1] == 1:\n",
    "        return (pts[:-1], np.asarray([pts[-1]]))\n",
    "    X=pts[:,0]\n",
    "    dim = dim_data(X)\n",
    "    X = X.reshape(dim[0], dim[1])\n",
    "    y=pts[:,1]\n",
    "    dim = dim_data(y)\n",
    "    y = y.reshape(dim[0], dim[1])\n",
    "    return(X,y)\n",
    "\n",
    "def lin_reg(X, y, intercept=False):\n",
    "    print(X.shape)\n",
    "    X = rereshape(X)\n",
    "    lm = LinearRegression(fit_intercept=intercept)\n",
    "    print(X.shape)\n",
    "    print(y)\n",
    "    print(y.shape)\n",
    "    lm.fit(X, y)\n",
    "    return lm"
   ]
  },
  {
   "cell_type": "code",
   "execution_count": null,
   "metadata": {},
   "outputs": [],
   "source": []
  }
 ],
 "metadata": {
  "kernelspec": {
   "display_name": "Python [conda env:Thesis]",
   "language": "python",
   "name": "conda-env-Thesis-py"
  },
  "language_info": {
   "codemirror_mode": {
    "name": "ipython",
    "version": 3
   },
   "file_extension": ".py",
   "mimetype": "text/x-python",
   "name": "python",
   "nbconvert_exporter": "python",
   "pygments_lexer": "ipython3",
   "version": "3.7.4"
  }
 },
 "nbformat": 4,
 "nbformat_minor": 2
}
