{
 "cells": [
  {
   "cell_type": "code",
   "execution_count": 1,
   "metadata": {},
   "outputs": [],
   "source": [
    "import numpy as np\n",
    "import pandas as pd\n",
    "from mpl_toolkits.mplot3d import Axes3D\n",
    "import matplotlib.pyplot as plt\n",
    "from sklearn.linear_model import LinearRegression\n",
    "import math\n",
    "import seaborn as sns; sns.set()\n",
    "from sympy import *\n",
    "init_printing(use_unicode=True)\n",
    "%matplotlib notebook"
   ]
  },
  {
   "cell_type": "markdown",
   "metadata": {},
   "source": [
    "# Helper functions"
   ]
  },
  {
   "cell_type": "code",
   "execution_count": 2,
   "metadata": {},
   "outputs": [],
   "source": [
    "# reads in data from a csv or txt file\n",
    "# format is x1, x2, x3, y\n",
    "# returns X, y\n",
    "\n",
    "def read_data(data):\n",
    "    pts = np.genfromtxt(data, delimiter=',')\n",
    "    try:\n",
    "        d = len(pts[0]) - 1\n",
    "        n = len(pts)\n",
    "        X = pts[:,:-1]\n",
    "        y = pts[:,-1:]\n",
    "    except:\n",
    "        d = len(pts) - 1\n",
    "        n = 1\n",
    "        X = pts[:-1].reshape(n,d)\n",
    "        y = pts[-1].reshape(n,1)\n",
    "    return(X,y)"
   ]
  },
  {
   "cell_type": "code",
   "execution_count": 3,
   "metadata": {},
   "outputs": [],
   "source": [
    "# reads in data from a 2d array\n",
    "# format is [[x1,x2,x3,y], [x1,x2,x3,y]]\n",
    "# returns X, y\n",
    "\n",
    "def create_dataset(pts):\n",
    "    try:\n",
    "        d = len(pts[0]) - 1\n",
    "        n = len(pts)\n",
    "        X = pts[:,:-1]\n",
    "        y = pts[:,-1:]\n",
    "    except:\n",
    "        d = len(pts) - 1\n",
    "        n = 1\n",
    "        X = pts[:-1].reshape(n,d)\n",
    "        y = pts[-1].reshape(n,1)\n",
    "    return(X,y)"
   ]
  },
  {
   "cell_type": "code",
   "execution_count": 4,
   "metadata": {},
   "outputs": [],
   "source": [
    "# extends a given D=1, X, y with a given pt\n",
    "# for now does not work for D > 1\n",
    "\n",
    "def extend_ds_single(X, y, pt):\n",
    "    newx, newy = pt[0], pt[1]\n",
    "    X = np.append(X, [[newx]], axis=0)\n",
    "    y = np.append(y, [[newy]], axis=0)\n",
    "    return X, y"
   ]
  },
  {
   "cell_type": "code",
   "execution_count": 5,
   "metadata": {},
   "outputs": [],
   "source": [
    "# stopgap solution for D > 1\n",
    "\n",
    "def extend_ds_multidim(X, y, pt):\n",
    "    # stopgap for now\n",
    "    newx, newy = pt[:-1], pt[-1]\n",
    "    X = np.append(X, [newx], axis=0)\n",
    "    y = np.append(y, [[newy]], axis=0)\n",
    "    return X, y"
   ]
  },
  {
   "cell_type": "code",
   "execution_count": 6,
   "metadata": {},
   "outputs": [],
   "source": [
    "def quad_form(a,b,c):\n",
    "    root_one = -b + math.sqrt(math.pow(a,2) - 4*a*c) / (2*a)\n",
    "    root_two = -b - math.sqrt(math.pow(a,2) - 4*a*c) / (2*a)\n",
    "    return(root_one, root_two)"
   ]
  },
  {
   "cell_type": "code",
   "execution_count": 7,
   "metadata": {},
   "outputs": [],
   "source": [
    "def make_meshgrid(x, y, h=.02):\n",
    "    x_min, x_max = min(0,x.min() - 1), x.max() + 1\n",
    "    y_min, y_max = min(0,y.min() - 1), y.max() + 1\n",
    "    xx, yy = np.meshgrid(np.arange(x_min, x_max, h), np.arange(y_min, y_max, h))\n",
    "    return xx, yy\n",
    "\n",
    "def plot_contours(ax, clf, xx, yy, **params):\n",
    "    Z = clf.predict(np.c_[xx.ravel(), yy.ravel()])\n",
    "    Z = Z.reshape(xx.shape)\n",
    "    #out = ax.contourf(xx, yy, Z, **params)\n",
    "    out = ax.plot_surface(xx,yy,Z)\n",
    "    return out"
   ]
  },
  {
   "cell_type": "markdown",
   "metadata": {},
   "source": [
    "# Cases"
   ]
  },
  {
   "cell_type": "markdown",
   "metadata": {},
   "source": [
    "### D = 1, N = 1, no intercept, N is known"
   ]
  },
  {
   "cell_type": "markdown",
   "metadata": {},
   "source": [
    "\\begin{align}\n",
    "%%%%%%%%%%%%%%%% 1\n",
    "(\n",
    "\\begin{bmatrix}\n",
    "x^{(1)} & x^{(2)}\n",
    "\\end{bmatrix}\n",
    "\\begin{bmatrix}\n",
    "x^{(1)} \\\\\n",
    "x^{(2)}\n",
    "\\end{bmatrix}\n",
    ")^{-}\n",
    "(\n",
    "\\begin{bmatrix}\n",
    "x^{(1)} & x^{(2)}\n",
    "\\end{bmatrix}\n",
    "\\begin{bmatrix}\n",
    "y^{(1)} \\\\\n",
    "y^{(2)}\n",
    "\\end{bmatrix}\n",
    ")\n",
    "& =\n",
    "\\beta^{(2)} \\\\\n",
    "%%%%%%%%%%%%%%%% 2\n",
    "(\n",
    "\\begin{bmatrix}\n",
    "x^{(1)^2} + x^{(2)^2}\n",
    "\\end{bmatrix}\n",
    ")^{-}\n",
    "(\n",
    "\\begin{bmatrix}\n",
    "x^{(1)}y^{(1)} + x^{(2)}y^{(2)}\n",
    "\\end{bmatrix}\n",
    ")\n",
    "& =\n",
    "\\beta^{(2)} \\\\\n",
    "%%%%%%%%%%%%%%%% 3\n",
    "\\begin{bmatrix}\n",
    "\\frac{1}{x^{(1)^2} + x^{(2)^2}}\n",
    "\\end{bmatrix}\n",
    "\\begin{bmatrix}\n",
    "x^{(1)}y^{(1)} + x^{(2)}y^{(2)}\n",
    "\\end{bmatrix}\n",
    ")\n",
    "& =\n",
    "\\beta^{(2)} \\\\\n",
    "%%%%%%%%%%%%%%%% 4\n",
    "x^{(1)}y^{(1)} + x^{(2)}y^{(2)} & = \\beta^{(2)}x^{(1)^2} + \\beta^{(2)}x^{(2)^2} \\\\\n",
    "%%%%%%%%%%%%%%%% 5\n",
    "x^{(1)}\\beta^{(1)}x^{(1)} + x^{(2)} y^{(2)} & = \\beta^{(2)}x^{(1)^2} + \\beta^{(2)}x^{(2)^2} \\\\\n",
    "%%%%%%%%%%%%%%%% 6\n",
    "(\\beta^{(2)} - \\beta^{(1)})x^{(1)^2} + (\\beta^{2}x^{(2)^2} - x^{(2)}y^{(2)}) & = 0\n",
    "\\end{align}"
   ]
  },
  {
   "cell_type": "code",
   "execution_count": 8,
   "metadata": {},
   "outputs": [
    {
     "data": {
      "image/png": "[encoded data removed]",
      "text/latex": [
       "$\\displaystyle \\left( 4.031128874149275, \\  -4.031128874149275\\right)$"
      ],
      "text/plain": [
       "(4.031128874149275, -4.031128874149275)"
      ]
     },
     "execution_count": 8,
     "metadata": {},
     "output_type": "execute_result"
    }
   ],
   "source": [
    "quad_form(.5,0,-8)"
   ]
  },
  {
   "cell_type": "code",
   "execution_count": 9,
   "metadata": {},
   "outputs": [
    {
     "data": {
      "text/plain": [
       "Text(0.5, 1.0, 'extended ds 2 : [2.]')"
      ]
     },
     "execution_count": 9,
     "metadata": {},
     "output_type": "execute_result"
    },
    {
     "data": {
      "image/png": "[encoded data removed]",
      "text/plain": [
       "<Figure size 1080x1080 with 4 Axes>"
      ]
     },
     "metadata": {
      "needs_background": "light"
     },
     "output_type": "display_data"
    }
   ],
   "source": [
    "fig, (ax1, ax2) = plt.subplots(2, 2, sharex=True, sharey=True, figsize=(15,15))\n",
    "\n",
    "ax = [ax1, ax2]\n",
    "\n",
    "for x in ax:\n",
    "    x[0].tick_params(labelbottom=True, labelleft=True)\n",
    "    x[1].tick_params(labelbottom=True, labelleft=True)\n",
    "\n",
    "lm = LinearRegression(fit_intercept=False)\n",
    "pts = np.array([[4,6]])\n",
    "X, y = create_dataset(pts)\n",
    "lm.fit(X, y)\n",
    "\n",
    "ax1[0].scatter(X,y)\n",
    "#x_values = min([X.min() - 1, -1]), X.max() + 1\n",
    "x_values = -5, 10 # just stopgap for rn\n",
    "y_values = [lm.intercept_ + lm.coef_[0] * x for x in x_values]\n",
    "ax1[0].plot(x_values, y_values)\n",
    "ax1[0].set_title(\"original ds 1 : \" + str(lm.coef_[0]))\n",
    "\n",
    "exX, exy = extend_ds_single(X, y, (1,10))\n",
    "lm.fit(exX, exy)\n",
    "\n",
    "ax2[0].scatter(exX,exy)\n",
    "#x_values = exX.min() - 1, exX.max() + 1\n",
    "x_values = -5, 10 # just stopgap for rn\n",
    "y_values = [lm.intercept_ + lm.coef_[0] * x for x in x_values]\n",
    "ax2[0].plot(x_values, y_values)\n",
    "ax2[0].set_title(\"extended ds 1 : \" + str(lm.coef_[0]))\n",
    "\n",
    "pts = np.array([[-4,-6]])\n",
    "X, y = create_dataset(pts)\n",
    "lm.fit(X, y)\n",
    "\n",
    "ax1[1].scatter(X,y)\n",
    "#x_values = X.min() - 1, X.max() + 1\n",
    "x_values = -5, 10 # just stopgap for rn\n",
    "y_values = [lm.intercept_ + lm.coef_[0] * x for x in x_values]\n",
    "ax1[1].plot(x_values, y_values)\n",
    "ax1[1].set_title(\"original ds 2 : \" + str(lm.coef_[0]))\n",
    "\n",
    "exX, exy = extend_ds_single(X, y, (1,10))\n",
    "lm.fit(exX, exy)\n",
    "\n",
    "ax2[1].scatter(exX,exy)\n",
    "#x_values = exX.min() - 1, exX.max() + 1\n",
    "x_values = -5, 10 # just stopgap for rn\n",
    "y_values = [lm.intercept_ + lm.coef_[0] * x for x in x_values]\n",
    "ax2[1].plot(x_values, y_values)\n",
    "ax2[1].set_title(\"extended ds 2 : \" + str(lm.coef_[0]))"
   ]
  },
  {
   "cell_type": "markdown",
   "metadata": {},
   "source": [
    "### D = 2, N = 1, no intercept, N is known"
   ]
  },
  {
   "cell_type": "code",
   "execution_count": 10,
   "metadata": {},
   "outputs": [],
   "source": [
    "X,y = create_dataset(np.array([[3,-1,2]]))"
   ]
  },
  {
   "cell_type": "code",
   "execution_count": 11,
   "metadata": {},
   "outputs": [
    {
     "data": {
      "text/plain": [
       "LinearRegression(copy_X=True, fit_intercept=False, n_jobs=None, normalize=False)"
      ]
     },
     "execution_count": 11,
     "metadata": {},
     "output_type": "execute_result"
    }
   ],
   "source": [
    "lm = LinearRegression(fit_intercept=False)\n",
    "lm.fit(X,y)"
   ]
  },
  {
   "cell_type": "code",
   "execution_count": 12,
   "metadata": {},
   "outputs": [
    {
     "data": {
      "text/plain": [
       "array([[ 0.6, -0.2]])"
      ]
     },
     "execution_count": 12,
     "metadata": {},
     "output_type": "execute_result"
    }
   ],
   "source": [
    "lm.coef_"
   ]
  },
  {
   "cell_type": "code",
   "execution_count": 13,
   "metadata": {},
   "outputs": [],
   "source": [
    "X,y = create_dataset(np.array([[3,-1,2],[4,2,7]]))"
   ]
  },
  {
   "cell_type": "code",
   "execution_count": 14,
   "metadata": {},
   "outputs": [
    {
     "data": {
      "text/plain": [
       "LinearRegression(copy_X=True, fit_intercept=False, n_jobs=None, normalize=False)"
      ]
     },
     "execution_count": 14,
     "metadata": {},
     "output_type": "execute_result"
    }
   ],
   "source": [
    "lm = LinearRegression(fit_intercept=False)\n",
    "lm.fit(X,y)"
   ]
  },
  {
   "cell_type": "code",
   "execution_count": 15,
   "metadata": {},
   "outputs": [
    {
     "data": {
      "text/plain": [
       "array([[1.1, 1.3]])"
      ]
     },
     "execution_count": 15,
     "metadata": {},
     "output_type": "execute_result"
    }
   ],
   "source": [
    "lm.coef_"
   ]
  },
  {
   "cell_type": "markdown",
   "metadata": {},
   "source": [
    "#### earlier case"
   ]
  },
  {
   "cell_type": "code",
   "execution_count": 16,
   "metadata": {},
   "outputs": [],
   "source": [
    "X,y = create_dataset(np.array([[3,4,5]]))"
   ]
  },
  {
   "cell_type": "code",
   "execution_count": 17,
   "metadata": {},
   "outputs": [
    {
     "data": {
      "text/plain": [
       "LinearRegression(copy_X=True, fit_intercept=False, n_jobs=None, normalize=False)"
      ]
     },
     "execution_count": 17,
     "metadata": {},
     "output_type": "execute_result"
    }
   ],
   "source": [
    "lm = LinearRegression(fit_intercept=False)\n",
    "lm.fit(X,y)"
   ]
  },
  {
   "cell_type": "code",
   "execution_count": 18,
   "metadata": {},
   "outputs": [
    {
     "data": {
      "text/plain": [
       "array([[0.6, 0.8]])"
      ]
     },
     "execution_count": 18,
     "metadata": {},
     "output_type": "execute_result"
    }
   ],
   "source": [
    "lm.coef_"
   ]
  },
  {
   "cell_type": "code",
   "execution_count": 19,
   "metadata": {},
   "outputs": [],
   "source": [
    "X,y = create_dataset(np.array([[3,4,5],[1,2,3]]))"
   ]
  },
  {
   "cell_type": "code",
   "execution_count": 20,
   "metadata": {},
   "outputs": [
    {
     "data": {
      "text/plain": [
       "LinearRegression(copy_X=True, fit_intercept=False, n_jobs=None, normalize=False)"
      ]
     },
     "execution_count": 20,
     "metadata": {},
     "output_type": "execute_result"
    }
   ],
   "source": [
    "lm = LinearRegression(fit_intercept=False)\n",
    "lm.fit(X,y)"
   ]
  },
  {
   "cell_type": "code",
   "execution_count": 21,
   "metadata": {},
   "outputs": [
    {
     "data": {
      "text/plain": [
       "array([[-1.,  2.]])"
      ]
     },
     "execution_count": 21,
     "metadata": {},
     "output_type": "execute_result"
    }
   ],
   "source": [
    "lm.coef_"
   ]
  },
  {
   "cell_type": "markdown",
   "metadata": {},
   "source": [
    "(52/3)*x^2 + 13*x*z - (127/3)*x*y - 8*y*z + (59/3)*y^2 + 7/3 = 0, (-28/3)*x^2 - 8*x*z + (73/3)*x*y + 5*y*z - (35/3)*y^2 - (4/3) = 0, -2*x^2 - 2*x*z + 5*x*y + y*z - 2*y^2 = 0"
   ]
  },
  {
   "cell_type": "code",
   "execution_count": 22,
   "metadata": {},
   "outputs": [],
   "source": [
    "X,y = create_dataset(np.array([[3,4,5],[1,2,3],[2,3,5]]))"
   ]
  },
  {
   "cell_type": "code",
   "execution_count": 23,
   "metadata": {},
   "outputs": [
    {
     "data": {
      "text/plain": [
       "LinearRegression(copy_X=True, fit_intercept=False, n_jobs=None, normalize=False)"
      ]
     },
     "execution_count": 23,
     "metadata": {},
     "output_type": "execute_result"
    }
   ],
   "source": [
    "lm = LinearRegression(fit_intercept=False)\n",
    "lm.fit(X,y)"
   ]
  },
  {
   "cell_type": "code",
   "execution_count": 24,
   "metadata": {},
   "outputs": [
    {
     "data": {
      "text/plain": [
       "array([[-1.33333333,  2.33333333]])"
      ]
     },
     "execution_count": 24,
     "metadata": {},
     "output_type": "execute_result"
    }
   ],
   "source": [
    "lm.coef_"
   ]
  },
  {
   "cell_type": "code",
   "execution_count": 25,
   "metadata": {},
   "outputs": [],
   "source": [
    "xx, yy = make_meshgrid(X, y, h = .5)"
   ]
  },
  {
   "cell_type": "code",
   "execution_count": 26,
   "metadata": {},
   "outputs": [
    {
     "data": {
      "text/plain": [
       "<mpl_toolkits.mplot3d.art3d.Poly3DCollection at 0x1a1eaffe50>"
      ]
     },
     "execution_count": 26,
     "metadata": {},
     "output_type": "execute_result"
    },
    {
     "data": {
      "image/png": "[encoded data removed]",
      "text/plain": [
       "<Figure size 432x288 with 1 Axes>"
      ]
     },
     "metadata": {
      "needs_background": "light"
     },
     "output_type": "display_data"
    }
   ],
   "source": [
    "fig = plt.figure()\n",
    "ax = fig.add_subplot(111, projection='3d')\n",
    "ax.scatter(X[:,0], X[:,1], y, s=100)\n",
    "plot_contours(ax, lm, xx, yy)"
   ]
  },
  {
   "cell_type": "markdown",
   "metadata": {},
   "source": [
    "# D = 3, N = 1"
   ]
  },
  {
   "cell_type": "code",
   "execution_count": 27,
   "metadata": {},
   "outputs": [],
   "source": [
    "X,y = create_dataset(np.array([[3,4,5,6]]))"
   ]
  },
  {
   "cell_type": "code",
   "execution_count": 28,
   "metadata": {},
   "outputs": [
    {
     "data": {
      "text/plain": [
       "LinearRegression(copy_X=True, fit_intercept=False, n_jobs=None, normalize=False)"
      ]
     },
     "execution_count": 28,
     "metadata": {},
     "output_type": "execute_result"
    }
   ],
   "source": [
    "lm = LinearRegression(fit_intercept=False)\n",
    "lm.fit(X,y)"
   ]
  },
  {
   "cell_type": "code",
   "execution_count": 29,
   "metadata": {},
   "outputs": [
    {
     "data": {
      "text/plain": [
       "array([[0.36, 0.48, 0.6 ]])"
      ]
     },
     "execution_count": 29,
     "metadata": {},
     "output_type": "execute_result"
    }
   ],
   "source": [
    "lm.coef_"
   ]
  },
  {
   "cell_type": "code",
   "execution_count": 30,
   "metadata": {},
   "outputs": [],
   "source": [
    "X,y = create_dataset(np.array([[3,4,5,6],[1,2,3,4]]))"
   ]
  },
  {
   "cell_type": "code",
   "execution_count": 31,
   "metadata": {},
   "outputs": [
    {
     "data": {
      "text/plain": [
       "LinearRegression(copy_X=True, fit_intercept=False, n_jobs=None, normalize=False)"
      ]
     },
     "execution_count": 31,
     "metadata": {},
     "output_type": "execute_result"
    }
   ],
   "source": [
    "lm = LinearRegression(fit_intercept=False)\n",
    "lm.fit(X,y)"
   ]
  },
  {
   "cell_type": "code",
   "execution_count": 32,
   "metadata": {},
   "outputs": [
    {
     "data": {
      "text/plain": [
       "array([[-0.66666667,  0.33333333,  1.33333333]])"
      ]
     },
     "execution_count": 32,
     "metadata": {},
     "output_type": "execute_result"
    }
   ],
   "source": [
    "lm.coef_"
   ]
  },
  {
   "cell_type": "code",
   "execution_count": 33,
   "metadata": {},
   "outputs": [],
   "source": [
    "X,y = create_dataset(np.array([[3,4,5,6],[1,2,3,4],[9,3,1,-4]]))"
   ]
  },
  {
   "cell_type": "code",
   "execution_count": 34,
   "metadata": {},
   "outputs": [
    {
     "data": {
      "text/plain": [
       "LinearRegression(copy_X=True, fit_intercept=False, n_jobs=None, normalize=False)"
      ]
     },
     "execution_count": 34,
     "metadata": {},
     "output_type": "execute_result"
    }
   ],
   "source": [
    "lm = LinearRegression(fit_intercept=False)\n",
    "lm.fit(X,y)"
   ]
  },
  {
   "cell_type": "code",
   "execution_count": 35,
   "metadata": {},
   "outputs": [
    {
     "data": {
      "text/plain": [
       "array([[-0.75,  0.5 ,  1.25]])"
      ]
     },
     "execution_count": 35,
     "metadata": {},
     "output_type": "execute_result"
    }
   ],
   "source": [
    "lm.coef_"
   ]
  },
  {
   "cell_type": "markdown",
   "metadata": {},
   "source": [
    "eq1, eq2, eq3"
   ]
  },
  {
   "cell_type": "markdown",
   "metadata": {},
   "source": [
    "-416x_1^2 - 182yx_2 + 112x_1x_2 + 760x_3x_2 - 300x_3^2 + 49yx_1 + 105yx_3 - 140x_1x_3 = -.75(49x_1^2 - 364x_2x_1 + 210x_3x_1 + 676x_2^2 + 225x_3^2 - 780x_2x_3)"
   ]
  },
  {
   "cell_type": "markdown",
   "metadata": {},
   "source": [
    "-112x_1^2 - 182yx_1 + 416x_2x_1 + 40x_3x_1 + 600x_3^2 + 676yx_2 - 390yx_3 - 1040x_2x_3 = .5(49x_1^2 - 364x_2x_1 + 210x_3x_1 + 676x_2^2 + 225x_3^2 - 780x_2x_3)"
   ]
  },
  {
   "cell_type": "markdown",
   "metadata": {},
   "source": [
    "140x_1^2 + 105yx_1 - 800x_2x_1 + 300x_3x_1 + 1040x_2^2 - 390yx_2 + 225yx_3 - 600x_2x_3 = 1.25(49x_1^2 - 364x_2x_1 + 210x_3x_1 + 676x_2^2 + 225x_3^2 - 780x_2x_3)"
   ]
  },
  {
   "cell_type": "markdown",
   "metadata": {},
   "source": [
    "expand inv ({{x_1,1,9},{x_2,2,3},{x_3,3,1}} . {{x_1,x_2,x_3},{1,2,3},{9,3,1}}) . ({{x_1,1,9},{x_2,2,3},{x_3,3,1}} . {{y},{4},{-4}}) = {{-.75},{.5},{1.25}}"
   ]
  },
  {
   "cell_type": "markdown",
   "metadata": {},
   "source": [
    "## use mathematica maybe"
   ]
  },
  {
   "cell_type": "markdown",
   "metadata": {},
   "source": [
    "## D=1, N=2, no intercept, n is known"
   ]
  },
  {
   "cell_type": "code",
   "execution_count": 36,
   "metadata": {},
   "outputs": [],
   "source": [
    "X,y = create_dataset(np.array([[1,5],[2,3]]))"
   ]
  },
  {
   "cell_type": "code",
   "execution_count": 37,
   "metadata": {},
   "outputs": [
    {
     "data": {
      "text/plain": [
       "LinearRegression(copy_X=True, fit_intercept=False, n_jobs=None, normalize=False)"
      ]
     },
     "execution_count": 37,
     "metadata": {},
     "output_type": "execute_result"
    }
   ],
   "source": [
    "lm = LinearRegression(fit_intercept=False)\n",
    "lm.fit(X,y)"
   ]
  },
  {
   "cell_type": "code",
   "execution_count": 38,
   "metadata": {},
   "outputs": [
    {
     "data": {
      "text/plain": [
       "array([[2.2]])"
      ]
     },
     "execution_count": 38,
     "metadata": {},
     "output_type": "execute_result"
    }
   ],
   "source": [
    "lm.coef_"
   ]
  },
  {
   "cell_type": "code",
   "execution_count": 39,
   "metadata": {},
   "outputs": [],
   "source": [
    "X,y = create_dataset(np.array([[1,5],[2,3],[6,2]]))"
   ]
  },
  {
   "cell_type": "code",
   "execution_count": 40,
   "metadata": {},
   "outputs": [
    {
     "data": {
      "text/plain": [
       "LinearRegression(copy_X=True, fit_intercept=False, n_jobs=None, normalize=False)"
      ]
     },
     "execution_count": 40,
     "metadata": {},
     "output_type": "execute_result"
    }
   ],
   "source": [
    "lm = LinearRegression(fit_intercept=False)\n",
    "lm.fit(X,y)"
   ]
  },
  {
   "cell_type": "code",
   "execution_count": 41,
   "metadata": {},
   "outputs": [
    {
     "data": {
      "text/plain": [
       "array([[0.56097561]])"
      ]
     },
     "execution_count": 41,
     "metadata": {},
     "output_type": "execute_result"
    }
   ],
   "source": [
    "lm.coef_"
   ]
  },
  {
   "cell_type": "code",
   "execution_count": 42,
   "metadata": {},
   "outputs": [
    {
     "data": {
      "image/png": "[encoded data removed]",
      "text/latex": [
       "$\\displaystyle 1.6390243900000003$"
      ],
      "text/plain": [
       "1.6390243900000003"
      ]
     },
     "execution_count": 42,
     "metadata": {},
     "output_type": "execute_result"
    }
   ],
   "source": [
    "2.2 - 0.56097561"
   ]
  },
  {
   "cell_type": "code",
   "execution_count": 43,
   "metadata": {},
   "outputs": [
    {
     "data": {
      "image/png": "[encoded data removed]",
      "text/latex": [
       "$\\displaystyle -8.195121959999998$"
      ],
      "text/plain": [
       "-8.195121959999998"
      ]
     },
     "execution_count": 43,
     "metadata": {},
     "output_type": "execute_result"
    }
   ],
   "source": [
    "12 - (36*0.56097561)"
   ]
  },
  {
   "cell_type": "code",
   "execution_count": 46,
   "metadata": {},
   "outputs": [],
   "source": [
    "x_1, x_2, y_1, y_2, theta = symbols('x^{(1)} x^{(2)} y^{(1)} y^{(2)} \\Theta')"
   ]
  },
  {
   "cell_type": "code",
   "execution_count": 45,
   "metadata": {},
   "outputs": [
    {
     "data": {
      "text/latex": [
       "$\\displaystyle \\left[\\begin{matrix}\\frac{x^{(1)} y^{(1)} + x^{(2)} y^{(2)}}{\\left(x^{(1)}\\right)^{2} + \\left(x^{(2)}\\right)^{2}}\\end{matrix}\\right]$"
      ],
      "text/plain": [
       "⎡x__{(1)}⋅y__{(1)} + x__{(2)}⋅y__{(2)}⎤\n",
       "⎢─────────────────────────────────────⎥\n",
       "⎢                2           2        ⎥\n",
       "⎣        x__{(1)}  + x__{(2)}         ⎦"
      ]
     },
     "execution_count": 45,
     "metadata": {},
     "output_type": "execute_result"
    }
   ],
   "source": [
    "X = Matrix([x_1, x_2]).T\n",
    "y = Matrix([y_1, y_2 ])\n",
    "XT = X.T\n",
    "XTX = X*XT\n",
    "XTX_inv = XTX**-1\n",
    "Xy = X*y\n",
    "XTX_inv * Xy"
   ]
  },
  {
   "cell_type": "markdown",
   "metadata": {},
   "source": [
    "### figure out how to solve, either eqn form or matrix form."
   ]
  },
  {
   "cell_type": "code",
   "execution_count": 53,
   "metadata": {},
   "outputs": [],
   "source": [
    "left = XTX_inv * Xy"
   ]
  },
  {
   "cell_type": "code",
   "execution_count": 55,
   "metadata": {},
   "outputs": [
    {
     "data": {
      "image/png": "[encoded data removed]",
      "text/latex": [
       "$\\displaystyle - \\Theta + \\frac{x^{(1)} y^{(1)} + x^{(2)} y^{(2)}}{\\left(x^{(1)}\\right)^{2} + \\left(x^{(2)}\\right)^{2}}$"
      ],
      "text/plain": [
       "          x__{(1)}⋅y__{(1)} + x__{(2)}⋅y__{(2)}\n",
       "-\\Theta + ─────────────────────────────────────\n",
       "                          2           2        \n",
       "                  x__{(1)}  + x__{(2)}         "
      ]
     },
     "execution_count": 55,
     "metadata": {},
     "output_type": "execute_result"
    }
   ],
   "source": [
    "left[0] - theta"
   ]
  },
  {
   "cell_type": "code",
   "execution_count": 52,
   "metadata": {},
   "outputs": [
    {
     "data": {
      "text/latex": [
       "$\\displaystyle \\left[\\begin{matrix}\\Theta\\end{matrix}\\right]$"
      ],
      "text/plain": [
       "[\\Theta]"
      ]
     },
     "execution_count": 52,
     "metadata": {},
     "output_type": "execute_result"
    }
   ],
   "source": [
    "Matrix([theta])"
   ]
  },
  {
   "cell_type": "code",
   "execution_count": null,
   "metadata": {},
   "outputs": [],
   "source": []
  }
 ],
 "metadata": {
  "kernelspec": {
   "display_name": "Python [conda env:Thesis]",
   "language": "python",
   "name": "conda-env-Thesis-py"
  },
  "language_info": {
   "codemirror_mode": {
    "name": "ipython",
    "version": 3
   },
   "file_extension": ".py",
   "mimetype": "text/x-python",
   "name": "python",
   "nbconvert_exporter": "python",
   "pygments_lexer": "ipython3",
   "version": "3.7.4"
  }
 },
 "nbformat": 4,
 "nbformat_minor": 2
}
