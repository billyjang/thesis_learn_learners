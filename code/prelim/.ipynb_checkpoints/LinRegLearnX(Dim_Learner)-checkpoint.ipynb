{
 "cells": [
  {
   "cell_type": "code",
   "execution_count": 1,
   "metadata": {},
   "outputs": [],
   "source": [
    "import numpy as np\n",
    "import pandas as pd\n",
    "import matplotlib.pyplot as plt\n",
    "from sklearn.linear_model import LinearRegression\n",
    "import math\n",
    "import seaborn as sns; sns.set()"
   ]
  },
  {
   "cell_type": "markdown",
   "metadata": {},
   "source": [
    "# Various Functions (needs documentation)"
   ]
  },
  {
   "cell_type": "code",
   "execution_count": 2,
   "metadata": {},
   "outputs": [],
   "source": [
    "def read_data(data):\n",
    "    pts = np.genfromtxt(data, delimiter=',')\n",
    "    try:\n",
    "        d = len(pts[0]) - 1\n",
    "        n = len(pts)\n",
    "        X = pts[:,:-1]\n",
    "        y = pts[:,-1:]\n",
    "    except:\n",
    "        d = len(pts) - 1\n",
    "        n = 1\n",
    "        X = pts[:-1].reshape(n,d)\n",
    "        y = pts[-1].reshape(n,1)\n",
    "    return(X,y)"
   ]
  },
  {
   "cell_type": "code",
   "execution_count": 3,
   "metadata": {},
   "outputs": [],
   "source": [
    "def make_meshgrid(x, y, h=.02):\n",
    "    x_min, x_max = x.min() - 1, x.max() + 1\n",
    "    y_min, y_max = y.min() - 1, y.max() + 1\n",
    "    xx, yy = np.meshgrid(np.arange(x_min, x_max, h), np.arange(y_min, y_max, h))\n",
    "    return xx, yy\n",
    "\n",
    "def plot_contours(ax, clf, xx, yy, **params):\n",
    "    Z = clf.predict(np.c_[xx.ravel(), yy.ravel()])\n",
    "    Z = Z.reshape(xx.shape)\n",
    "    out = ax.contourf(xx, yy, Z, **params)\n",
    "    return out"
   ]
  },
  {
   "cell_type": "code",
   "execution_count": 129,
   "metadata": {},
   "outputs": [],
   "source": [
    "def plot_graph(X, y, intercept=False):\n",
    "    #recode this\n",
    "    lm = LinearRegression(fit_intercept=intercept)\n",
    "    lm.fit(X, y)\n",
    "    plt.scatter(X,y)\n",
    "    x_values = 0, X.max() + 1\n",
    "    y = [lm.intercept_ + lm.coef_[0] * x for x in x_values]\n",
    "    plt.plot(x_values, y)\n",
    "    plt.title(str(lm.coef_[0]))"
   ]
  },
  {
   "cell_type": "code",
   "execution_count": 4,
   "metadata": {},
   "outputs": [],
   "source": [
    "def plot_dbl_graph(xy, xy_p):\n",
    "    # maybe create a version of this that just takes in the X,y,X_p,y_p values, or a func that reads that also\n",
    "    X = [a[0] for a in xy]\n",
    "    y = [a[1] for a in xy]\n",
    "    X_p = [a[0] for a in xy_p]\n",
    "    y_p = [a[1] for a in xy_p]\n",
    "    fig, (ax1,ax2) = plt.subplots(1, 2, sharex=True, sharey=True, figsize=(15,5))\n",
    "    ax1.scatter(X,y)\n",
    "    ax2.scatter(X_p, y_p)\n",
    "    return fig, (ax1,ax2)"
   ]
  },
  {
   "cell_type": "code",
   "execution_count": 111,
   "metadata": {},
   "outputs": [],
   "source": [
    "def single_pt_graph(X, y, X_p, y_p, lines=False, intercept=False):\n",
    "    # right now only works for single dimension I think? Just need an extra case\n",
    "    \n",
    "    # create plot\n",
    "    fig, (ax1, ax2) = plt.subplots(1, 2, sharex=True, sharey=True, figsize=(15, 5))\n",
    "    \n",
    "    # scatter pts\n",
    "    ax1.scatter(X, y)\n",
    "    ax2.scatter(X_p, y_p)\n",
    "    \n",
    "    # model\n",
    "    lm1 = LinearRegression(fit_intercept=intercept)\n",
    "    lm1.fit(X,y)\n",
    "    \n",
    "    # fit first model\n",
    "    x_values = 0, X_p.max() + 1\n",
    "    y = [lm1.coef_[0] * x for x in x_values]\n",
    "    ax1.plot(x_values, y)\n",
    "    # set title\n",
    "    ax1.set_title(str(lm1.coef_[0]))\n",
    "    \n",
    "    # 2nd model\n",
    "    lm2 = LinearRegression(fit_intercept=intercept)\n",
    "    lm2.fit(X_p, y_p)\n",
    "    \n",
    "    # fit second model\n",
    "    x_values = 0, X_p.max() + 1\n",
    "    #y = [lm2.intercept_ + lm2.coef_ * x for x in x_values]\n",
    "    y = [lm2.coef_[0] * x for x in x_values]\n",
    "    ax2.set_title(str(lm2.coef_[0]))\n",
    "    ax2.plot(x_values, y)\n",
    "    \n",
    "    return fig, (ax1, ax2)"
   ]
  },
  {
   "cell_type": "code",
   "execution_count": 6,
   "metadata": {},
   "outputs": [],
   "source": [
    "def extend_ds(X, y, X_p, y_p, pt):\n",
    "    #fix these\n",
    "    newx, newy = pt[0], pt[1]\n",
    "    X = np.append(X, [[newx]], axis=0)\n",
    "    y = np.append(y, [[newy]], axis=0)\n",
    "    X_p = np.append(X_p, [[newx]], axis=0)\n",
    "    y_p = np.append(y_p, [[newy]], axis=0)\n",
    "    return X,y,X_p,y_p"
   ]
  },
  {
   "cell_type": "code",
   "execution_count": 7,
   "metadata": {},
   "outputs": [],
   "source": [
    "def extend_ds_single(X, y, pt):\n",
    "    # need to update for multidimensional\n",
    "    newx, newy = pt[0], pt[1]\n",
    "    X = np.append(X, [[newx]], axis=0)\n",
    "    y = np.append(y, [[newy]], axis=0)\n",
    "    return X, y"
   ]
  },
  {
   "cell_type": "code",
   "execution_count": 145,
   "metadata": {},
   "outputs": [],
   "source": [
    "def extend_ds_multidim(X, y, pt):\n",
    "    # stopgap for now\n",
    "    newx, newy = pt[:-1], pt[-1]\n",
    "    X = np.append(X, [newx], axis=0)\n",
    "    y = np.append(y, [[newy]], axis=0)\n",
    "    return X, y"
   ]
  },
  {
   "cell_type": "code",
   "execution_count": 8,
   "metadata": {},
   "outputs": [],
   "source": [
    "def vary_x(X, y, X_p, y_p, n, pt_0):\n",
    "    coef = []\n",
    "    coef_p = []\n",
    "    x_0, y_0 = pt_0[0], pt_0[1]\n",
    "    for i in range(n):\n",
    "        ex_X, ex_y, ex_X_p, ex_y_p = extend_ds(X, y, X_p, y_p, (x_0+i, y_0))\n",
    "        lm = LinearRegression(fit_intercept=False)\n",
    "        lm_p = LinearRegression(fit_intercept=False)\n",
    "        lm.fit(ex_X, ex_y)\n",
    "        lm_p.fit(ex_X_p, ex_y_p)\n",
    "        coef.append((x_0+i, lm.coef_[0]))\n",
    "        coef_p.append((x_0+i, lm_p.coef_[0]))\n",
    "    return np.asarray(coef), np.asarray(coef_p)"
   ]
  },
  {
   "cell_type": "code",
   "execution_count": 9,
   "metadata": {},
   "outputs": [],
   "source": [
    "def vary_y(X, y, X_p, y_p, n, pt_0):\n",
    "    coef = []\n",
    "    coef_p = []\n",
    "    x_0, y_0 = pt_0[0], pt_0[1]\n",
    "    for i in range(n):\n",
    "        ex_X, ex_y, ex_X_p, ex_y_p = extend_ds(X, y, X_p, y_p, (x_0, y_0+i))\n",
    "        lm = LinearRegression(fit_intercept=False)\n",
    "        lm_p = LinearRegression(fit_intercept=False)\n",
    "        lm.fit(ex_X, ex_y)\n",
    "        lm_p.fit(ex_X_p, ex_y_p)\n",
    "        coef.append((y_0+i, lm.coef_[0]))\n",
    "        coef_p.append((y_0+i, lm_p.coef_[0]))\n",
    "    return np.asarray(coef), np.asarray(coef_p)"
   ]
  },
  {
   "cell_type": "code",
   "execution_count": 10,
   "metadata": {},
   "outputs": [],
   "source": [
    "def apply_transform(coef, func):\n",
    "    # need to make more robust\n",
    "    n = len(coef)\n",
    "    transformed_values = np.apply_along_axis(func, 0, coef[:,1])\n",
    "    values = np.asarray([transformed_values[i][0] for i in range(n)])\n",
    "    coef = np.append(coef[:,0].reshape(50,1), values.reshape(50,1), axis=1)\n",
    "    return coef"
   ]
  },
  {
   "cell_type": "code",
   "execution_count": 11,
   "metadata": {},
   "outputs": [],
   "source": [
    "def fit_coef(coef, coef_p):\n",
    "    lm = LinearRegression(fit_intercept=False)\n",
    "    X = np.asarray([a[0] for a in coef])\n",
    "    y = np.asarray([a[1] for a in coef])\n",
    "    X_p = np.asarray([a[0] for a in coef_p])\n",
    "    y_p = np.asarray([a[1] for a in coef_p])\n",
    "    \n",
    "    lm.fit(X.reshape(-1,1),y)\n",
    "    print(lm.coef_, lm.score(X.reshape(-1,1),y))\n",
    "    \n",
    "    lm.fit(X_p.reshape(-1,1), y_p)\n",
    "    print(lm.coef_, lm.score(X.reshape(-1,1),y))"
   ]
  },
  {
   "cell_type": "code",
   "execution_count": 12,
   "metadata": {},
   "outputs": [],
   "source": [
    "def heat_map(X, y, X_p, y_p):\n",
    "    fig, (ax1,ax2) = plt.subplots(1, 2, sharex = True, sharey=True, figsize = (15,5))\n",
    "    \n",
    "    minX, maxX = int(X_p.min() - X_p.max()), int(X_p.max() + X_p.max())\n",
    "    \n",
    "    lm = LinearRegression(fit_intercept=False)\n",
    "    lm.fit(X, y)\n",
    "    \n",
    "    starter = lm.coef_[0]\n",
    "    change = np.zeros((maxX-minX+1, maxX-minX+1))\n",
    "    \n",
    "    lm_p = LinearRegression(fit_intercept=False)\n",
    "    lm_p.fit(X_p, y_p)\n",
    "    \n",
    "    starter_p = lm_p.coef_[0]\n",
    "    change_p = np.zeros((maxX-minX+1, maxX-minX+1))\n",
    "    \n",
    "    for i in range(minX, maxX):\n",
    "        for j in range(minX, maxX):\n",
    "            tmp_X, tmp_y, tmp_Xp, tmp_yp = extend_ds(X, y, X_p, y_p, (i,j))\n",
    "            \n",
    "            lm.fit(tmp_X, tmp_y)\n",
    "            change[i,j] = math.fabs(lm.coef_[0] - starter)\n",
    "            \n",
    "            lm_p.fit(tmp_Xp, tmp_yp)\n",
    "            change_p[i,j] = math.fabs(lm_p.coef_[0] - starter_p)\n",
    "\n",
    "    sns.heatmap(change, ax=ax1)\n",
    "    sns.heatmap(change_p, ax=ax2)\n",
    "    ax1.invert_yaxis()\n",
    "    return fig, (ax1,ax2)"
   ]
  },
  {
   "cell_type": "code",
   "execution_count": 13,
   "metadata": {},
   "outputs": [],
   "source": [
    "def create_dataset(pts):\n",
    "    try:\n",
    "        d = len(pts[0]) - 1\n",
    "        n = len(pts)\n",
    "        X = pts[:,:-1]\n",
    "        y = pts[:,-1:]\n",
    "    except:\n",
    "        d = len(pts) - 1\n",
    "        n = 1\n",
    "        X = pts[:-1].reshape(n,d)\n",
    "        y = pts[-1].reshape(n,1)\n",
    "    return(X,y)"
   ]
  },
  {
   "cell_type": "markdown",
   "metadata": {},
   "source": [
    "# D = 1, N = 3"
   ]
  },
  {
   "cell_type": "code",
   "execution_count": 64,
   "metadata": {},
   "outputs": [],
   "source": [
    "pts = np.array([[-1,0]])\n",
    "X, y = create_dataset(pts)"
   ]
  },
  {
   "cell_type": "code",
   "execution_count": 65,
   "metadata": {},
   "outputs": [
    {
     "data": {
      "image/png": "[encoded data removed]",
      "text/plain": [
       "<Figure size 432x288 with 1 Axes>"
      ]
     },
     "metadata": {
      "needs_background": "light"
     },
     "output_type": "display_data"
    }
   ],
   "source": [
    "plot_graph(X,y)"
   ]
  },
  {
   "cell_type": "code",
   "execution_count": 67,
   "metadata": {},
   "outputs": [
    {
     "data": {
      "image/png": "[encoded data removed]",
      "text/plain": [
       "<Figure size 432x288 with 1 Axes>"
      ]
     },
     "metadata": {
      "needs_background": "light"
     },
     "output_type": "display_data"
    }
   ],
   "source": [
    "exX, exy = extend_ds_single(X, y, (2, 3))\n",
    "plot_graph(exX, exy)"
   ]
  },
  {
   "cell_type": "code",
   "execution_count": 47,
   "metadata": {},
   "outputs": [
    {
     "data": {
      "image/png": "[encoded data removed]",
      "text/plain": [
       "<Figure size 432x288 with 1 Axes>"
      ]
     },
     "metadata": {
      "needs_background": "light"
     },
     "output_type": "display_data"
    }
   ],
   "source": [
    "exX, exy = extend_ds_single(exX, exy, (1,3))\n",
    "plot_graph(exX, exy)"
   ]
  },
  {
   "cell_type": "markdown",
   "metadata": {},
   "source": [
    "#### So in the above case, did we learn that our original dataset was just (1,0) when we added (1,3) and found our new model to be y = 1.5x?"
   ]
  },
  {
   "cell_type": "code",
   "execution_count": 57,
   "metadata": {},
   "outputs": [],
   "source": [
    "def converge_same_pt(X, y, pt, n):\n",
    "    coef = np.zeros(n)\n",
    "    lm = LinearRegression(fit_intercept=False)\n",
    "    lm.fit(X, y)\n",
    "    coef[0] = lm.coef_[0]\n",
    "    for i in range(1,n):\n",
    "        X, y = extend_ds_single(X, y, pt)\n",
    "        lm.fit(X, y)\n",
    "        coef[i] = lm.coef_[0]\n",
    "    return coef"
   ]
  },
  {
   "cell_type": "code",
   "execution_count": 60,
   "metadata": {},
   "outputs": [
    {
     "data": {
      "text/plain": [
       "[<matplotlib.lines.Line2D at 0x1a192c5e50>]"
      ]
     },
     "execution_count": 60,
     "metadata": {},
     "output_type": "execute_result"
    },
    {
     "data": {
      "image/png": "[encoded data removed]",
      "text/plain": [
       "<Figure size 432x288 with 1 Axes>"
      ]
     },
     "metadata": {
      "needs_background": "light"
     },
     "output_type": "display_data"
    }
   ],
   "source": [
    "coef = converge_same_pt(X, y, (2,3), 50)\n",
    "plt.plot([x for x in range(1,50)], coef[1:])"
   ]
  },
  {
   "cell_type": "markdown",
   "metadata": {},
   "source": [
    "## Motivating ex"
   ]
  },
  {
   "cell_type": "code",
   "execution_count": 107,
   "metadata": {},
   "outputs": [
    {
     "data": {
      "image/png": "[encoded data removed]",
      "text/plain": [
       "<Figure size 432x288 with 1 Axes>"
      ]
     },
     "metadata": {
      "needs_background": "light"
     },
     "output_type": "display_data"
    }
   ],
   "source": [
    "pts = np.array([[4,6]])\n",
    "X, y = create_dataset(pts)\n",
    "plot_graph(X, y)"
   ]
  },
  {
   "cell_type": "code",
   "execution_count": 108,
   "metadata": {},
   "outputs": [
    {
     "data": {
      "image/png": "[encoded data removed]",
      "text/plain": [
       "<Figure size 432x288 with 1 Axes>"
      ]
     },
     "metadata": {
      "needs_background": "light"
     },
     "output_type": "display_data"
    }
   ],
   "source": [
    "exX, exy = extend_ds_single(X, y, (1,10))\n",
    "plot_graph(exX, exy)"
   ]
  },
  {
   "cell_type": "code",
   "execution_count": 109,
   "metadata": {},
   "outputs": [
    {
     "data": {
      "image/png": "[encoded data removed]",
      "text/plain": [
       "<Figure size 432x288 with 1 Axes>"
      ]
     },
     "metadata": {
      "needs_background": "light"
     },
     "output_type": "display_data"
    }
   ],
   "source": [
    "exX, exy = extend_ds_single(exX, exy, (-4,8))\n",
    "plot_graph(exX, exy)"
   ]
  },
  {
   "cell_type": "code",
   "execution_count": 120,
   "metadata": {},
   "outputs": [],
   "source": [
    "lm = LinearRegression()"
   ]
  },
  {
   "cell_type": "code",
   "execution_count": 130,
   "metadata": {},
   "outputs": [
    {
     "name": "stdout",
     "output_type": "stream",
     "text": [
      "[[0.]]\n",
      "[6.]\n"
     ]
    },
    {
     "data": {
      "image/png": "[encoded data removed]",
      "text/plain": [
       "<Figure size 432x288 with 1 Axes>"
      ]
     },
     "metadata": {
      "needs_background": "light"
     },
     "output_type": "display_data"
    }
   ],
   "source": [
    "pts = np.array([[4,6]])\n",
    "X, y = create_dataset(pts)\n",
    "lm.fit(X, y)\n",
    "print(lm.coef_)\n",
    "print(lm.intercept_)\n",
    "plot_graph(X, y, True)"
   ]
  },
  {
   "cell_type": "code",
   "execution_count": 131,
   "metadata": {},
   "outputs": [
    {
     "name": "stdout",
     "output_type": "stream",
     "text": [
      "[[-1.33333333]]\n",
      "[11.33333333]\n"
     ]
    },
    {
     "data": {
      "image/png": "[encoded data removed]",
      "text/plain": [
       "<Figure size 432x288 with 1 Axes>"
      ]
     },
     "metadata": {
      "needs_background": "light"
     },
     "output_type": "display_data"
    }
   ],
   "source": [
    "exX, exy = extend_ds_single(X, y, (1,10))\n",
    "lm.fit(exX, exy)\n",
    "print(lm.coef_)\n",
    "print(lm.intercept_)\n",
    "plot_graph(exX, exy, True)"
   ]
  },
  {
   "cell_type": "code",
   "execution_count": 132,
   "metadata": {},
   "outputs": [
    {
     "name": "stdout",
     "output_type": "stream",
     "text": [
      "[[0.]]\n",
      "[6.]\n"
     ]
    },
    {
     "data": {
      "image/png": "[encoded data removed]",
      "text/plain": [
       "<Figure size 432x288 with 1 Axes>"
      ]
     },
     "metadata": {
      "needs_background": "light"
     },
     "output_type": "display_data"
    }
   ],
   "source": [
    "pts = np.array([[1,6]])\n",
    "X, y = create_dataset(pts)\n",
    "lm.fit(X, y)\n",
    "print(lm.coef_)\n",
    "print(lm.intercept_)\n",
    "plot_graph(X, y, True)"
   ]
  },
  {
   "cell_type": "code",
   "execution_count": 134,
   "metadata": {},
   "outputs": [
    {
     "name": "stdout",
     "output_type": "stream",
     "text": [
      "[[0.]]\n",
      "[8.]\n"
     ]
    },
    {
     "data": {
      "image/png": "[encoded data removed]",
      "text/plain": [
       "<Figure size 432x288 with 1 Axes>"
      ]
     },
     "metadata": {
      "needs_background": "light"
     },
     "output_type": "display_data"
    }
   ],
   "source": [
    "exX, exy = extend_ds_single(X, y, (1,10))\n",
    "lm.fit(exX, exy)\n",
    "print(lm.coef_)\n",
    "print(lm.intercept_)\n",
    "plot_graph(exX, exy, True)"
   ]
  },
  {
   "cell_type": "markdown",
   "metadata": {},
   "source": [
    "## D = 2, N = 2, no intercept, we know N"
   ]
  },
  {
   "cell_type": "code",
   "execution_count": 160,
   "metadata": {},
   "outputs": [],
   "source": [
    "lm = LinearRegression(fit_intercept=False)"
   ]
  },
  {
   "cell_type": "code",
   "execution_count": 161,
   "metadata": {},
   "outputs": [
    {
     "name": "stdout",
     "output_type": "stream",
     "text": [
      "[[2. 4.]]\n"
     ]
    }
   ],
   "source": [
    "pts = np.array([[1,2,10]])\n",
    "X, y = create_dataset(pts)\n",
    "lm.fit(X, y)\n",
    "print(lm.coef_)\n",
    "#plot_graph(X, y, False)"
   ]
  },
  {
   "cell_type": "code",
   "execution_count": 162,
   "metadata": {},
   "outputs": [
    {
     "name": "stdout",
     "output_type": "stream",
     "text": [
      "[[-19.   14.5]]\n"
     ]
    }
   ],
   "source": [
    "exX, exy = extend_ds_multidim(X, y, [6, 8, 2])\n",
    "lm.fit(exX, exy)\n",
    "print(lm.coef_)\n",
    "#plot_graph(exX, exy, False)"
   ]
  },
  {
   "cell_type": "code",
   "execution_count": 163,
   "metadata": {},
   "outputs": [
    {
     "name": "stdout",
     "output_type": "stream",
     "text": [
      "[[-7.6  8.8]]\n"
     ]
    }
   ],
   "source": [
    "exX, exy = extend_ds_multidim(X, y, [9, 8, 2])\n",
    "lm.fit(exX, exy)\n",
    "print(lm.coef_)"
   ]
  },
  {
   "cell_type": "code",
   "execution_count": null,
   "metadata": {},
   "outputs": [],
   "source": []
  }
 ],
 "metadata": {
  "kernelspec": {
   "display_name": "Python [conda env:Thesis]",
   "language": "python",
   "name": "conda-env-Thesis-py"
  },
  "language_info": {
   "codemirror_mode": {
    "name": "ipython",
    "version": 3
   },
   "file_extension": ".py",
   "mimetype": "text/x-python",
   "name": "python",
   "nbconvert_exporter": "python",
   "pygments_lexer": "ipython3",
   "version": "3.7.4"
  }
 },
 "nbformat": 4,
 "nbformat_minor": 2
}
