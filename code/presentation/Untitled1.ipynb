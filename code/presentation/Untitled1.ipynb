{
 "cells": [
  {
   "cell_type": "code",
   "execution_count": 1,
   "metadata": {},
   "outputs": [],
   "source": [
    "import numpy as np\n",
    "import pandas as pd\n",
    "import matplotlib.pyplot as plt\n",
    "from sklearn.datasets import make_regression\n",
    "from sklearn.linear_model import LinearRegression"
   ]
  },
  {
   "cell_type": "code",
   "execution_count": 125,
   "metadata": {},
   "outputs": [],
   "source": [
    "xs, ys = [], []\n",
    "for i in range(1000):\n",
    "    X,y = make_regression(n_samples=1, n_features=1, n_informative=10, coef=False, bias=True)\n",
    "    xs.append(X[0][0])\n",
    "    ys.append(y)"
   ]
  },
  {
   "cell_type": "code",
   "execution_count": 126,
   "metadata": {},
   "outputs": [
    {
     "data": {
      "text/plain": [
       "[array(-21.36803891),\n",
       " array(25.1301865),\n",
       " array(-1.10172413),\n",
       " array(-66.80902485),\n",
       " array(14.55890187),\n",
       " array(0.46811852),\n",
       " array(-34.54426097),\n",
       " array(-58.00460902),\n",
       " array(-9.02585407),\n",
       " array(-7.06859189),\n",
       " array(86.28822876),\n",
       " array(-22.26241588),\n",
       " array(96.28193709),\n",
       " array(19.83115763),\n",
       " array(2.22443429),\n",
       " array(55.11798485),\n",
       " array(2.4172668),\n",
       " array(-83.18270152),\n",
       " array(80.23419072),\n",
       " array(-48.54378073),\n",
       " array(11.92579688),\n",
       " array(60.52644468),\n",
       " array(-92.33933882),\n",
       " array(141.2225185),\n",
       " array(-70.98918549),\n",
       " array(74.92475437),\n",
       " array(71.55451982),\n",
       " array(17.19275037),\n",
       " array(10.47228018),\n",
       " array(-0.01851412),\n",
       " array(-108.60069584),\n",
       " array(-9.56494549),\n",
       " array(7.15159247),\n",
       " array(-40.58115735),\n",
       " array(-1.07187597),\n",
       " array(17.40046496),\n",
       " array(2.21830858),\n",
       " array(-0.05269817),\n",
       " array(-49.36464036),\n",
       " array(34.47562553),\n",
       " array(-7.68061589),\n",
       " array(76.0338912),\n",
       " array(-112.69761785),\n",
       " array(112.23066468),\n",
       " array(21.46567569),\n",
       " array(-23.86526305),\n",
       " array(19.19005308),\n",
       " array(26.78364017),\n",
       " array(-3.36588056),\n",
       " array(-56.69026842),\n",
       " array(-196.16145545),\n",
       " array(1.44525852),\n",
       " array(-15.15449052),\n",
       " array(-10.81310458),\n",
       " array(6.95116803),\n",
       " array(-40.24581299),\n",
       " array(16.03977615),\n",
       " array(139.99269642),\n",
       " array(-3.46185607),\n",
       " array(66.5848004),\n",
       " array(-30.37857536),\n",
       " array(-93.48888112),\n",
       " array(1.26250518),\n",
       " array(-57.1832555),\n",
       " array(-12.89456945),\n",
       " array(-18.44390144),\n",
       " array(21.41641444),\n",
       " array(41.36582137),\n",
       " array(-30.97771523),\n",
       " array(63.17191332),\n",
       " array(4.03447863),\n",
       " array(7.29869403),\n",
       " array(6.28002638),\n",
       " array(-3.19927588),\n",
       " array(0.46046626),\n",
       " array(7.67867465),\n",
       " array(19.78703944),\n",
       " array(7.19569669),\n",
       " array(96.03017556),\n",
       " array(40.86172007),\n",
       " array(71.96135413),\n",
       " array(-18.10461161),\n",
       " array(6.20384784),\n",
       " array(-35.30056692),\n",
       " array(-33.01738514),\n",
       " array(-92.28515578),\n",
       " array(-27.11012204),\n",
       " array(-46.00921109),\n",
       " array(-22.25563837),\n",
       " array(39.66213147),\n",
       " array(-63.25032292),\n",
       " array(-90.87568806),\n",
       " array(-57.55726315),\n",
       " array(137.59919709),\n",
       " array(14.90409491),\n",
       " array(-36.73248961),\n",
       " array(-24.21671078),\n",
       " array(-157.18420146),\n",
       " array(-50.99389735),\n",
       " array(31.62895766),\n",
       " array(-14.90422963),\n",
       " array(-80.43367687),\n",
       " array(-31.34842368),\n",
       " array(-63.78382607),\n",
       " array(-168.755652),\n",
       " array(30.03870059),\n",
       " array(100.39575531),\n",
       " array(-9.80173035),\n",
       " array(-88.19474619),\n",
       " array(-2.21948188),\n",
       " array(21.46694314),\n",
       " array(-26.12729503),\n",
       " array(-3.82691211),\n",
       " array(-108.15524262),\n",
       " array(55.74155594),\n",
       " array(-54.58508992),\n",
       " array(-24.83018611),\n",
       " array(-51.95486828),\n",
       " array(1.95736549),\n",
       " array(24.4704948),\n",
       " array(-10.37899329),\n",
       " array(5.02241468),\n",
       " array(-2.54544986),\n",
       " array(24.08577396),\n",
       " array(57.63730862),\n",
       " array(-51.3523601),\n",
       " array(26.65013631),\n",
       " array(-26.38560546),\n",
       " array(126.64909681),\n",
       " array(190.9004063),\n",
       " array(-15.27190931),\n",
       " array(-17.14477662),\n",
       " array(45.7909613),\n",
       " array(-63.17674011),\n",
       " array(27.60001067),\n",
       " array(-44.74934468),\n",
       " array(-15.27319759),\n",
       " array(77.82124955),\n",
       " array(36.87815689),\n",
       " array(-25.54231797),\n",
       " array(32.08296965),\n",
       " array(-17.10846357),\n",
       " array(-170.93863037),\n",
       " array(-49.1143369),\n",
       " array(-90.69885044),\n",
       " array(-59.8752989),\n",
       " array(-17.52703121),\n",
       " array(0.0444716),\n",
       " array(-6.9763971),\n",
       " array(-48.74401603),\n",
       " array(-0.58145843),\n",
       " array(-40.0412833),\n",
       " array(-51.41986391),\n",
       " array(47.41483802),\n",
       " array(-27.80611822),\n",
       " array(-38.17511614),\n",
       " array(-142.46747951),\n",
       " array(53.19177147),\n",
       " array(204.1034589),\n",
       " array(-35.82347644),\n",
       " array(-10.32349528),\n",
       " array(5.82182152),\n",
       " array(-34.55821118),\n",
       " array(40.02131249),\n",
       " array(126.01309246),\n",
       " array(3.05916108),\n",
       " array(-3.3624962),\n",
       " array(-5.31737592),\n",
       " array(7.60481853),\n",
       " array(-102.50783813),\n",
       " array(-103.59400526),\n",
       " array(2.32874874),\n",
       " array(34.76529476),\n",
       " array(-120.55526071),\n",
       " array(79.76451762),\n",
       " array(84.79407747),\n",
       " array(103.28913823),\n",
       " array(28.73710049),\n",
       " array(25.77983231),\n",
       " array(-56.18252364),\n",
       " array(28.46664429),\n",
       " array(34.559998),\n",
       " array(5.70039414),\n",
       " array(-95.51737172),\n",
       " array(31.08901455),\n",
       " array(42.04343176),\n",
       " array(106.41277639),\n",
       " array(-51.27280057),\n",
       " array(-88.33604169),\n",
       " array(54.23987064),\n",
       " array(-11.97256994),\n",
       " array(36.97000245),\n",
       " array(51.49490287),\n",
       " array(13.4460926),\n",
       " array(36.43907956),\n",
       " array(-5.27244498),\n",
       " array(2.08419076),\n",
       " array(-101.72193491),\n",
       " array(3.71538248),\n",
       " array(-30.53052686),\n",
       " array(-33.20902944),\n",
       " array(-48.43188503),\n",
       " array(124.39758518),\n",
       " array(5.49157637),\n",
       " array(86.53634899),\n",
       " array(-17.7227577),\n",
       " array(-81.63197472),\n",
       " array(39.46655058),\n",
       " array(-138.42083383),\n",
       " array(12.87100458),\n",
       " array(-24.87209862),\n",
       " array(23.69058362),\n",
       " array(127.97693124),\n",
       " array(-16.97099289),\n",
       " array(-137.73877409),\n",
       " array(-20.17546253),\n",
       " array(-60.27774045),\n",
       " array(-20.45075144),\n",
       " array(-18.4233989),\n",
       " array(-63.95838068),\n",
       " array(-5.90025503),\n",
       " array(-106.91512741),\n",
       " array(-0.20500821),\n",
       " array(-41.29734537),\n",
       " array(-144.87188297),\n",
       " array(-2.06985682),\n",
       " array(64.79490916),\n",
       " array(-35.79607546),\n",
       " array(71.59501889),\n",
       " array(-51.80633887),\n",
       " array(47.61695724),\n",
       " array(-18.77992549),\n",
       " array(-37.65372035),\n",
       " array(83.99260005),\n",
       " array(-8.88132735),\n",
       " array(31.16892628),\n",
       " array(-36.24882716),\n",
       " array(57.91852149),\n",
       " array(-20.15507479),\n",
       " array(4.00789407),\n",
       " array(13.03730288),\n",
       " array(-64.84948548),\n",
       " array(10.1448973),\n",
       " array(205.24374495),\n",
       " array(8.36944273),\n",
       " array(-10.54030615),\n",
       " array(-13.37812786),\n",
       " array(-1.72258587),\n",
       " array(118.23626077),\n",
       " array(158.40361683),\n",
       " array(-51.552409),\n",
       " array(192.04809957),\n",
       " array(-43.59410098),\n",
       " array(3.55218102),\n",
       " array(-12.26210863),\n",
       " array(-11.84924748),\n",
       " array(-4.40395289),\n",
       " array(69.62168371),\n",
       " array(2.90348221),\n",
       " array(6.85978867),\n",
       " array(-6.06687039),\n",
       " array(-4.45672216),\n",
       " array(29.84517695),\n",
       " array(-181.53987628),\n",
       " array(-6.88486064),\n",
       " array(36.07093018),\n",
       " array(19.06723433),\n",
       " array(-4.99539825),\n",
       " array(6.04186169),\n",
       " array(-24.73795911),\n",
       " array(15.16643283),\n",
       " array(26.24438695),\n",
       " array(-41.02920083),\n",
       " array(-0.05515696),\n",
       " array(-7.13327988),\n",
       " array(44.74323231),\n",
       " array(26.44731901),\n",
       " array(-189.05560583),\n",
       " array(-50.08214545),\n",
       " array(14.48853927),\n",
       " array(11.7232728),\n",
       " array(-54.93805461),\n",
       " array(-6.98916732),\n",
       " array(21.53710401),\n",
       " array(48.5092346),\n",
       " array(2.88245743),\n",
       " array(0.23348315),\n",
       " array(-1.3760225),\n",
       " array(133.19422805),\n",
       " array(-16.6547086),\n",
       " array(83.89972243),\n",
       " array(-137.67641542),\n",
       " array(-49.89979369),\n",
       " array(89.14701307),\n",
       " array(-0.70214877),\n",
       " array(91.19879909),\n",
       " array(-132.54206957),\n",
       " array(88.63320069),\n",
       " array(-113.46681815),\n",
       " array(3.68801433),\n",
       " array(0.56846769),\n",
       " array(59.4623284),\n",
       " array(-53.20438933),\n",
       " array(-42.11977113),\n",
       " array(-66.05330246),\n",
       " array(-25.20692799),\n",
       " array(7.66731934),\n",
       " array(105.39990172),\n",
       " array(3.12880744),\n",
       " array(104.09076691),\n",
       " array(-29.22935537),\n",
       " array(-14.15757797),\n",
       " array(11.14358064),\n",
       " array(17.64715899),\n",
       " array(29.25382693),\n",
       " array(117.58882144),\n",
       " array(-41.93161182),\n",
       " array(3.42402853),\n",
       " array(55.23337527),\n",
       " array(57.02948586),\n",
       " array(16.7644166),\n",
       " array(-4.6719948),\n",
       " array(22.39765108),\n",
       " array(-20.54875915),\n",
       " array(65.75365698),\n",
       " array(53.66042405),\n",
       " array(130.57262826),\n",
       " array(10.15443397),\n",
       " array(24.79820213),\n",
       " array(1.96184137),\n",
       " array(144.43570807),\n",
       " array(-12.17148324),\n",
       " array(-5.26402657),\n",
       " array(-79.29346932),\n",
       " array(-12.13137075),\n",
       " array(57.29492171),\n",
       " array(7.43888323),\n",
       " array(-0.0395846),\n",
       " array(-53.53119271),\n",
       " array(-49.03235115),\n",
       " array(-17.67189897),\n",
       " array(22.97177147),\n",
       " array(-7.55474766),\n",
       " array(1.80748452),\n",
       " array(167.28179691),\n",
       " array(4.72892777),\n",
       " array(14.99456533),\n",
       " array(6.61325093),\n",
       " array(-0.26854189),\n",
       " array(-53.57860531),\n",
       " array(-87.09836905),\n",
       " array(1.65216565),\n",
       " array(-63.39681885),\n",
       " array(-118.47278648),\n",
       " array(111.03127317),\n",
       " array(39.37459846),\n",
       " array(19.18119122),\n",
       " array(-51.5664673),\n",
       " array(-2.0000613),\n",
       " array(159.27383389),\n",
       " array(3.65763297),\n",
       " array(-39.53773574),\n",
       " array(-10.24965939),\n",
       " array(6.70725822),\n",
       " array(68.88463404),\n",
       " array(-62.53777662),\n",
       " array(-165.83685975),\n",
       " array(-11.32610272),\n",
       " array(-39.92563346),\n",
       " array(-21.59756564),\n",
       " array(-208.71497093),\n",
       " array(-0.48234941),\n",
       " array(-33.22298523),\n",
       " array(-104.3685718),\n",
       " array(24.35402218),\n",
       " array(68.35786594),\n",
       " array(9.03176218),\n",
       " array(-22.76443632),\n",
       " array(49.98515709),\n",
       " array(-133.70632709),\n",
       " array(-1.95354066),\n",
       " array(37.50168949),\n",
       " array(-43.39655235),\n",
       " array(-28.29210417),\n",
       " array(10.18774357),\n",
       " array(69.96984219),\n",
       " array(1.32873326),\n",
       " array(-48.78242353),\n",
       " array(6.76249578),\n",
       " array(-11.24783455),\n",
       " array(22.34506626),\n",
       " array(-25.43347155),\n",
       " array(21.20835632),\n",
       " array(-58.98324077),\n",
       " array(124.78836914),\n",
       " array(4.73513244),\n",
       " array(11.12430761),\n",
       " array(-0.8724152),\n",
       " array(34.14363715),\n",
       " array(-49.11835315),\n",
       " array(76.94218105),\n",
       " array(3.0208741),\n",
       " array(30.56180135),\n",
       " array(-13.33096374),\n",
       " array(-66.51060698),\n",
       " array(-62.8769306),\n",
       " array(46.86624491),\n",
       " array(44.46446618),\n",
       " array(5.03185304),\n",
       " array(64.83767215),\n",
       " array(82.90318392),\n",
       " array(-60.31229961),\n",
       " array(-48.73149948),\n",
       " array(13.07949309),\n",
       " array(18.13188075),\n",
       " array(0.00925522),\n",
       " array(22.78613874),\n",
       " array(-24.07836631),\n",
       " array(41.14949113),\n",
       " array(14.64058049),\n",
       " array(-3.186041),\n",
       " array(0.68479231),\n",
       " array(37.54977539),\n",
       " array(-4.15540094),\n",
       " array(-83.01002423),\n",
       " array(-40.0899751),\n",
       " array(-96.20702316),\n",
       " array(-57.33543085),\n",
       " array(-41.18507982),\n",
       " array(1.01259274),\n",
       " array(-3.87355097),\n",
       " array(-34.97667825),\n",
       " array(-156.77232293),\n",
       " array(44.12009105),\n",
       " array(-15.44453801),\n",
       " array(23.29681362),\n",
       " array(-133.85512576),\n",
       " array(29.4768569),\n",
       " array(9.29420056),\n",
       " array(5.84908282),\n",
       " array(21.81280362),\n",
       " array(-46.23332499),\n",
       " array(3.05598282),\n",
       " array(-64.1261762),\n",
       " array(40.69373799),\n",
       " array(-7.92869787),\n",
       " array(6.23010339),\n",
       " array(3.02584684),\n",
       " array(16.96729891),\n",
       " array(-1.21589571),\n",
       " array(-123.95793553),\n",
       " array(4.1393746),\n",
       " array(64.4423845),\n",
       " array(-2.788691),\n",
       " array(-73.98454644),\n",
       " array(-10.80176107),\n",
       " array(2.84460437),\n",
       " array(-115.79692649),\n",
       " array(-27.15913916),\n",
       " array(23.15732979),\n",
       " array(35.67833688),\n",
       " array(0.04763924),\n",
       " array(0.68733192),\n",
       " array(166.86842637),\n",
       " array(-62.9149971),\n",
       " array(-100.00742169),\n",
       " array(13.8164394),\n",
       " array(3.426129),\n",
       " array(-5.58699815),\n",
       " array(35.33982679),\n",
       " array(1.51343847),\n",
       " array(7.18999801),\n",
       " array(108.77922953),\n",
       " array(-121.325402),\n",
       " array(15.52876509),\n",
       " array(-15.03118019),\n",
       " array(2.44492526),\n",
       " array(-71.71507787),\n",
       " array(5.71725579),\n",
       " array(-23.84745209),\n",
       " array(30.90976361),\n",
       " array(9.26283656),\n",
       " array(1.77086745),\n",
       " array(56.58753159),\n",
       " array(-6.31759039),\n",
       " array(-9.07038744),\n",
       " array(-28.92347669),\n",
       " array(-27.62092661),\n",
       " array(-54.18086574),\n",
       " array(49.81181964),\n",
       " array(42.32409304),\n",
       " array(41.08490846),\n",
       " array(-23.21779455),\n",
       " array(-138.75670645),\n",
       " array(-3.50287739),\n",
       " array(-3.04318283),\n",
       " array(-6.07210731),\n",
       " array(5.92855021),\n",
       " array(-21.47312271),\n",
       " array(-31.38304253),\n",
       " array(21.79536817),\n",
       " array(44.72580252),\n",
       " array(38.87743171),\n",
       " array(72.95974067),\n",
       " array(-84.74983503),\n",
       " array(111.18823518),\n",
       " array(-3.65270961),\n",
       " array(-78.17564956),\n",
       " array(-6.22653922),\n",
       " array(43.98423239),\n",
       " array(3.90355277),\n",
       " array(-11.78582155),\n",
       " array(3.27032773),\n",
       " array(-0.94794961),\n",
       " array(2.02942794),\n",
       " array(-46.77801816),\n",
       " array(-26.5482756),\n",
       " array(64.9040275),\n",
       " array(-97.68825954),\n",
       " array(9.97583982),\n",
       " array(-10.5066072),\n",
       " array(-25.36860291),\n",
       " array(4.00817639),\n",
       " array(21.44851199),\n",
       " array(-1.45689538),\n",
       " array(47.0745317),\n",
       " array(13.0424439),\n",
       " array(78.43795778),\n",
       " array(-46.15340122),\n",
       " array(22.62355999),\n",
       " array(-0.98109828),\n",
       " array(-11.87794155),\n",
       " array(8.56733313),\n",
       " array(1.74486815),\n",
       " array(1.65139335),\n",
       " array(-109.81247993),\n",
       " array(-3.86645822),\n",
       " array(-38.06686734),\n",
       " array(-29.37309926),\n",
       " array(-48.5268702),\n",
       " array(-4.77051137),\n",
       " array(66.59677827),\n",
       " array(-25.57411949),\n",
       " array(11.78605419),\n",
       " array(-14.78345963),\n",
       " array(13.29964981),\n",
       " array(56.59694138),\n",
       " array(-16.29620505),\n",
       " array(-82.1939138),\n",
       " array(29.54594885),\n",
       " array(45.52073854),\n",
       " array(28.39599526),\n",
       " array(-10.0523252),\n",
       " array(49.33001107),\n",
       " array(0.84779347),\n",
       " array(-6.68340061),\n",
       " array(-10.31320713),\n",
       " array(-31.66982278),\n",
       " array(-87.7273706),\n",
       " array(21.45929994),\n",
       " array(46.48816003),\n",
       " array(-49.55284309),\n",
       " array(-2.9486272),\n",
       " array(29.40126858),\n",
       " array(-133.27320738),\n",
       " array(4.92013489),\n",
       " array(8.82778996),\n",
       " array(2.15012098),\n",
       " array(52.56060395),\n",
       " array(9.49376526),\n",
       " array(4.41057051),\n",
       " array(61.36324193),\n",
       " array(-21.02883932),\n",
       " array(-26.01582368),\n",
       " array(-220.25290958),\n",
       " array(3.88094322),\n",
       " array(-82.46938899),\n",
       " array(8.75625746),\n",
       " array(99.57885496),\n",
       " array(-14.93298541),\n",
       " array(29.04400421),\n",
       " array(3.7443203),\n",
       " array(-52.93759308),\n",
       " array(-69.58406909),\n",
       " array(24.82135543),\n",
       " array(4.05565576),\n",
       " array(29.71386288),\n",
       " array(-7.44243673),\n",
       " array(65.06700942),\n",
       " array(-158.94972673),\n",
       " array(-29.68411394),\n",
       " array(15.5054512),\n",
       " array(-5.71360984),\n",
       " array(5.00553945),\n",
       " array(-120.9279681),\n",
       " array(-27.54186414),\n",
       " array(-61.37710227),\n",
       " array(8.18751169),\n",
       " array(18.80171655),\n",
       " array(78.70468639),\n",
       " array(-4.10223847),\n",
       " array(-11.10235517),\n",
       " array(169.51950672),\n",
       " array(28.42938127),\n",
       " array(-55.29061976),\n",
       " array(22.44556084),\n",
       " array(-12.72944881),\n",
       " array(17.33889808),\n",
       " array(-8.88369655),\n",
       " array(41.744546),\n",
       " array(5.64970886),\n",
       " array(2.65935374),\n",
       " array(-0.04688881),\n",
       " array(4.06722795),\n",
       " array(13.57405621),\n",
       " array(-47.34058042),\n",
       " array(-19.62114745),\n",
       " array(10.66927755),\n",
       " array(-12.19797838),\n",
       " array(20.85564655),\n",
       " array(54.26342256),\n",
       " array(68.71339407),\n",
       " array(-3.11253137),\n",
       " array(-18.25966353),\n",
       " array(52.77592013),\n",
       " array(-72.20343231),\n",
       " array(73.89288777),\n",
       " array(-63.45538999),\n",
       " array(-1.6803757),\n",
       " array(0.74189776),\n",
       " array(28.50951591),\n",
       " array(5.89113832),\n",
       " array(24.84595746),\n",
       " array(-34.83172111),\n",
       " array(-2.73408132),\n",
       " array(-10.68113631),\n",
       " array(-9.91998427),\n",
       " array(-92.30636662),\n",
       " array(6.07370085),\n",
       " array(-10.68258896),\n",
       " array(12.10937114),\n",
       " array(-98.19397862),\n",
       " array(-90.22295752),\n",
       " array(-36.97041779),\n",
       " array(-105.1812048),\n",
       " array(11.41634455),\n",
       " array(16.83865748),\n",
       " array(9.67145977),\n",
       " array(-36.72560854),\n",
       " array(93.80478105),\n",
       " array(1.57100314),\n",
       " array(0.89705942),\n",
       " array(-31.06262808),\n",
       " array(70.92652566),\n",
       " array(31.83869503),\n",
       " array(2.77083737),\n",
       " array(51.18264915),\n",
       " array(20.29207034),\n",
       " array(-3.67501133),\n",
       " array(-22.56051551),\n",
       " array(78.42644156),\n",
       " array(21.88419671),\n",
       " array(-2.8218353),\n",
       " array(-149.82931703),\n",
       " array(28.64302713),\n",
       " array(8.08553199),\n",
       " array(27.76148774),\n",
       " array(158.31180599),\n",
       " array(210.68319578),\n",
       " array(28.08050256),\n",
       " array(4.86238626),\n",
       " array(-77.65846644),\n",
       " array(76.29804292),\n",
       " array(37.03404047),\n",
       " array(-105.74460225),\n",
       " array(-21.8412803),\n",
       " array(-6.38398332),\n",
       " array(102.10754927),\n",
       " array(-29.72981534),\n",
       " array(7.42849808),\n",
       " array(-84.0617736),\n",
       " array(-40.04281201),\n",
       " array(30.21118531),\n",
       " array(-46.44264805),\n",
       " array(26.69460939),\n",
       " array(21.64490152),\n",
       " array(-5.12829926),\n",
       " array(-62.59256813),\n",
       " array(-90.8845138),\n",
       " array(11.77298341),\n",
       " array(-10.65893802),\n",
       " array(5.75224886),\n",
       " array(-2.93599358),\n",
       " array(-6.9069417),\n",
       " array(-27.52433773),\n",
       " array(10.4233384),\n",
       " array(55.9225231),\n",
       " array(5.66477675),\n",
       " array(-2.92340966),\n",
       " array(-36.76819233),\n",
       " array(-52.15579067),\n",
       " array(2.10726611),\n",
       " array(-40.16057345),\n",
       " array(-19.25907983),\n",
       " array(-54.09809592),\n",
       " array(-8.54897456),\n",
       " array(-32.83405332),\n",
       " array(4.1435608),\n",
       " array(-22.95209435),\n",
       " array(55.92337642),\n",
       " array(50.79594249),\n",
       " array(-38.9279097),\n",
       " array(-50.76399034),\n",
       " array(-22.6796744),\n",
       " array(48.37808719),\n",
       " array(67.85295569),\n",
       " array(2.73114119),\n",
       " array(80.1918955),\n",
       " array(30.21703922),\n",
       " array(-8.57861289),\n",
       " array(132.65704544),\n",
       " array(-1.05325169),\n",
       " array(-7.55144279),\n",
       " array(-265.63177238),\n",
       " array(-31.12748047),\n",
       " array(-0.48773952),\n",
       " array(-31.23635137),\n",
       " array(-27.27347368),\n",
       " array(69.3679967),\n",
       " array(46.08244591),\n",
       " array(28.18496237),\n",
       " array(2.3509826),\n",
       " array(166.75050185),\n",
       " array(-167.52804857),\n",
       " array(64.97468298),\n",
       " array(-0.44637727),\n",
       " array(3.65212286),\n",
       " array(-74.72871671),\n",
       " array(113.82128317),\n",
       " array(22.98102346),\n",
       " array(-74.15868288),\n",
       " array(-29.92115372),\n",
       " array(-50.93757127),\n",
       " array(-0.48525268),\n",
       " array(-49.56546431),\n",
       " array(-69.92632599),\n",
       " array(-169.8385902),\n",
       " array(48.17873818),\n",
       " array(-82.99088538),\n",
       " array(68.06005868),\n",
       " array(69.59792472),\n",
       " array(-2.32058939),\n",
       " array(22.05476629),\n",
       " array(-32.50345484),\n",
       " array(-23.18995958),\n",
       " array(-51.36841848),\n",
       " array(-0.06525153),\n",
       " array(13.36846992),\n",
       " array(143.06126917),\n",
       " array(17.12049417),\n",
       " array(-62.43154366),\n",
       " array(46.29538371),\n",
       " array(11.36276496),\n",
       " array(68.68355046),\n",
       " array(-80.24111603),\n",
       " array(86.2277754),\n",
       " array(-17.72037711),\n",
       " array(-19.88366321),\n",
       " array(-91.51888854),\n",
       " array(-66.34050291),\n",
       " array(4.56911659),\n",
       " array(-55.94419962),\n",
       " array(79.43625585),\n",
       " array(21.5794866),\n",
       " array(2.54475861),\n",
       " array(-16.64785624),\n",
       " array(67.21803566),\n",
       " array(-30.61065655),\n",
       " array(4.21717896),\n",
       " array(-13.00501196),\n",
       " array(77.14072551),\n",
       " array(-23.01363432),\n",
       " array(-164.17650886),\n",
       " array(4.01094024),\n",
       " array(-7.98205171),\n",
       " array(-84.67170543),\n",
       " array(30.45862743),\n",
       " array(9.45575535),\n",
       " array(-21.7388889),\n",
       " array(-3.10300121),\n",
       " array(-62.37333728),\n",
       " array(-121.60236649),\n",
       " array(29.21798338),\n",
       " array(-11.93795259),\n",
       " array(33.71487144),\n",
       " array(-5.20324574),\n",
       " array(32.54619741),\n",
       " array(-70.10772967),\n",
       " array(1.73045144),\n",
       " array(-29.49624843),\n",
       " array(-275.79405168),\n",
       " array(-73.72974893),\n",
       " array(-5.11565547),\n",
       " array(-5.59348542),\n",
       " array(23.47479125),\n",
       " array(-24.69732489),\n",
       " array(35.83955221),\n",
       " array(32.4241987),\n",
       " array(-16.04353943),\n",
       " array(56.36633748),\n",
       " array(-37.96352068),\n",
       " array(86.73422758),\n",
       " array(-31.70028164),\n",
       " array(-2.8250273),\n",
       " array(-64.22663821),\n",
       " array(-31.15616279),\n",
       " array(1.88064483),\n",
       " array(-34.01828671),\n",
       " array(62.12689734),\n",
       " array(-132.83282852),\n",
       " array(-12.10847335),\n",
       " array(-19.65945627),\n",
       " array(18.27577573),\n",
       " array(1.35824275),\n",
       " array(-0.95407265),\n",
       " array(-76.45763696),\n",
       " array(-11.11423932),\n",
       " array(-9.62837338),\n",
       " array(26.02463029),\n",
       " array(-5.20714769),\n",
       " array(6.7268854),\n",
       " array(-181.88863411),\n",
       " array(-120.27732575),\n",
       " array(-2.91531463),\n",
       " array(-34.4242581),\n",
       " array(20.04229865),\n",
       " array(122.84721377),\n",
       " array(-24.27721011),\n",
       " array(-273.47490061),\n",
       " array(6.01457952),\n",
       " array(-18.04601756),\n",
       " array(-21.83702162),\n",
       " array(144.29121541),\n",
       " array(37.81923058),\n",
       " array(19.46650367),\n",
       " array(30.22783549),\n",
       " array(11.26929398),\n",
       " array(-1.39819521),\n",
       " array(32.14051646),\n",
       " array(-15.07070258),\n",
       " array(28.67226739),\n",
       " array(-14.68930344),\n",
       " array(-45.68156939),\n",
       " array(-35.2773621),\n",
       " array(18.09746968),\n",
       " array(-52.31413684),\n",
       " array(1.18098003),\n",
       " array(8.72961608),\n",
       " array(186.9872496),\n",
       " array(-1.65724275),\n",
       " array(34.65118182),\n",
       " array(-3.93772688),\n",
       " array(-100.58971969),\n",
       " array(0.11144668),\n",
       " array(84.55613319),\n",
       " array(7.11121771),\n",
       " array(6.35312777),\n",
       " array(82.32596162),\n",
       " array(6.38759862),\n",
       " array(3.61309834),\n",
       " array(-5.67796408),\n",
       " array(63.77849578),\n",
       " array(80.71295946),\n",
       " array(-82.03892993),\n",
       " array(-65.0027797),\n",
       " array(6.97385479),\n",
       " array(-2.52576203),\n",
       " array(1.09827499),\n",
       " array(-2.57555994),\n",
       " array(39.67368188),\n",
       " array(30.2357926),\n",
       " array(-45.14680578),\n",
       " array(43.61366729),\n",
       " array(-94.39655819),\n",
       " array(20.5898665),\n",
       " array(6.30215875),\n",
       " array(109.06467542),\n",
       " array(70.00356865),\n",
       " array(-24.04034992),\n",
       " array(2.3411684),\n",
       " array(29.48832677),\n",
       " array(-1.16378764),\n",
       " array(13.40351275),\n",
       " array(9.82862267),\n",
       " array(-40.70373901),\n",
       " array(24.41163861),\n",
       " array(-6.50278331),\n",
       " array(-83.66677331),\n",
       " array(-51.44276232),\n",
       " array(43.44934064),\n",
       " array(-57.30286208),\n",
       " array(-11.82452014),\n",
       " array(4.33868235),\n",
       " array(27.206432),\n",
       " array(-0.33857965),\n",
       " array(3.70437758),\n",
       " array(0.95198177),\n",
       " array(23.98147665),\n",
       " array(107.68403352),\n",
       " array(-14.21436779),\n",
       " array(-11.07755575),\n",
       " array(-5.78055049),\n",
       " array(65.98773088),\n",
       " array(49.38587697),\n",
       " array(-17.09573048),\n",
       " array(29.8642385),\n",
       " array(58.20067714),\n",
       " array(27.32807577),\n",
       " array(-16.82040362),\n",
       " array(-85.97625801),\n",
       " array(44.32659155),\n",
       " array(14.50280631),\n",
       " array(-187.38879605),\n",
       " array(-75.54583251),\n",
       " array(3.36184624),\n",
       " array(-19.34053359),\n",
       " array(62.1004939),\n",
       " array(22.83316045),\n",
       " array(28.50063984),\n",
       " array(61.86844578),\n",
       " array(85.28094078),\n",
       " array(-21.46812857),\n",
       " array(0.40023787),\n",
       " array(-0.11635214),\n",
       " array(-8.31591271),\n",
       " array(112.51695283),\n",
       " array(9.98650954),\n",
       " array(91.40478012),\n",
       " array(-14.70363886),\n",
       " array(-3.11380181),\n",
       " array(63.15333017),\n",
       " array(13.85488019),\n",
       " array(3.02059196),\n",
       " array(22.00275244),\n",
       " array(-6.41086166),\n",
       " array(22.77710977),\n",
       " array(-46.69444761),\n",
       " array(-78.78898595),\n",
       " array(-7.06442765),\n",
       " array(-32.98948923),\n",
       " array(-112.46925086),\n",
       " array(-41.3289),\n",
       " array(-1.15563849),\n",
       " array(-16.52994265),\n",
       " array(0.00103007),\n",
       " array(-10.91811973),\n",
       " array(-25.60865567),\n",
       " array(-25.48668259),\n",
       " array(3.85488273),\n",
       " array(-15.26063509),\n",
       " array(18.82794357),\n",
       " array(12.29677468),\n",
       " array(10.81965711),\n",
       " array(94.80668758),\n",
       " array(23.29000534),\n",
       " array(-10.2284626),\n",
       " array(49.36404646),\n",
       " array(-6.0675945),\n",
       " array(10.96141536),\n",
       " array(58.45349905),\n",
       " array(-51.26288067),\n",
       " array(52.93650339),\n",
       " array(-38.93291465),\n",
       " array(-4.88060084),\n",
       " array(-56.09169763),\n",
       " array(4.16333712),\n",
       " array(14.6446897),\n",
       " array(10.67428739),\n",
       " array(-25.95860866),\n",
       " array(-42.25042308),\n",
       " array(81.42880911),\n",
       " array(44.55650761),\n",
       " array(-50.6710972),\n",
       " array(-17.07191552),\n",
       " array(-132.19982309),\n",
       " array(-1.08449086),\n",
       " array(-75.29188167),\n",
       " array(12.56291226),\n",
       " array(18.77950911),\n",
       " array(153.90883747),\n",
       " array(72.07256302),\n",
       " array(-57.92326534),\n",
       " array(-17.21769245),\n",
       " array(-34.86709944),\n",
       " array(-36.0467452),\n",
       " array(-63.62292117),\n",
       " array(-51.76874847),\n",
       " array(43.85492762),\n",
       " array(-19.62569792),\n",
       " array(60.32417381)]"
      ]
     },
     "execution_count": 126,
     "metadata": {},
     "output_type": "execute_result"
    }
   ],
   "source": [
    "ys"
   ]
  },
  {
   "cell_type": "code",
   "execution_count": 127,
   "metadata": {},
   "outputs": [
    {
     "data": {
      "text/plain": [
       "<matplotlib.collections.PathCollection at 0x1a1c18e6d0>"
      ]
     },
     "execution_count": 127,
     "metadata": {},
     "output_type": "execute_result"
    },
    {
     "data": {
      "image/png": "[encoded data removed]",
      "text/plain": [
       "<Figure size 432x288 with 1 Axes>"
      ]
     },
     "metadata": {
      "needs_background": "light"
     },
     "output_type": "display_data"
    }
   ],
   "source": [
    "plt.scatter(xs,ys)"
   ]
  },
  {
   "cell_type": "code",
   "execution_count": 2,
   "metadata": {},
   "outputs": [],
   "source": [
    "dfactual = pd.read_csv('/Users/william/Documents/2019-2020/Thesis/code/sims/LearnX/Raw/ytest_10000_-100_100_1_1_1_False.csv', header=None)\n",
    "dfpreds = pd.read_csv('/Users/william/Documents/2019-2020/Thesis/code/sims/LearnX/Predictions/10000_-100_100_1_1_1_False.csv', header=None)"
   ]
  },
  {
   "cell_type": "code",
   "execution_count": 91,
   "metadata": {},
   "outputs": [
    {
     "data": {
      "text/html": [
       "<div>\n",
       "<style scoped>\n",
       "    .dataframe tbody tr th:only-of-type {\n",
       "        vertical-align: middle;\n",
       "    }\n",
       "\n",
       "    .dataframe tbody tr th {\n",
       "        vertical-align: top;\n",
       "    }\n",
       "\n",
       "    .dataframe thead th {\n",
       "        text-align: right;\n",
       "    }\n",
       "</style>\n",
       "<table border=\"1\" class=\"dataframe\">\n",
       "  <thead>\n",
       "    <tr style=\"text-align: right;\">\n",
       "      <th></th>\n",
       "      <th>0</th>\n",
       "    </tr>\n",
       "  </thead>\n",
       "  <tbody>\n",
       "    <tr>\n",
       "      <td>count</td>\n",
       "      <td>2000.000000</td>\n",
       "    </tr>\n",
       "    <tr>\n",
       "      <td>mean</td>\n",
       "      <td>0.005693</td>\n",
       "    </tr>\n",
       "    <tr>\n",
       "      <td>std</td>\n",
       "      <td>0.439668</td>\n",
       "    </tr>\n",
       "    <tr>\n",
       "      <td>min</td>\n",
       "      <td>-0.994970</td>\n",
       "    </tr>\n",
       "    <tr>\n",
       "      <td>25%</td>\n",
       "      <td>-0.340618</td>\n",
       "    </tr>\n",
       "    <tr>\n",
       "      <td>50%</td>\n",
       "      <td>-0.012617</td>\n",
       "    </tr>\n",
       "    <tr>\n",
       "      <td>75%</td>\n",
       "      <td>0.342218</td>\n",
       "    </tr>\n",
       "    <tr>\n",
       "      <td>max</td>\n",
       "      <td>1.117799</td>\n",
       "    </tr>\n",
       "  </tbody>\n",
       "</table>\n",
       "</div>"
      ],
      "text/plain": [
       "                 0\n",
       "count  2000.000000\n",
       "mean      0.005693\n",
       "std       0.439668\n",
       "min      -0.994970\n",
       "25%      -0.340618\n",
       "50%      -0.012617\n",
       "75%       0.342218\n",
       "max       1.117799"
      ]
     },
     "execution_count": 91,
     "metadata": {},
     "output_type": "execute_result"
    }
   ],
   "source": [
    "dfpreds.describe()"
   ]
  },
  {
   "cell_type": "code",
   "execution_count": 92,
   "metadata": {},
   "outputs": [
    {
     "data": {
      "text/html": [
       "<div>\n",
       "<style scoped>\n",
       "    .dataframe tbody tr th:only-of-type {\n",
       "        vertical-align: middle;\n",
       "    }\n",
       "\n",
       "    .dataframe tbody tr th {\n",
       "        vertical-align: top;\n",
       "    }\n",
       "\n",
       "    .dataframe thead th {\n",
       "        text-align: right;\n",
       "    }\n",
       "</style>\n",
       "<table border=\"1\" class=\"dataframe\">\n",
       "  <thead>\n",
       "    <tr style=\"text-align: right;\">\n",
       "      <th></th>\n",
       "      <th>0</th>\n",
       "      <th>1</th>\n",
       "    </tr>\n",
       "  </thead>\n",
       "  <tbody>\n",
       "    <tr>\n",
       "      <td>count</td>\n",
       "      <td>2000.000000</td>\n",
       "      <td>2000.000000</td>\n",
       "    </tr>\n",
       "    <tr>\n",
       "      <td>mean</td>\n",
       "      <td>-0.000205</td>\n",
       "      <td>0.729414</td>\n",
       "    </tr>\n",
       "    <tr>\n",
       "      <td>std</td>\n",
       "      <td>0.994180</td>\n",
       "      <td>57.590138</td>\n",
       "    </tr>\n",
       "    <tr>\n",
       "      <td>min</td>\n",
       "      <td>-3.619998</td>\n",
       "      <td>-255.422524</td>\n",
       "    </tr>\n",
       "    <tr>\n",
       "      <td>25%</td>\n",
       "      <td>-0.692930</td>\n",
       "      <td>-24.590247</td>\n",
       "    </tr>\n",
       "    <tr>\n",
       "      <td>50%</td>\n",
       "      <td>0.019986</td>\n",
       "      <td>0.297037</td>\n",
       "    </tr>\n",
       "    <tr>\n",
       "      <td>75%</td>\n",
       "      <td>0.702523</td>\n",
       "      <td>25.960667</td>\n",
       "    </tr>\n",
       "    <tr>\n",
       "      <td>max</td>\n",
       "      <td>3.725562</td>\n",
       "      <td>287.958647</td>\n",
       "    </tr>\n",
       "  </tbody>\n",
       "</table>\n",
       "</div>"
      ],
      "text/plain": [
       "                 0            1\n",
       "count  2000.000000  2000.000000\n",
       "mean     -0.000205     0.729414\n",
       "std       0.994180    57.590138\n",
       "min      -3.619998  -255.422524\n",
       "25%      -0.692930   -24.590247\n",
       "50%       0.019986     0.297037\n",
       "75%       0.702523    25.960667\n",
       "max       3.725562   287.958647"
      ]
     },
     "execution_count": 92,
     "metadata": {},
     "output_type": "execute_result"
    }
   ],
   "source": [
    "dfactual.describe()"
   ]
  },
  {
   "cell_type": "code",
   "execution_count": 93,
   "metadata": {},
   "outputs": [
    {
     "data": {
      "text/plain": [
       "<matplotlib.collections.PathCollection at 0x1a18c94350>"
      ]
     },
     "execution_count": 93,
     "metadata": {},
     "output_type": "execute_result"
    },
    {
     "data": {
      "image/png": "[encoded data removed]",
      "text/plain": [
       "<Figure size 432x288 with 1 Axes>"
      ]
     },
     "metadata": {
      "needs_background": "light"
     },
     "output_type": "display_data"
    }
   ],
   "source": [
    "plt.scatter(dfactual[0].values.reshape(-1,1), dfpreds)"
   ]
  },
  {
   "cell_type": "code",
   "execution_count": 94,
   "metadata": {},
   "outputs": [
    {
     "data": {
      "text/html": [
       "<div>\n",
       "<style scoped>\n",
       "    .dataframe tbody tr th:only-of-type {\n",
       "        vertical-align: middle;\n",
       "    }\n",
       "\n",
       "    .dataframe tbody tr th {\n",
       "        vertical-align: top;\n",
       "    }\n",
       "\n",
       "    .dataframe thead th {\n",
       "        text-align: right;\n",
       "    }\n",
       "</style>\n",
       "<table border=\"1\" class=\"dataframe\">\n",
       "  <thead>\n",
       "    <tr style=\"text-align: right;\">\n",
       "      <th></th>\n",
       "      <th>0</th>\n",
       "    </tr>\n",
       "  </thead>\n",
       "  <tbody>\n",
       "    <tr>\n",
       "      <td>0</td>\n",
       "      <td>-0.125518</td>\n",
       "    </tr>\n",
       "    <tr>\n",
       "      <td>1</td>\n",
       "      <td>-0.555186</td>\n",
       "    </tr>\n",
       "    <tr>\n",
       "      <td>2</td>\n",
       "      <td>0.114902</td>\n",
       "    </tr>\n",
       "    <tr>\n",
       "      <td>3</td>\n",
       "      <td>-0.579569</td>\n",
       "    </tr>\n",
       "    <tr>\n",
       "      <td>4</td>\n",
       "      <td>0.061237</td>\n",
       "    </tr>\n",
       "  </tbody>\n",
       "</table>\n",
       "</div>"
      ],
      "text/plain": [
       "          0\n",
       "0 -0.125518\n",
       "1 -0.555186\n",
       "2  0.114902\n",
       "3 -0.579569\n",
       "4  0.061237"
      ]
     },
     "execution_count": 94,
     "metadata": {},
     "output_type": "execute_result"
    }
   ],
   "source": [
    "dfpreds.head()"
   ]
  },
  {
   "cell_type": "code",
   "execution_count": 95,
   "metadata": {},
   "outputs": [
    {
     "data": {
      "text/html": [
       "<div>\n",
       "<style scoped>\n",
       "    .dataframe tbody tr th:only-of-type {\n",
       "        vertical-align: middle;\n",
       "    }\n",
       "\n",
       "    .dataframe tbody tr th {\n",
       "        vertical-align: top;\n",
       "    }\n",
       "\n",
       "    .dataframe thead th {\n",
       "        text-align: right;\n",
       "    }\n",
       "</style>\n",
       "<table border=\"1\" class=\"dataframe\">\n",
       "  <thead>\n",
       "    <tr style=\"text-align: right;\">\n",
       "      <th></th>\n",
       "      <th>0</th>\n",
       "      <th>1</th>\n",
       "    </tr>\n",
       "  </thead>\n",
       "  <tbody>\n",
       "    <tr>\n",
       "      <td>0</td>\n",
       "      <td>-0.970515</td>\n",
       "      <td>-96.424915</td>\n",
       "    </tr>\n",
       "    <tr>\n",
       "      <td>1</td>\n",
       "      <td>-0.907984</td>\n",
       "      <td>-26.966767</td>\n",
       "    </tr>\n",
       "    <tr>\n",
       "      <td>2</td>\n",
       "      <td>0.278854</td>\n",
       "      <td>11.572700</td>\n",
       "    </tr>\n",
       "    <tr>\n",
       "      <td>3</td>\n",
       "      <td>-0.696983</td>\n",
       "      <td>-40.018565</td>\n",
       "    </tr>\n",
       "    <tr>\n",
       "      <td>4</td>\n",
       "      <td>0.025954</td>\n",
       "      <td>0.629529</td>\n",
       "    </tr>\n",
       "  </tbody>\n",
       "</table>\n",
       "</div>"
      ],
      "text/plain": [
       "          0          1\n",
       "0 -0.970515 -96.424915\n",
       "1 -0.907984 -26.966767\n",
       "2  0.278854  11.572700\n",
       "3 -0.696983 -40.018565\n",
       "4  0.025954   0.629529"
      ]
     },
     "execution_count": 95,
     "metadata": {},
     "output_type": "execute_result"
    }
   ],
   "source": [
    "dfactual.head()"
   ]
  },
  {
   "cell_type": "code",
   "execution_count": null,
   "metadata": {},
   "outputs": [],
   "source": []
  },
  {
   "cell_type": "code",
   "execution_count": null,
   "metadata": {},
   "outputs": [],
   "source": []
  },
  {
   "cell_type": "code",
   "execution_count": 141,
   "metadata": {},
   "outputs": [],
   "source": [
    "dfactual = pd.read_csv('/Users/william/Documents/2019-2020/Thesis/code/sims/LearnX/Raw/ytest_10000_-100_100_1_1_10_True.csv', header=None)\n",
    "dfpreds = pd.read_csv('/Users/william/Documents/2019-2020/Thesis/code/sims/LearnX/Predictions/10000_-100_100_1_1_10_True.csv', header=None)"
   ]
  },
  {
   "cell_type": "code",
   "execution_count": 142,
   "metadata": {},
   "outputs": [
    {
     "data": {
      "text/html": [
       "<div>\n",
       "<style scoped>\n",
       "    .dataframe tbody tr th:only-of-type {\n",
       "        vertical-align: middle;\n",
       "    }\n",
       "\n",
       "    .dataframe tbody tr th {\n",
       "        vertical-align: top;\n",
       "    }\n",
       "\n",
       "    .dataframe thead th {\n",
       "        text-align: right;\n",
       "    }\n",
       "</style>\n",
       "<table border=\"1\" class=\"dataframe\">\n",
       "  <thead>\n",
       "    <tr style=\"text-align: right;\">\n",
       "      <th></th>\n",
       "      <th>0</th>\n",
       "      <th>1</th>\n",
       "    </tr>\n",
       "  </thead>\n",
       "  <tbody>\n",
       "    <tr>\n",
       "      <td>0</td>\n",
       "      <td>0.569138</td>\n",
       "      <td>21.473598</td>\n",
       "    </tr>\n",
       "    <tr>\n",
       "      <td>1</td>\n",
       "      <td>-0.998188</td>\n",
       "      <td>-8.247708</td>\n",
       "    </tr>\n",
       "    <tr>\n",
       "      <td>2</td>\n",
       "      <td>-0.109073</td>\n",
       "      <td>-11.216128</td>\n",
       "    </tr>\n",
       "    <tr>\n",
       "      <td>3</td>\n",
       "      <td>-0.595352</td>\n",
       "      <td>-52.836563</td>\n",
       "    </tr>\n",
       "    <tr>\n",
       "      <td>4</td>\n",
       "      <td>-3.143062</td>\n",
       "      <td>-201.725916</td>\n",
       "    </tr>\n",
       "    <tr>\n",
       "      <td>...</td>\n",
       "      <td>...</td>\n",
       "      <td>...</td>\n",
       "    </tr>\n",
       "    <tr>\n",
       "      <td>1995</td>\n",
       "      <td>0.057914</td>\n",
       "      <td>-5.647178</td>\n",
       "    </tr>\n",
       "    <tr>\n",
       "      <td>1996</td>\n",
       "      <td>1.035887</td>\n",
       "      <td>1.197191</td>\n",
       "    </tr>\n",
       "    <tr>\n",
       "      <td>1997</td>\n",
       "      <td>0.807617</td>\n",
       "      <td>26.011714</td>\n",
       "    </tr>\n",
       "    <tr>\n",
       "      <td>1998</td>\n",
       "      <td>-1.665101</td>\n",
       "      <td>-169.938702</td>\n",
       "    </tr>\n",
       "    <tr>\n",
       "      <td>1999</td>\n",
       "      <td>0.001249</td>\n",
       "      <td>-2.922600</td>\n",
       "    </tr>\n",
       "  </tbody>\n",
       "</table>\n",
       "<p>2000 rows × 2 columns</p>\n",
       "</div>"
      ],
      "text/plain": [
       "             0           1\n",
       "0     0.569138   21.473598\n",
       "1    -0.998188   -8.247708\n",
       "2    -0.109073  -11.216128\n",
       "3    -0.595352  -52.836563\n",
       "4    -3.143062 -201.725916\n",
       "...        ...         ...\n",
       "1995  0.057914   -5.647178\n",
       "1996  1.035887    1.197191\n",
       "1997  0.807617   26.011714\n",
       "1998 -1.665101 -169.938702\n",
       "1999  0.001249   -2.922600\n",
       "\n",
       "[2000 rows x 2 columns]"
      ]
     },
     "execution_count": 142,
     "metadata": {},
     "output_type": "execute_result"
    }
   ],
   "source": [
    "dfactual"
   ]
  },
  {
   "cell_type": "code",
   "execution_count": 143,
   "metadata": {},
   "outputs": [
    {
     "data": {
      "text/html": [
       "<div>\n",
       "<style scoped>\n",
       "    .dataframe tbody tr th:only-of-type {\n",
       "        vertical-align: middle;\n",
       "    }\n",
       "\n",
       "    .dataframe tbody tr th {\n",
       "        vertical-align: top;\n",
       "    }\n",
       "\n",
       "    .dataframe thead th {\n",
       "        text-align: right;\n",
       "    }\n",
       "</style>\n",
       "<table border=\"1\" class=\"dataframe\">\n",
       "  <thead>\n",
       "    <tr style=\"text-align: right;\">\n",
       "      <th></th>\n",
       "      <th>0</th>\n",
       "      <th>1</th>\n",
       "    </tr>\n",
       "  </thead>\n",
       "  <tbody>\n",
       "    <tr>\n",
       "      <td>0</td>\n",
       "      <td>0.209964</td>\n",
       "      <td>6.504679</td>\n",
       "    </tr>\n",
       "    <tr>\n",
       "      <td>1</td>\n",
       "      <td>0.289165</td>\n",
       "      <td>11.313564</td>\n",
       "    </tr>\n",
       "    <tr>\n",
       "      <td>2</td>\n",
       "      <td>-0.591837</td>\n",
       "      <td>-27.433302</td>\n",
       "    </tr>\n",
       "    <tr>\n",
       "      <td>3</td>\n",
       "      <td>-0.567663</td>\n",
       "      <td>-33.545571</td>\n",
       "    </tr>\n",
       "    <tr>\n",
       "      <td>4</td>\n",
       "      <td>-0.328823</td>\n",
       "      <td>-31.744277</td>\n",
       "    </tr>\n",
       "  </tbody>\n",
       "</table>\n",
       "</div>"
      ],
      "text/plain": [
       "          0          1\n",
       "0  0.209964   6.504679\n",
       "1  0.289165  11.313564\n",
       "2 -0.591837 -27.433302\n",
       "3 -0.567663 -33.545571\n",
       "4 -0.328823 -31.744277"
      ]
     },
     "execution_count": 143,
     "metadata": {},
     "output_type": "execute_result"
    }
   ],
   "source": [
    "dfpreds.head()"
   ]
  },
  {
   "cell_type": "code",
   "execution_count": 144,
   "metadata": {},
   "outputs": [
    {
     "data": {
      "text/html": [
       "<div>\n",
       "<style scoped>\n",
       "    .dataframe tbody tr th:only-of-type {\n",
       "        vertical-align: middle;\n",
       "    }\n",
       "\n",
       "    .dataframe tbody tr th {\n",
       "        vertical-align: top;\n",
       "    }\n",
       "\n",
       "    .dataframe thead th {\n",
       "        text-align: right;\n",
       "    }\n",
       "</style>\n",
       "<table border=\"1\" class=\"dataframe\">\n",
       "  <thead>\n",
       "    <tr style=\"text-align: right;\">\n",
       "      <th></th>\n",
       "      <th>0</th>\n",
       "      <th>1</th>\n",
       "    </tr>\n",
       "  </thead>\n",
       "  <tbody>\n",
       "    <tr>\n",
       "      <td>count</td>\n",
       "      <td>2000.000000</td>\n",
       "      <td>2000.000000</td>\n",
       "    </tr>\n",
       "    <tr>\n",
       "      <td>mean</td>\n",
       "      <td>0.001409</td>\n",
       "      <td>0.220153</td>\n",
       "    </tr>\n",
       "    <tr>\n",
       "      <td>std</td>\n",
       "      <td>0.455892</td>\n",
       "      <td>26.136934</td>\n",
       "    </tr>\n",
       "    <tr>\n",
       "      <td>min</td>\n",
       "      <td>-1.573102</td>\n",
       "      <td>-107.678884</td>\n",
       "    </tr>\n",
       "    <tr>\n",
       "      <td>25%</td>\n",
       "      <td>-0.307069</td>\n",
       "      <td>-16.499117</td>\n",
       "    </tr>\n",
       "    <tr>\n",
       "      <td>50%</td>\n",
       "      <td>0.004779</td>\n",
       "      <td>0.454911</td>\n",
       "    </tr>\n",
       "    <tr>\n",
       "      <td>75%</td>\n",
       "      <td>0.305404</td>\n",
       "      <td>16.850997</td>\n",
       "    </tr>\n",
       "    <tr>\n",
       "      <td>max</td>\n",
       "      <td>1.470145</td>\n",
       "      <td>89.293544</td>\n",
       "    </tr>\n",
       "  </tbody>\n",
       "</table>\n",
       "</div>"
      ],
      "text/plain": [
       "                 0            1\n",
       "count  2000.000000  2000.000000\n",
       "mean      0.001409     0.220153\n",
       "std       0.455892    26.136934\n",
       "min      -1.573102  -107.678884\n",
       "25%      -0.307069   -16.499117\n",
       "50%       0.004779     0.454911\n",
       "75%       0.305404    16.850997\n",
       "max       1.470145    89.293544"
      ]
     },
     "execution_count": 144,
     "metadata": {},
     "output_type": "execute_result"
    }
   ],
   "source": [
    "dfpreds.describe()"
   ]
  },
  {
   "cell_type": "code",
   "execution_count": 145,
   "metadata": {},
   "outputs": [
    {
     "data": {
      "text/html": [
       "<div>\n",
       "<style scoped>\n",
       "    .dataframe tbody tr th:only-of-type {\n",
       "        vertical-align: middle;\n",
       "    }\n",
       "\n",
       "    .dataframe tbody tr th {\n",
       "        vertical-align: top;\n",
       "    }\n",
       "\n",
       "    .dataframe thead th {\n",
       "        text-align: right;\n",
       "    }\n",
       "</style>\n",
       "<table border=\"1\" class=\"dataframe\">\n",
       "  <thead>\n",
       "    <tr style=\"text-align: right;\">\n",
       "      <th></th>\n",
       "      <th>0</th>\n",
       "      <th>1</th>\n",
       "    </tr>\n",
       "  </thead>\n",
       "  <tbody>\n",
       "    <tr>\n",
       "      <td>count</td>\n",
       "      <td>2000.000000</td>\n",
       "      <td>2000.000000</td>\n",
       "    </tr>\n",
       "    <tr>\n",
       "      <td>mean</td>\n",
       "      <td>-0.011599</td>\n",
       "      <td>-0.283104</td>\n",
       "    </tr>\n",
       "    <tr>\n",
       "      <td>std</td>\n",
       "      <td>0.995652</td>\n",
       "      <td>58.554459</td>\n",
       "    </tr>\n",
       "    <tr>\n",
       "      <td>min</td>\n",
       "      <td>-3.143062</td>\n",
       "      <td>-257.747504</td>\n",
       "    </tr>\n",
       "    <tr>\n",
       "      <td>25%</td>\n",
       "      <td>-0.683737</td>\n",
       "      <td>-26.361695</td>\n",
       "    </tr>\n",
       "    <tr>\n",
       "      <td>50%</td>\n",
       "      <td>-0.002280</td>\n",
       "      <td>-0.134759</td>\n",
       "    </tr>\n",
       "    <tr>\n",
       "      <td>75%</td>\n",
       "      <td>0.677135</td>\n",
       "      <td>26.122072</td>\n",
       "    </tr>\n",
       "    <tr>\n",
       "      <td>max</td>\n",
       "      <td>3.803400</td>\n",
       "      <td>347.468698</td>\n",
       "    </tr>\n",
       "  </tbody>\n",
       "</table>\n",
       "</div>"
      ],
      "text/plain": [
       "                 0            1\n",
       "count  2000.000000  2000.000000\n",
       "mean     -0.011599    -0.283104\n",
       "std       0.995652    58.554459\n",
       "min      -3.143062  -257.747504\n",
       "25%      -0.683737   -26.361695\n",
       "50%      -0.002280    -0.134759\n",
       "75%       0.677135    26.122072\n",
       "max       3.803400   347.468698"
      ]
     },
     "execution_count": 145,
     "metadata": {},
     "output_type": "execute_result"
    }
   ],
   "source": [
    "dfactual.describe()"
   ]
  },
  {
   "cell_type": "code",
   "execution_count": 146,
   "metadata": {},
   "outputs": [
    {
     "data": {
      "text/plain": [
       "<matplotlib.collections.PathCollection at 0x1a1a0d9f10>"
      ]
     },
     "execution_count": 146,
     "metadata": {},
     "output_type": "execute_result"
    },
    {
     "data": {
      "image/png": "[encoded data removed]",
      "text/plain": [
       "<Figure size 432x288 with 1 Axes>"
      ]
     },
     "metadata": {
      "needs_background": "light"
     },
     "output_type": "display_data"
    }
   ],
   "source": [
    "plt.scatter(dfactual[0], dfactual[1])"
   ]
  },
  {
   "cell_type": "code",
   "execution_count": 147,
   "metadata": {},
   "outputs": [
    {
     "data": {
      "text/plain": [
       "<matplotlib.collections.PathCollection at 0x1a18b0fb50>"
      ]
     },
     "execution_count": 147,
     "metadata": {},
     "output_type": "execute_result"
    },
    {
     "data": {
      "image/png": "[encoded data removed]",
      "text/plain": [
       "<Figure size 432x288 with 1 Axes>"
      ]
     },
     "metadata": {
      "needs_background": "light"
     },
     "output_type": "display_data"
    }
   ],
   "source": [
    "plt.scatter(dfpreds[0], dfpreds[1])"
   ]
  },
  {
   "cell_type": "code",
   "execution_count": 16,
   "metadata": {},
   "outputs": [
    {
     "data": {
      "text/html": [
       "<div>\n",
       "<style scoped>\n",
       "    .dataframe tbody tr th:only-of-type {\n",
       "        vertical-align: middle;\n",
       "    }\n",
       "\n",
       "    .dataframe tbody tr th {\n",
       "        vertical-align: top;\n",
       "    }\n",
       "\n",
       "    .dataframe thead th {\n",
       "        text-align: right;\n",
       "    }\n",
       "</style>\n",
       "<table border=\"1\" class=\"dataframe\">\n",
       "  <thead>\n",
       "    <tr style=\"text-align: right;\">\n",
       "      <th></th>\n",
       "      <th>0</th>\n",
       "    </tr>\n",
       "  </thead>\n",
       "  <tbody>\n",
       "    <tr>\n",
       "      <td>count</td>\n",
       "      <td>2000.000000</td>\n",
       "    </tr>\n",
       "    <tr>\n",
       "      <td>mean</td>\n",
       "      <td>49.977056</td>\n",
       "    </tr>\n",
       "    <tr>\n",
       "      <td>std</td>\n",
       "      <td>28.868495</td>\n",
       "    </tr>\n",
       "    <tr>\n",
       "      <td>min</td>\n",
       "      <td>0.046079</td>\n",
       "    </tr>\n",
       "    <tr>\n",
       "      <td>25%</td>\n",
       "      <td>25.673845</td>\n",
       "    </tr>\n",
       "    <tr>\n",
       "      <td>50%</td>\n",
       "      <td>49.736281</td>\n",
       "    </tr>\n",
       "    <tr>\n",
       "      <td>75%</td>\n",
       "      <td>74.271410</td>\n",
       "    </tr>\n",
       "    <tr>\n",
       "      <td>max</td>\n",
       "      <td>99.982910</td>\n",
       "    </tr>\n",
       "  </tbody>\n",
       "</table>\n",
       "</div>"
      ],
      "text/plain": [
       "                 0\n",
       "count  2000.000000\n",
       "mean     49.977056\n",
       "std      28.868495\n",
       "min       0.046079\n",
       "25%      25.673845\n",
       "50%      49.736281\n",
       "75%      74.271410\n",
       "max      99.982910"
      ]
     },
     "execution_count": 16,
     "metadata": {},
     "output_type": "execute_result"
    }
   ],
   "source": [
    "dfactual.describe()"
   ]
  },
  {
   "cell_type": "code",
   "execution_count": 17,
   "metadata": {},
   "outputs": [
    {
     "data": {
      "text/html": [
       "<div>\n",
       "<style scoped>\n",
       "    .dataframe tbody tr th:only-of-type {\n",
       "        vertical-align: middle;\n",
       "    }\n",
       "\n",
       "    .dataframe tbody tr th {\n",
       "        vertical-align: top;\n",
       "    }\n",
       "\n",
       "    .dataframe thead th {\n",
       "        text-align: right;\n",
       "    }\n",
       "</style>\n",
       "<table border=\"1\" class=\"dataframe\">\n",
       "  <thead>\n",
       "    <tr style=\"text-align: right;\">\n",
       "      <th></th>\n",
       "      <th>0</th>\n",
       "    </tr>\n",
       "  </thead>\n",
       "  <tbody>\n",
       "    <tr>\n",
       "      <td>count</td>\n",
       "      <td>2000.000000</td>\n",
       "    </tr>\n",
       "    <tr>\n",
       "      <td>mean</td>\n",
       "      <td>109.424615</td>\n",
       "    </tr>\n",
       "    <tr>\n",
       "      <td>std</td>\n",
       "      <td>198.020455</td>\n",
       "    </tr>\n",
       "    <tr>\n",
       "      <td>min</td>\n",
       "      <td>-2.594612</td>\n",
       "    </tr>\n",
       "    <tr>\n",
       "      <td>25%</td>\n",
       "      <td>35.950698</td>\n",
       "    </tr>\n",
       "    <tr>\n",
       "      <td>50%</td>\n",
       "      <td>63.364395</td>\n",
       "    </tr>\n",
       "    <tr>\n",
       "      <td>75%</td>\n",
       "      <td>96.079781</td>\n",
       "    </tr>\n",
       "    <tr>\n",
       "      <td>max</td>\n",
       "      <td>2818.632225</td>\n",
       "    </tr>\n",
       "  </tbody>\n",
       "</table>\n",
       "</div>"
      ],
      "text/plain": [
       "                 0\n",
       "count  2000.000000\n",
       "mean    109.424615\n",
       "std     198.020455\n",
       "min      -2.594612\n",
       "25%      35.950698\n",
       "50%      63.364395\n",
       "75%      96.079781\n",
       "max    2818.632225"
      ]
     },
     "execution_count": 17,
     "metadata": {},
     "output_type": "execute_result"
    }
   ],
   "source": [
    "dfpreds.describe()"
   ]
  },
  {
   "cell_type": "code",
   "execution_count": 47,
   "metadata": {},
   "outputs": [
    {
     "data": {
      "text/plain": [
       "LinearRegression(copy_X=True, fit_intercept=False, n_jobs=None, normalize=False)"
      ]
     },
     "execution_count": 47,
     "metadata": {},
     "output_type": "execute_result"
    }
   ],
   "source": [
    "lm.fit(dfpreds[0].values.reshape(-1,1), dfpreds[1])"
   ]
  },
  {
   "cell_type": "code",
   "execution_count": 48,
   "metadata": {},
   "outputs": [
    {
     "data": {
      "text/plain": [
       "array([65.7313852])"
      ]
     },
     "execution_count": 48,
     "metadata": {},
     "output_type": "execute_result"
    }
   ],
   "source": [
    "lm.coef_"
   ]
  },
  {
   "cell_type": "code",
   "execution_count": 49,
   "metadata": {},
   "outputs": [
    {
     "data": {
      "text/plain": [
       "<matplotlib.collections.PathCollection at 0x1a1e638990>"
      ]
     },
     "execution_count": 49,
     "metadata": {},
     "output_type": "execute_result"
    },
    {
     "data": {
      "image/png": "[encoded data removed]",
      "text/plain": [
       "<Figure size 432x288 with 1 Axes>"
      ]
     },
     "metadata": {
      "needs_background": "light"
     },
     "output_type": "display_data"
    }
   ],
   "source": [
    "plt.scatter(dfpreds[0], dfpreds[1])"
   ]
  },
  {
   "cell_type": "code",
   "execution_count": null,
   "metadata": {},
   "outputs": [],
   "source": [
    "# steps for awake billy, maybe understand why this is happening + do what happens when we predict separately. sorry :("
   ]
  },
  {
   "cell_type": "code",
   "execution_count": null,
   "metadata": {},
   "outputs": [],
   "source": []
  },
  {
   "cell_type": "code",
   "execution_count": 169,
   "metadata": {},
   "outputs": [],
   "source": [
    "actual = pd.read_csv('/Users/william/Documents/2019-2020/Thesis/code/sims/LearnX/Raw/ytest_10000_-100_100_1_1_10_True.csv', header=None)"
   ]
  },
  {
   "cell_type": "code",
   "execution_count": 170,
   "metadata": {},
   "outputs": [],
   "source": [
    "xpreds = pd.read_csv('/Users/william/Documents/2019-2020/Thesis/code/sims/LearnX/Predictions/10000_-100_100_1_1_10_True.csv', header=None)"
   ]
  },
  {
   "cell_type": "code",
   "execution_count": 171,
   "metadata": {},
   "outputs": [],
   "source": [
    "ypreds = pd.read_csv('/Users/william/Documents/2019-2020/Thesis/code/sims/LearnX/Predictions/10000_-100_100_1_1_10_True.csv', header=None)"
   ]
  },
  {
   "cell_type": "code",
   "execution_count": 172,
   "metadata": {},
   "outputs": [
    {
     "data": {
      "text/html": [
       "<div>\n",
       "<style scoped>\n",
       "    .dataframe tbody tr th:only-of-type {\n",
       "        vertical-align: middle;\n",
       "    }\n",
       "\n",
       "    .dataframe tbody tr th {\n",
       "        vertical-align: top;\n",
       "    }\n",
       "\n",
       "    .dataframe thead th {\n",
       "        text-align: right;\n",
       "    }\n",
       "</style>\n",
       "<table border=\"1\" class=\"dataframe\">\n",
       "  <thead>\n",
       "    <tr style=\"text-align: right;\">\n",
       "      <th></th>\n",
       "      <th>0</th>\n",
       "    </tr>\n",
       "  </thead>\n",
       "  <tbody>\n",
       "    <tr>\n",
       "      <td>count</td>\n",
       "      <td>2000.000000</td>\n",
       "    </tr>\n",
       "    <tr>\n",
       "      <td>mean</td>\n",
       "      <td>-1.075914</td>\n",
       "    </tr>\n",
       "    <tr>\n",
       "      <td>std</td>\n",
       "      <td>1.770251</td>\n",
       "    </tr>\n",
       "    <tr>\n",
       "      <td>min</td>\n",
       "      <td>-16.003658</td>\n",
       "    </tr>\n",
       "    <tr>\n",
       "      <td>25%</td>\n",
       "      <td>-1.519155</td>\n",
       "    </tr>\n",
       "    <tr>\n",
       "      <td>50%</td>\n",
       "      <td>-1.002674</td>\n",
       "    </tr>\n",
       "    <tr>\n",
       "      <td>75%</td>\n",
       "      <td>-0.528416</td>\n",
       "    </tr>\n",
       "    <tr>\n",
       "      <td>max</td>\n",
       "      <td>31.522973</td>\n",
       "    </tr>\n",
       "  </tbody>\n",
       "</table>\n",
       "</div>"
      ],
      "text/plain": [
       "                 0\n",
       "count  2000.000000\n",
       "mean     -1.075914\n",
       "std       1.770251\n",
       "min     -16.003658\n",
       "25%      -1.519155\n",
       "50%      -1.002674\n",
       "75%      -0.528416\n",
       "max      31.522973"
      ]
     },
     "execution_count": 172,
     "metadata": {},
     "output_type": "execute_result"
    }
   ],
   "source": [
    "xpreds.describe()"
   ]
  },
  {
   "cell_type": "code",
   "execution_count": 173,
   "metadata": {},
   "outputs": [
    {
     "data": {
      "text/html": [
       "<div>\n",
       "<style scoped>\n",
       "    .dataframe tbody tr th:only-of-type {\n",
       "        vertical-align: middle;\n",
       "    }\n",
       "\n",
       "    .dataframe tbody tr th {\n",
       "        vertical-align: top;\n",
       "    }\n",
       "\n",
       "    .dataframe thead th {\n",
       "        text-align: right;\n",
       "    }\n",
       "</style>\n",
       "<table border=\"1\" class=\"dataframe\">\n",
       "  <thead>\n",
       "    <tr style=\"text-align: right;\">\n",
       "      <th></th>\n",
       "      <th>0</th>\n",
       "    </tr>\n",
       "  </thead>\n",
       "  <tbody>\n",
       "    <tr>\n",
       "      <td>count</td>\n",
       "      <td>2000.000000</td>\n",
       "    </tr>\n",
       "    <tr>\n",
       "      <td>mean</td>\n",
       "      <td>-1.240984</td>\n",
       "    </tr>\n",
       "    <tr>\n",
       "      <td>std</td>\n",
       "      <td>68.131809</td>\n",
       "    </tr>\n",
       "    <tr>\n",
       "      <td>min</td>\n",
       "      <td>-294.707293</td>\n",
       "    </tr>\n",
       "    <tr>\n",
       "      <td>25%</td>\n",
       "      <td>-42.212437</td>\n",
       "    </tr>\n",
       "    <tr>\n",
       "      <td>50%</td>\n",
       "      <td>-1.197223</td>\n",
       "    </tr>\n",
       "    <tr>\n",
       "      <td>75%</td>\n",
       "      <td>38.486626</td>\n",
       "    </tr>\n",
       "    <tr>\n",
       "      <td>max</td>\n",
       "      <td>297.952635</td>\n",
       "    </tr>\n",
       "  </tbody>\n",
       "</table>\n",
       "</div>"
      ],
      "text/plain": [
       "                 0\n",
       "count  2000.000000\n",
       "mean     -1.240984\n",
       "std      68.131809\n",
       "min    -294.707293\n",
       "25%     -42.212437\n",
       "50%      -1.197223\n",
       "75%      38.486626\n",
       "max     297.952635"
      ]
     },
     "execution_count": 173,
     "metadata": {},
     "output_type": "execute_result"
    }
   ],
   "source": [
    "ypreds.describe()"
   ]
  },
  {
   "cell_type": "code",
   "execution_count": 174,
   "metadata": {},
   "outputs": [
    {
     "data": {
      "text/html": [
       "<div>\n",
       "<style scoped>\n",
       "    .dataframe tbody tr th:only-of-type {\n",
       "        vertical-align: middle;\n",
       "    }\n",
       "\n",
       "    .dataframe tbody tr th {\n",
       "        vertical-align: top;\n",
       "    }\n",
       "\n",
       "    .dataframe thead th {\n",
       "        text-align: right;\n",
       "    }\n",
       "</style>\n",
       "<table border=\"1\" class=\"dataframe\">\n",
       "  <thead>\n",
       "    <tr style=\"text-align: right;\">\n",
       "      <th></th>\n",
       "      <th>0</th>\n",
       "      <th>1</th>\n",
       "    </tr>\n",
       "  </thead>\n",
       "  <tbody>\n",
       "    <tr>\n",
       "      <td>count</td>\n",
       "      <td>2000.000000</td>\n",
       "      <td>2000.000000</td>\n",
       "    </tr>\n",
       "    <tr>\n",
       "      <td>mean</td>\n",
       "      <td>-0.011599</td>\n",
       "      <td>-0.283104</td>\n",
       "    </tr>\n",
       "    <tr>\n",
       "      <td>std</td>\n",
       "      <td>0.995652</td>\n",
       "      <td>58.554459</td>\n",
       "    </tr>\n",
       "    <tr>\n",
       "      <td>min</td>\n",
       "      <td>-3.143062</td>\n",
       "      <td>-257.747504</td>\n",
       "    </tr>\n",
       "    <tr>\n",
       "      <td>25%</td>\n",
       "      <td>-0.683737</td>\n",
       "      <td>-26.361695</td>\n",
       "    </tr>\n",
       "    <tr>\n",
       "      <td>50%</td>\n",
       "      <td>-0.002280</td>\n",
       "      <td>-0.134759</td>\n",
       "    </tr>\n",
       "    <tr>\n",
       "      <td>75%</td>\n",
       "      <td>0.677135</td>\n",
       "      <td>26.122072</td>\n",
       "    </tr>\n",
       "    <tr>\n",
       "      <td>max</td>\n",
       "      <td>3.803400</td>\n",
       "      <td>347.468698</td>\n",
       "    </tr>\n",
       "  </tbody>\n",
       "</table>\n",
       "</div>"
      ],
      "text/plain": [
       "                 0            1\n",
       "count  2000.000000  2000.000000\n",
       "mean     -0.011599    -0.283104\n",
       "std       0.995652    58.554459\n",
       "min      -3.143062  -257.747504\n",
       "25%      -0.683737   -26.361695\n",
       "50%      -0.002280    -0.134759\n",
       "75%       0.677135    26.122072\n",
       "max       3.803400   347.468698"
      ]
     },
     "execution_count": 174,
     "metadata": {},
     "output_type": "execute_result"
    }
   ],
   "source": [
    "actual.describe()"
   ]
  },
  {
   "cell_type": "code",
   "execution_count": 175,
   "metadata": {},
   "outputs": [
    {
     "data": {
      "text/plain": [
       "<matplotlib.collections.PathCollection at 0x1a188816d0>"
      ]
     },
     "execution_count": 175,
     "metadata": {},
     "output_type": "execute_result"
    },
    {
     "data": {
      "image/png": "[encoded data removed]",
      "text/plain": [
       "<Figure size 1080x360 with 2 Axes>"
      ]
     },
     "metadata": {
      "needs_background": "light"
     },
     "output_type": "display_data"
    }
   ],
   "source": [
    "fig, (ax1,ax2) = plt.subplots(1,2,figsize=(15,5),sharex=True,sharey=True)\n",
    "ax1.scatter(actual[0], actual[1])\n",
    "ax2.scatter(xpreds, ypreds)"
   ]
  },
  {
   "cell_type": "code",
   "execution_count": 185,
   "metadata": {},
   "outputs": [],
   "source": [
    "xpreds = xpreds.drop([568,1587])\n",
    "ypreds = ypreds.drop([568,1587])"
   ]
  },
  {
   "cell_type": "code",
   "execution_count": 186,
   "metadata": {},
   "outputs": [
    {
     "data": {
      "text/plain": [
       "<matplotlib.collections.PathCollection at 0x1a18867dd0>"
      ]
     },
     "execution_count": 186,
     "metadata": {},
     "output_type": "execute_result"
    },
    {
     "data": {
      "image/png": "[encoded data removed]",
      "text/plain": [
       "<Figure size 1080x360 with 2 Axes>"
      ]
     },
     "metadata": {
      "needs_background": "light"
     },
     "output_type": "display_data"
    }
   ],
   "source": [
    "fig, (ax1,ax2) = plt.subplots(1,2,figsize=(15,5),sharex=True,sharey=True)\n",
    "ax1.scatter(actual[0], actual[1])\n",
    "ax2.scatter(xpreds, ypreds)"
   ]
  },
  {
   "cell_type": "code",
   "execution_count": null,
   "metadata": {},
   "outputs": [],
   "source": [
    "def learnX_ds(num_samples, n, d):\n",
    "    beta_original = np.random.randint(-10,10)\n",
    "    beta_"
   ]
  },
  {
   "cell_type": "code",
   "execution_count": null,
   "metadata": {},
   "outputs": [],
   "source": []
  },
  {
   "cell_type": "code",
   "execution_count": null,
   "metadata": {},
   "outputs": [],
   "source": []
  },
  {
   "cell_type": "code",
   "execution_count": null,
   "metadata": {},
   "outputs": [],
   "source": []
  },
  {
   "cell_type": "code",
   "execution_count": 45,
   "metadata": {},
   "outputs": [],
   "source": [
    "actual = pd.read_csv('/Users/william/Documents/2019-2020/Thesis/code/sims/LearnX/Raw/ytest_10000_-100_100_1_1_20_False.csv', header=None)\n",
    "preds = pd.read_csv('/Users/william/Documents/2019-2020/Thesis/code/sims/LearnX/Predictions/10000_-100_100_1_1_20_False.csv', header=None)"
   ]
  },
  {
   "cell_type": "code",
   "execution_count": 46,
   "metadata": {},
   "outputs": [
    {
     "data": {
      "text/html": [
       "<div>\n",
       "<style scoped>\n",
       "    .dataframe tbody tr th:only-of-type {\n",
       "        vertical-align: middle;\n",
       "    }\n",
       "\n",
       "    .dataframe tbody tr th {\n",
       "        vertical-align: top;\n",
       "    }\n",
       "\n",
       "    .dataframe thead th {\n",
       "        text-align: right;\n",
       "    }\n",
       "</style>\n",
       "<table border=\"1\" class=\"dataframe\">\n",
       "  <thead>\n",
       "    <tr style=\"text-align: right;\">\n",
       "      <th></th>\n",
       "      <th>0</th>\n",
       "      <th>1</th>\n",
       "    </tr>\n",
       "  </thead>\n",
       "  <tbody>\n",
       "    <tr>\n",
       "      <td>0</td>\n",
       "      <td>0.474792</td>\n",
       "      <td>32.101976</td>\n",
       "    </tr>\n",
       "    <tr>\n",
       "      <td>1</td>\n",
       "      <td>0.333023</td>\n",
       "      <td>5.764829</td>\n",
       "    </tr>\n",
       "    <tr>\n",
       "      <td>2</td>\n",
       "      <td>-0.422527</td>\n",
       "      <td>-29.673412</td>\n",
       "    </tr>\n",
       "    <tr>\n",
       "      <td>3</td>\n",
       "      <td>1.177366</td>\n",
       "      <td>69.039632</td>\n",
       "    </tr>\n",
       "    <tr>\n",
       "      <td>4</td>\n",
       "      <td>-0.428588</td>\n",
       "      <td>-6.505702</td>\n",
       "    </tr>\n",
       "  </tbody>\n",
       "</table>\n",
       "</div>"
      ],
      "text/plain": [
       "          0          1\n",
       "0  0.474792  32.101976\n",
       "1  0.333023   5.764829\n",
       "2 -0.422527 -29.673412\n",
       "3  1.177366  69.039632\n",
       "4 -0.428588  -6.505702"
      ]
     },
     "execution_count": 46,
     "metadata": {},
     "output_type": "execute_result"
    }
   ],
   "source": [
    "actual.head()"
   ]
  },
  {
   "cell_type": "code",
   "execution_count": 47,
   "metadata": {},
   "outputs": [
    {
     "data": {
      "text/html": [
       "<div>\n",
       "<style scoped>\n",
       "    .dataframe tbody tr th:only-of-type {\n",
       "        vertical-align: middle;\n",
       "    }\n",
       "\n",
       "    .dataframe tbody tr th {\n",
       "        vertical-align: top;\n",
       "    }\n",
       "\n",
       "    .dataframe thead th {\n",
       "        text-align: right;\n",
       "    }\n",
       "</style>\n",
       "<table border=\"1\" class=\"dataframe\">\n",
       "  <thead>\n",
       "    <tr style=\"text-align: right;\">\n",
       "      <th></th>\n",
       "      <th>0</th>\n",
       "      <th>1</th>\n",
       "    </tr>\n",
       "  </thead>\n",
       "  <tbody>\n",
       "    <tr>\n",
       "      <td>0</td>\n",
       "      <td>0.080904</td>\n",
       "      <td>2.969283</td>\n",
       "    </tr>\n",
       "    <tr>\n",
       "      <td>1</td>\n",
       "      <td>0.119345</td>\n",
       "      <td>4.640407</td>\n",
       "    </tr>\n",
       "    <tr>\n",
       "      <td>2</td>\n",
       "      <td>-0.054336</td>\n",
       "      <td>-9.228866</td>\n",
       "    </tr>\n",
       "    <tr>\n",
       "      <td>3</td>\n",
       "      <td>-0.006494</td>\n",
       "      <td>-3.922242</td>\n",
       "    </tr>\n",
       "    <tr>\n",
       "      <td>4</td>\n",
       "      <td>0.108757</td>\n",
       "      <td>1.601803</td>\n",
       "    </tr>\n",
       "  </tbody>\n",
       "</table>\n",
       "</div>"
      ],
      "text/plain": [
       "          0         1\n",
       "0  0.080904  2.969283\n",
       "1  0.119345  4.640407\n",
       "2 -0.054336 -9.228866\n",
       "3 -0.006494 -3.922242\n",
       "4  0.108757  1.601803"
      ]
     },
     "execution_count": 47,
     "metadata": {},
     "output_type": "execute_result"
    }
   ],
   "source": [
    "preds.head()"
   ]
  },
  {
   "cell_type": "code",
   "execution_count": 66,
   "metadata": {},
   "outputs": [
    {
     "data": {
      "text/html": [
       "<div>\n",
       "<style scoped>\n",
       "    .dataframe tbody tr th:only-of-type {\n",
       "        vertical-align: middle;\n",
       "    }\n",
       "\n",
       "    .dataframe tbody tr th {\n",
       "        vertical-align: top;\n",
       "    }\n",
       "\n",
       "    .dataframe thead th {\n",
       "        text-align: right;\n",
       "    }\n",
       "</style>\n",
       "<table border=\"1\" class=\"dataframe\">\n",
       "  <thead>\n",
       "    <tr style=\"text-align: right;\">\n",
       "      <th></th>\n",
       "      <th>0</th>\n",
       "      <th>1</th>\n",
       "    </tr>\n",
       "  </thead>\n",
       "  <tbody>\n",
       "    <tr>\n",
       "      <td>count</td>\n",
       "      <td>2000.000000</td>\n",
       "      <td>2000.000000</td>\n",
       "    </tr>\n",
       "    <tr>\n",
       "      <td>mean</td>\n",
       "      <td>0.072477</td>\n",
       "      <td>2.160098</td>\n",
       "    </tr>\n",
       "    <tr>\n",
       "      <td>std</td>\n",
       "      <td>0.183493</td>\n",
       "      <td>11.306492</td>\n",
       "    </tr>\n",
       "    <tr>\n",
       "      <td>min</td>\n",
       "      <td>-1.313394</td>\n",
       "      <td>-94.184660</td>\n",
       "    </tr>\n",
       "    <tr>\n",
       "      <td>25%</td>\n",
       "      <td>0.020000</td>\n",
       "      <td>-1.458107</td>\n",
       "    </tr>\n",
       "    <tr>\n",
       "      <td>50%</td>\n",
       "      <td>0.047348</td>\n",
       "      <td>0.672648</td>\n",
       "    </tr>\n",
       "    <tr>\n",
       "      <td>75%</td>\n",
       "      <td>0.107299</td>\n",
       "      <td>4.730625</td>\n",
       "    </tr>\n",
       "    <tr>\n",
       "      <td>max</td>\n",
       "      <td>3.282078</td>\n",
       "      <td>194.612923</td>\n",
       "    </tr>\n",
       "  </tbody>\n",
       "</table>\n",
       "</div>"
      ],
      "text/plain": [
       "                 0            1\n",
       "count  2000.000000  2000.000000\n",
       "mean      0.072477     2.160098\n",
       "std       0.183493    11.306492\n",
       "min      -1.313394   -94.184660\n",
       "25%       0.020000    -1.458107\n",
       "50%       0.047348     0.672648\n",
       "75%       0.107299     4.730625\n",
       "max       3.282078   194.612923"
      ]
     },
     "execution_count": 66,
     "metadata": {},
     "output_type": "execute_result"
    }
   ],
   "source": [
    "preds.describe()"
   ]
  },
  {
   "cell_type": "code",
   "execution_count": 65,
   "metadata": {},
   "outputs": [
    {
     "data": {
      "text/plain": [
       "<matplotlib.collections.PathCollection at 0x1a1a499c10>"
      ]
     },
     "execution_count": 65,
     "metadata": {},
     "output_type": "execute_result"
    },
    {
     "data": {
      "image/png": "[encoded data removed]",
      "text/plain": [
       "<Figure size 432x288 with 1 Axes>"
      ]
     },
     "metadata": {
      "needs_background": "light"
     },
     "output_type": "display_data"
    }
   ],
   "source": [
    "fig = plt.figure()\n",
    "ax = fig.add_subplot(111)\n",
    "ax.scatter(actual[0], actual[1], c='r')\n",
    "ax.scatter(preds[0], preds[1], c='b')"
   ]
  },
  {
   "cell_type": "code",
   "execution_count": 67,
   "metadata": {},
   "outputs": [],
   "source": [
    "actual = pd.read_csv('/Users/william/Documents/2019-2020/Thesis/code/sims/LearnX/Raw/ytest_10000_-100_100_1_1_10_False.csv', header=None)\n",
    "preds = pd.read_csv('/Users/william/Documents/2019-2020/Thesis/code/sims/LearnX/Predictions/10000_-100_100_1_1_10_False.csv', header=None)"
   ]
  },
  {
   "cell_type": "code",
   "execution_count": 68,
   "metadata": {},
   "outputs": [
    {
     "data": {
      "text/plain": [
       "<matplotlib.collections.PathCollection at 0x1a1910a850>"
      ]
     },
     "execution_count": 68,
     "metadata": {},
     "output_type": "execute_result"
    },
    {
     "data": {
      "image/png": "[encoded data removed]",
      "text/plain": [
       "<Figure size 432x288 with 1 Axes>"
      ]
     },
     "metadata": {
      "needs_background": "light"
     },
     "output_type": "display_data"
    }
   ],
   "source": [
    "fig = plt.figure()\n",
    "ax = fig.add_subplot(111)\n",
    "ax.scatter(actual[0], actual[1], c='r')\n",
    "ax.scatter(preds[0], preds[1], c='b')"
   ]
  },
  {
   "cell_type": "code",
   "execution_count": 168,
   "metadata": {},
   "outputs": [
    {
     "data": {
      "text/plain": [
       "Text(0.5, 1.0, 'n=1, M=10')"
      ]
     },
     "execution_count": 168,
     "metadata": {},
     "output_type": "execute_result"
    },
    {
     "data": {
      "image/png": "[encoded data removed]",
      "text/plain": [
       "<Figure size 1080x360 with 2 Axes>"
      ]
     },
     "metadata": {
      "needs_background": "light"
     },
     "output_type": "display_data"
    }
   ],
   "source": [
    "fig, (ax1,ax2) = plt.subplots(1,2, figsize=(15,5))\n",
    "ax1.scatter(actual[0], actual[1], c='r', label='Actual')\n",
    "ax1.scatter(preds[0], preds[1], c='b', label='Predictions')\n",
    "ax1.legend()\n",
    "ax1.set_title('n=1, M=5')\n",
    "\n",
    "ax2.scatter(actual2[0], actual2[1], c='r', label='Actual')\n",
    "ax2.scatter(preds2[0], preds2[1], c='b', label='Predictions')\n",
    "ax2.legend()\n",
    "ax2.set_title('n=1, M=10')"
   ]
  },
  {
   "cell_type": "code",
   "execution_count": 162,
   "metadata": {},
   "outputs": [],
   "source": [
    "actual = pd.read_csv('/Users/william/Documents/2019-2020/Thesis/code/sims/LearnX/Raw/ytest_10000_-100_100_1_1_10_False.csv', header=None)\n",
    "preds = pd.read_csv('/Users/william/Documents/2019-2020/Thesis/code/sims/LearnX/Predictions/10000_-100_100_1_1_10_False.csv', header=None)"
   ]
  },
  {
   "cell_type": "code",
   "execution_count": 74,
   "metadata": {},
   "outputs": [
    {
     "data": {
      "text/plain": [
       "<matplotlib.collections.PathCollection at 0x1a19b90390>"
      ]
     },
     "execution_count": 74,
     "metadata": {},
     "output_type": "execute_result"
    },
    {
     "data": {
      "image/png": "[encoded data removed]",
      "text/plain": [
       "<Figure size 432x288 with 1 Axes>"
      ]
     },
     "metadata": {
      "needs_background": "light"
     },
     "output_type": "display_data"
    }
   ],
   "source": [
    "fig = plt.figure()\n",
    "ax = fig.add_subplot(111)\n",
    "ax.scatter(actual[0], actual[1], c='r')\n",
    "ax.scatter(preds[0], preds[1], c='b')"
   ]
  },
  {
   "cell_type": "code",
   "execution_count": 163,
   "metadata": {},
   "outputs": [],
   "source": [
    "actual2 = pd.read_csv('/Users/william/Documents/2019-2020/Thesis/code/sims/LearnX/Raw/ytest_50000_-100_100_1_1_10_False.csv', header=None)\n",
    "preds2 = pd.read_csv('/Users/william/Documents/2019-2020/Thesis/code/sims/LearnX/Predictions/50000_-100_100_1_1_10_False.csv', header=None)"
   ]
  },
  {
   "cell_type": "code",
   "execution_count": 155,
   "metadata": {},
   "outputs": [
    {
     "data": {
      "text/plain": [
       "<matplotlib.legend.Legend at 0x1a1baa2a90>"
      ]
     },
     "execution_count": 155,
     "metadata": {},
     "output_type": "execute_result"
    },
    {
     "data": {
      "image/png": "[encoded data removed]",
      "text/plain": [
       "<Figure size 432x288 with 1 Axes>"
      ]
     },
     "metadata": {
      "needs_background": "light"
     },
     "output_type": "display_data"
    }
   ],
   "source": [
    "fig = plt.figure()\n",
    "ax = fig.add_subplot(111)\n",
    "ax.scatter(actual[0], actual[1], c='r', label='Actual')\n",
    "ax.scatter(preds[0], preds[1], c='b', label='Predictions')\n",
    "ax.legend()"
   ]
  },
  {
   "cell_type": "code",
   "execution_count": 165,
   "metadata": {},
   "outputs": [],
   "source": [
    "actual = pd.read_csv('/Users/william/Documents/2019-2020/Thesis/code/sims/LearnX/Raw/ytest_50000_-100_100_1_1_5_False.csv', header=None)\n",
    "preds = pd.read_csv('/Users/william/Documents/2019-2020/Thesis/code/sims/LearnX/Predictions/50000_-100_100_1_1_5_False.csv', header=None)"
   ]
  },
  {
   "cell_type": "code",
   "execution_count": 159,
   "metadata": {},
   "outputs": [
    {
     "data": {
      "text/plain": [
       "<matplotlib.legend.Legend at 0x1a1bef0890>"
      ]
     },
     "execution_count": 159,
     "metadata": {},
     "output_type": "execute_result"
    },
    {
     "data": {
      "image/png": "[encoded data removed]",
      "text/plain": [
       "<Figure size 432x288 with 1 Axes>"
      ]
     },
     "metadata": {
      "needs_background": "light"
     },
     "output_type": "display_data"
    }
   ],
   "source": [
    "fig = plt.figure()\n",
    "ax = fig.add_subplot(111)\n",
    "ax.scatter(actual[0], actual[1], c='r', label='Actual')\n",
    "ax.scatter(preds[0], preds[1], c='b', label='Predictions')\n",
    "ax.legend()"
   ]
  },
  {
   "cell_type": "code",
   "execution_count": null,
   "metadata": {},
   "outputs": [],
   "source": []
  },
  {
   "cell_type": "code",
   "execution_count": 87,
   "metadata": {},
   "outputs": [],
   "source": [
    "lm = LinearRegression(fit_intercept=False)"
   ]
  },
  {
   "cell_type": "code",
   "execution_count": 89,
   "metadata": {},
   "outputs": [
    {
     "data": {
      "text/plain": [
       "LinearRegression(copy_X=True, fit_intercept=False, n_jobs=None, normalize=False)"
      ]
     },
     "execution_count": 89,
     "metadata": {},
     "output_type": "execute_result"
    }
   ],
   "source": [
    "lm.fit(preds[0].values.reshape(-1,1), preds[1])"
   ]
  },
  {
   "cell_type": "code",
   "execution_count": 91,
   "metadata": {},
   "outputs": [
    {
     "data": {
      "text/plain": [
       "array([72.64843821])"
      ]
     },
     "execution_count": 91,
     "metadata": {},
     "output_type": "execute_result"
    }
   ],
   "source": [
    "lm.coef_"
   ]
  },
  {
   "cell_type": "code",
   "execution_count": null,
   "metadata": {},
   "outputs": [],
   "source": []
  },
  {
   "cell_type": "code",
   "execution_count": null,
   "metadata": {},
   "outputs": [],
   "source": []
  },
  {
   "cell_type": "code",
   "execution_count": null,
   "metadata": {},
   "outputs": [],
   "source": []
  },
  {
   "cell_type": "code",
   "execution_count": 116,
   "metadata": {},
   "outputs": [],
   "source": [
    "def learnN(num_samples, d, num_updates):\n",
    "    ys = [0] * num_samples\n",
    "    betas = np.zeros((num_samples, num_updates+1, d))\n",
    "    updates = np.zeros((num_samples, num_updates, d+1))\n",
    "    lm = LinearRegression(fit_intercept=False)\n",
    "    for i in range(num_samples):\n",
    "        n = np.random.randint(1,1000)\n",
    "        ys[i] = n\n",
    "        X,y = make_regression(n_samples=n, n_features=d, n_informative=d, bias=False)\n",
    "        lm.fit(X,y)\n",
    "        betas[i,0] = lm.coef_\n",
    "        for j in range(num_updates):\n",
    "            updatex, updatey = make_regression(n_samples=1, n_features=d, n_informative=d)\n",
    "            updates[i,j] = np.insert(updatex, d, updatey, axis=1)\n",
    "            X = np.append(X, updatex, axis=0)\n",
    "            y = np.append(y, [updatey], axis=0)\n",
    "            lm.fit(X,y)\n",
    "            betas[i,j+1] = lm.coef_\n",
    "    updates_reshape = np.reshape(updates, (num_samples, num_updates*(d+1)))\n",
    "    X = np.append(updates_reshape, betas.reshape(num_samples, d*(num_updates+1)), axis=1)\n",
    "    return X,ys"
   ]
  },
  {
   "cell_type": "code",
   "execution_count": 117,
   "metadata": {},
   "outputs": [],
   "source": [
    "X,y = learnN(10, 1, 2)"
   ]
  },
  {
   "cell_type": "code",
   "execution_count": 118,
   "metadata": {},
   "outputs": [
    {
     "data": {
      "text/plain": [
       "[432, 996, 520, 554, 763, 452, 428, 724, 58, 129]"
      ]
     },
     "execution_count": 118,
     "metadata": {},
     "output_type": "execute_result"
    }
   ],
   "source": [
    "y"
   ]
  },
  {
   "cell_type": "code",
   "execution_count": 119,
   "metadata": {},
   "outputs": [
    {
     "data": {
      "text/plain": [
       "array([[-1.04436447e+00, -3.21388494e+01,  1.04751604e+00,\n",
       "         1.32002995e+01,  8.60526958e-01,  9.36645548e-01,\n",
       "         9.66431866e-01],\n",
       "       [ 1.95978366e+00,  1.05074571e+02,  6.38393157e-01,\n",
       "         6.20237697e+01,  7.18313661e+01,  7.17599575e+01,\n",
       "         7.17705171e+01],\n",
       "       [-9.26828182e-01, -6.26688043e+01, -5.59670638e-01,\n",
       "        -5.05271094e+01,  8.18138651e+01,  8.17906304e+01,\n",
       "         8.17956935e+01],\n",
       "       [-8.46366661e-01, -3.65155593e+01,  6.65999364e-01,\n",
       "         7.14792671e+00,  2.44690845e-01,  2.93018952e-01,\n",
       "         3.00296124e-01],\n",
       "       [ 1.81042513e-01,  1.58241695e-02,  2.81068599e-01,\n",
       "         1.51671640e+00,  4.12720890e+01,  4.12703337e+01,\n",
       "         4.12666489e+01],\n",
       "       [ 1.05407732e+00,  5.87780400e+01, -3.59468942e-01,\n",
       "        -2.07222907e+01,  8.15092375e+01,  8.14489049e+01,\n",
       "         8.14424200e+01],\n",
       "       [ 5.05835873e-01,  3.20689301e+01,  1.47736178e+00,\n",
       "         1.25686515e+02,  4.32732637e+01,  4.32852444e+01,\n",
       "         4.34963885e+01],\n",
       "       [-2.26047402e-01, -1.19790915e+01,  5.37882295e-04,\n",
       "         1.49210856e-02,  3.89868186e+00,  3.90178357e+00,\n",
       "         3.90178358e+00],\n",
       "       [ 4.90699241e-01,  8.91567609e+00,  1.62868734e+00,\n",
       "         4.13896568e+01,  8.15309240e+01,  8.13082313e+01,\n",
       "         7.92246898e+01],\n",
       "       [ 1.66078017e-01,  3.32828102e+00,  6.91483186e-01,\n",
       "         2.62280631e+01,  9.33070848e+01,  9.32905239e+01,\n",
       "         9.30744423e+01]])"
      ]
     },
     "execution_count": 119,
     "metadata": {},
     "output_type": "execute_result"
    }
   ],
   "source": [
    "X"
   ]
  },
  {
   "cell_type": "code",
   "execution_count": 143,
   "metadata": {},
   "outputs": [],
   "source": [
    "actual = pd.read_csv('/Users/william/Documents/2019-2020/Thesis/code/sims/LearnX/Raw/ytest_50000_-100_100_2_1_5_False.csv', header=None)\n",
    "preds = pd.read_csv('/Users/william/Documents/2019-2020/Thesis/code/sims/LearnX/Predictions/50000_-100_100_2_1_5_False.csv', header=None)"
   ]
  },
  {
   "cell_type": "code",
   "execution_count": 144,
   "metadata": {},
   "outputs": [
    {
     "data": {
      "text/html": [
       "<div>\n",
       "<style scoped>\n",
       "    .dataframe tbody tr th:only-of-type {\n",
       "        vertical-align: middle;\n",
       "    }\n",
       "\n",
       "    .dataframe tbody tr th {\n",
       "        vertical-align: top;\n",
       "    }\n",
       "\n",
       "    .dataframe thead th {\n",
       "        text-align: right;\n",
       "    }\n",
       "</style>\n",
       "<table border=\"1\" class=\"dataframe\">\n",
       "  <thead>\n",
       "    <tr style=\"text-align: right;\">\n",
       "      <th></th>\n",
       "      <th>0</th>\n",
       "      <th>1</th>\n",
       "      <th>2</th>\n",
       "      <th>3</th>\n",
       "    </tr>\n",
       "  </thead>\n",
       "  <tbody>\n",
       "    <tr>\n",
       "      <td>0</td>\n",
       "      <td>0.712476</td>\n",
       "      <td>35.641177</td>\n",
       "      <td>1.275406</td>\n",
       "      <td>63.801444</td>\n",
       "    </tr>\n",
       "    <tr>\n",
       "      <td>1</td>\n",
       "      <td>1.328430</td>\n",
       "      <td>43.349151</td>\n",
       "      <td>2.645677</td>\n",
       "      <td>86.333387</td>\n",
       "    </tr>\n",
       "    <tr>\n",
       "      <td>2</td>\n",
       "      <td>-1.176995</td>\n",
       "      <td>-83.952661</td>\n",
       "      <td>-0.230314</td>\n",
       "      <td>-16.427825</td>\n",
       "    </tr>\n",
       "    <tr>\n",
       "      <td>3</td>\n",
       "      <td>1.681707</td>\n",
       "      <td>167.151596</td>\n",
       "      <td>-0.992360</td>\n",
       "      <td>-98.634605</td>\n",
       "    </tr>\n",
       "    <tr>\n",
       "      <td>4</td>\n",
       "      <td>-0.757966</td>\n",
       "      <td>-0.837494</td>\n",
       "      <td>0.856272</td>\n",
       "      <td>0.946114</td>\n",
       "    </tr>\n",
       "    <tr>\n",
       "      <td>...</td>\n",
       "      <td>...</td>\n",
       "      <td>...</td>\n",
       "      <td>...</td>\n",
       "      <td>...</td>\n",
       "    </tr>\n",
       "    <tr>\n",
       "      <td>9995</td>\n",
       "      <td>-0.684750</td>\n",
       "      <td>-65.586434</td>\n",
       "      <td>-0.129954</td>\n",
       "      <td>-12.447187</td>\n",
       "    </tr>\n",
       "    <tr>\n",
       "      <td>9996</td>\n",
       "      <td>-0.485113</td>\n",
       "      <td>-9.309098</td>\n",
       "      <td>1.250507</td>\n",
       "      <td>23.996673</td>\n",
       "    </tr>\n",
       "    <tr>\n",
       "      <td>9997</td>\n",
       "      <td>0.261607</td>\n",
       "      <td>16.848029</td>\n",
       "      <td>-1.015130</td>\n",
       "      <td>-65.376491</td>\n",
       "    </tr>\n",
       "    <tr>\n",
       "      <td>9998</td>\n",
       "      <td>0.122071</td>\n",
       "      <td>5.136766</td>\n",
       "      <td>0.938399</td>\n",
       "      <td>39.487960</td>\n",
       "    </tr>\n",
       "    <tr>\n",
       "      <td>9999</td>\n",
       "      <td>-0.317775</td>\n",
       "      <td>-13.728365</td>\n",
       "      <td>1.465613</td>\n",
       "      <td>63.316749</td>\n",
       "    </tr>\n",
       "  </tbody>\n",
       "</table>\n",
       "<p>10000 rows × 4 columns</p>\n",
       "</div>"
      ],
      "text/plain": [
       "             0           1         2          3\n",
       "0     0.712476   35.641177  1.275406  63.801444\n",
       "1     1.328430   43.349151  2.645677  86.333387\n",
       "2    -1.176995  -83.952661 -0.230314 -16.427825\n",
       "3     1.681707  167.151596 -0.992360 -98.634605\n",
       "4    -0.757966   -0.837494  0.856272   0.946114\n",
       "...        ...         ...       ...        ...\n",
       "9995 -0.684750  -65.586434 -0.129954 -12.447187\n",
       "9996 -0.485113   -9.309098  1.250507  23.996673\n",
       "9997  0.261607   16.848029 -1.015130 -65.376491\n",
       "9998  0.122071    5.136766  0.938399  39.487960\n",
       "9999 -0.317775  -13.728365  1.465613  63.316749\n",
       "\n",
       "[10000 rows x 4 columns]"
      ]
     },
     "execution_count": 144,
     "metadata": {},
     "output_type": "execute_result"
    }
   ],
   "source": [
    "actual"
   ]
  },
  {
   "cell_type": "code",
   "execution_count": 145,
   "metadata": {},
   "outputs": [],
   "source": [
    "actual = np.append(actual[[0,1]], actual[[2,3]], axis=0)\n",
    "preds = np.append(preds[[0,1]], preds[[2,3]], axis=0)"
   ]
  },
  {
   "cell_type": "code",
   "execution_count": 146,
   "metadata": {},
   "outputs": [
    {
     "data": {
      "text/plain": [
       "20000"
      ]
     },
     "execution_count": 146,
     "metadata": {},
     "output_type": "execute_result"
    }
   ],
   "source": [
    "len(actual)"
   ]
  },
  {
   "cell_type": "code",
   "execution_count": 147,
   "metadata": {},
   "outputs": [
    {
     "data": {
      "text/plain": [
       "array([[  0.71247586,  35.64117728],\n",
       "       [  1.3284298 ,  43.34915091],\n",
       "       [ -1.17699532, -83.95266106],\n",
       "       ...,\n",
       "       [ -1.01513027, -65.37649119],\n",
       "       [  0.93839871,  39.48796026],\n",
       "       [  1.46561256,  63.31674907]])"
      ]
     },
     "execution_count": 147,
     "metadata": {},
     "output_type": "execute_result"
    }
   ],
   "source": [
    "actual"
   ]
  },
  {
   "cell_type": "code",
   "execution_count": 149,
   "metadata": {},
   "outputs": [
    {
     "data": {
      "text/plain": [
       "<matplotlib.collections.PathCollection at 0x1a19334d90>"
      ]
     },
     "execution_count": 149,
     "metadata": {},
     "output_type": "execute_result"
    },
    {
     "data": {
      "image/png": "[encoded data removed]",
      "text/plain": [
       "<Figure size 432x288 with 1 Axes>"
      ]
     },
     "metadata": {
      "needs_background": "light"
     },
     "output_type": "display_data"
    }
   ],
   "source": [
    "fig = plt.figure()\n",
    "ax = fig.add_subplot(111)\n",
    "ax.scatter(actual[:,0], actual[:,1], c='r')\n",
    "ax.scatter(preds[:,0], preds[:,1], c='b')"
   ]
  },
  {
   "cell_type": "code",
   "execution_count": null,
   "metadata": {},
   "outputs": [],
   "source": []
  }
 ],
 "metadata": {
  "kernelspec": {
   "display_name": "Python [conda env:T02] *",
   "language": "python",
   "name": "conda-env-T02-py"
  },
  "language_info": {
   "codemirror_mode": {
    "name": "ipython",
    "version": 3
   },
   "file_extension": ".py",
   "mimetype": "text/x-python",
   "name": "python",
   "nbconvert_exporter": "python",
   "pygments_lexer": "ipython3",
   "version": "3.7.4"
  }
 },
 "nbformat": 4,
 "nbformat_minor": 2
}
