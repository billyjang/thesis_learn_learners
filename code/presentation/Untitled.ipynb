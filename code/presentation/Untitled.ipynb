{
 "cells": [
  {
   "cell_type": "code",
   "execution_count": 1,
   "metadata": {},
   "outputs": [],
   "source": [
    "import numpy as np\n",
    "import pandas as pd\n",
    "import matplotlib.pyplot as plt\n",
    "from sympy import *\n",
    "from sklearn.linear_model import LinearRegression\n",
    "init_printing(use_unicode=True)"
   ]
  },
  {
   "cell_type": "code",
   "execution_count": 4,
   "metadata": {},
   "outputs": [],
   "source": [
    "# reads in data from a csv or txt file\n",
    "# format is x1, x2, x3, y\n",
    "# returns X, y\n",
    "\n",
    "def read_data(data):\n",
    "    pts = np.genfromtxt(data, delimiter=',')\n",
    "    try:\n",
    "        d = len(pts[0]) - 1\n",
    "        n = len(pts)\n",
    "        X = pts[:,:-1]\n",
    "        y = pts[:,-1:]\n",
    "    except:\n",
    "        d = len(pts) - 1\n",
    "        n = 1\n",
    "        X = pts[:-1].reshape(n,d)\n",
    "        y = pts[-1].reshape(n,1)\n",
    "    return(X,y)\n",
    "\n",
    "# reads in data from a 2d array\n",
    "# format is [[x1,x2,x3,y], [x1,x2,x3,y]]\n",
    "# returns X, y\n",
    "\n",
    "def create_dataset(pts):\n",
    "    try:\n",
    "        d = len(pts[0]) - 1\n",
    "        n = len(pts)\n",
    "        X = pts[:,:-1]\n",
    "        y = pts[:,-1:]\n",
    "    except:\n",
    "        d = len(pts) - 1\n",
    "        n = 1\n",
    "        X = pts[:-1].reshape(n,d)\n",
    "        y = pts[-1].reshape(n,1)\n",
    "    return(X,y)\n",
    "\n",
    "def normal(X, y):\n",
    "    XT = X.T\n",
    "    XTX = XT*X\n",
    "    XTX_inv = XTX**-1\n",
    "    XTy = XT*y\n",
    "    return XTX_inv * XTy"
   ]
  },
  {
   "cell_type": "code",
   "execution_count": 5,
   "metadata": {},
   "outputs": [],
   "source": [
    "def update_normal(X_full, y_full, X_obscured, y_obscured, original_n):\n",
    "    #update this so it works based on number of pts and number of dimensions\n",
    "    # i think i can make this faster maybe? using some sort of optimization\n",
    "    try:\n",
    "        n,d = X.shape\n",
    "        #X_list, y_list = X_full.tolist(), y_full.tolist()\n",
    "        theta_full = []\n",
    "        lefts = []\n",
    "        original_X, original_y = X_full[:original_n,:], y_full[:original_n,:]\n",
    "        original_X_obs, original_y_obs = X_obscured[:original_n,:], y_obscured[:original_n,:]\n",
    "\n",
    "        lm = LinearRegression(fit_intercept=False)\n",
    "\n",
    "        lm.fit(original_X, original_y)\n",
    "        theta_full.append(lm.coef_[0])\n",
    "        for i in range(original_n+1, n+1):\n",
    "            try:\n",
    "                updated_X, updated_y = X_full[:i,:], y_full[:i,:]\n",
    "                updated_X_obs, updated_y_obs = X_obscured[:i,:], y_obscured[:i,:]\n",
    "\n",
    "                lm.fit(updated_X, updated_y)\n",
    "                theta_full.append(lm.coef_[0])\n",
    "\n",
    "                left = normal(updated_X_obs, updated_y_obs)\n",
    "                lefts.append(left)\n",
    "            except:\n",
    "                continue\n",
    "        sys_eqs = []\n",
    "        diff = len(theta_full) - len(lefts)\n",
    "        print(diff)\n",
    "        for i in range(len(lefts)):\n",
    "            for j in range(d):\n",
    "                eq = lefts[i][j] - theta_full[i+diff][j]\n",
    "                sys_eqs.append(eq)\n",
    "        return theta_full, lefts, sys_eqs\n",
    "        #return theta_full, lefts\n",
    "        #return solvers.solve(sys_eqs)\n",
    "        #return nonlinsolve(sys_eqs, [x_1,x_2,x_3,y_1])\n",
    "    except:\n",
    "        print(\"No solution, I think\")"
   ]
  },
  {
   "cell_type": "code",
   "execution_count": null,
   "metadata": {},
   "outputs": [],
   "source": [
    "x_1, x_2, x_3, y_1, y_2, y_3, theta_1, theta_2, theta_3 = symbols('x^{(1)} x^{(2)} x^{(3}} y^{(1)} y^{(2)} y^{(3)} \\Theta^{(1)} \\Theta^{(2)} \\Theta^{(3)}')"
   ]
  },
  {
   "cell_type": "code",
   "execution_count": null,
   "metadata": {},
   "outputs": [],
   "source": [
    "x1"
   ]
  },
  {
   "cell_type": "code",
   "execution_count": null,
   "metadata": {},
   "outputs": [],
   "source": [
    "def getOriginalDS(betas, updates, originaln, originald):\n",
    "    "
   ]
  }
 ],
 "metadata": {
  "kernelspec": {
   "display_name": "Python [conda env:T02] *",
   "language": "python",
   "name": "conda-env-T02-py"
  },
  "language_info": {
   "codemirror_mode": {
    "name": "ipython",
    "version": 3
   },
   "file_extension": ".py",
   "mimetype": "text/x-python",
   "name": "python",
   "nbconvert_exporter": "python",
   "pygments_lexer": "ipython3",
   "version": "3.7.4"
  }
 },
 "nbformat": 4,
 "nbformat_minor": 2
}
