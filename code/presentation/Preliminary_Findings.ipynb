{
 "cells": [
  {
   "cell_type": "code",
   "execution_count": null,
   "metadata": {},
   "outputs": [],
   "source": []
  },
  {
   "cell_type": "code",
   "execution_count": 1,
   "metadata": {},
   "outputs": [],
   "source": [
    "import numpy as np\n",
    "import pandas as pd\n",
    "import matplotlib.pyplot as plt\n",
    "from sympy import *\n",
    "from sklearn.linear_model import LinearRegression\n",
    "init_printing(use_unicode=True)"
   ]
  },
  {
   "cell_type": "code",
   "execution_count": 2,
   "metadata": {},
   "outputs": [],
   "source": [
    "# reads in data from a csv or txt file\n",
    "# format is x1, x2, x3, y\n",
    "# returns X, y\n",
    "\n",
    "def read_data(data):\n",
    "    pts = np.genfromtxt(data, delimiter=',')\n",
    "    try:\n",
    "        d = len(pts[0]) - 1\n",
    "        n = len(pts)\n",
    "        X = pts[:,:-1]\n",
    "        y = pts[:,-1:]\n",
    "    except:\n",
    "        d = len(pts) - 1\n",
    "        n = 1\n",
    "        X = pts[:-1].reshape(n,d)\n",
    "        y = pts[-1].reshape(n,1)\n",
    "    return(X,y)"
   ]
  },
  {
   "cell_type": "code",
   "execution_count": 3,
   "metadata": {},
   "outputs": [],
   "source": [
    "# reads in data from a 2d array\n",
    "# format is [[x1,x2,x3,y], [x1,x2,x3,y]]\n",
    "# returns X, y\n",
    "\n",
    "def create_dataset(pts):\n",
    "    try:\n",
    "        d = len(pts[0]) - 1\n",
    "        n = len(pts)\n",
    "        X = pts[:,:-1]\n",
    "        y = pts[:,-1:]\n",
    "    except:\n",
    "        d = len(pts) - 1\n",
    "        n = 1\n",
    "        X = pts[:-1].reshape(n,d)\n",
    "        y = pts[-1].reshape(n,1)\n",
    "    return(X,y)"
   ]
  },
  {
   "cell_type": "markdown",
   "metadata": {},
   "source": [
    "## N known, no intercept, N = 1, D = 1"
   ]
  },
  {
   "cell_type": "code",
   "execution_count": 4,
   "metadata": {},
   "outputs": [],
   "source": [
    "x_1, x_2, x_3, y_1, y_2, y_3, theta_1, theta_2, theta_3 = symbols('x^{(1)} x^{(2)} x^{(3}} y^{(1)} y^{(2)} y^{(3)} \\Theta^{(1)} \\Theta^{(2)} \\Theta^{(3)}')"
   ]
  },
  {
   "cell_type": "code",
   "execution_count": 5,
   "metadata": {},
   "outputs": [],
   "source": [
    "X = Matrix([x_1, x_2]).T\n",
    "y = Matrix([y_1, y_2])"
   ]
  },
  {
   "cell_type": "code",
   "execution_count": 6,
   "metadata": {},
   "outputs": [],
   "source": [
    "def normal(X, y):\n",
    "    XT = X.T\n",
    "    XTX = XT*X\n",
    "    XTX_inv = XTX**-1\n",
    "    XTy = XT*y\n",
    "    return XTX_inv * XTy"
   ]
  },
  {
   "cell_type": "code",
   "execution_count": 7,
   "metadata": {},
   "outputs": [],
   "source": [
    "def update_normal(X_full, y_full, X_obscured, y_obscured, original_n):\n",
    "    #update this so it works based on number of pts and number of dimensions\n",
    "    # i think i can make this faster maybe? using some sort of optimization\n",
    "    try:\n",
    "        n,d = X.shape\n",
    "        #X_list, y_list = X_full.tolist(), y_full.tolist()\n",
    "        theta_full = []\n",
    "        lefts = []\n",
    "        original_X, original_y = X_full[:original_n,:], y_full[:original_n,:]\n",
    "        original_X_obs, original_y_obs = X_obscured[:original_n,:], y_obscured[:original_n,:]\n",
    "\n",
    "        lm = LinearRegression(fit_intercept=False)\n",
    "\n",
    "        lm.fit(original_X, original_y)\n",
    "        theta_full.append(lm.coef_[0])\n",
    "        for i in range(original_n+1, n+1):\n",
    "            try:\n",
    "                updated_X, updated_y = X_full[:i,:], y_full[:i,:]\n",
    "                updated_X_obs, updated_y_obs = X_obscured[:i,:], y_obscured[:i,:]\n",
    "\n",
    "                lm.fit(updated_X, updated_y)\n",
    "                theta_full.append(lm.coef_[0])\n",
    "\n",
    "                left = normal(updated_X_obs, updated_y_obs)\n",
    "                lefts.append(left)\n",
    "            except:\n",
    "                continue\n",
    "        sys_eqs = []\n",
    "        diff = len(theta_full) - len(lefts)\n",
    "        print(diff)\n",
    "        for i in range(len(lefts)):\n",
    "            for j in range(d):\n",
    "                eq = lefts[i][j] - theta_full[i+diff][j]\n",
    "                sys_eqs.append(eq)\n",
    "        return theta_full, lefts, sys_eqs\n",
    "        #return theta_full, lefts\n",
    "        #return solvers.solve(sys_eqs)\n",
    "        #return nonlinsolve(sys_eqs, [x_1,x_2,x_3,y_1])\n",
    "    except:\n",
    "        print(\"No solution, I think\")"
   ]
  },
  {
   "cell_type": "code",
   "execution_count": null,
   "metadata": {},
   "outputs": [],
   "source": []
  },
  {
   "cell_type": "code",
   "execution_count": 26,
   "metadata": {},
   "outputs": [
    {
     "name": "stdout",
     "output_type": "stream",
     "text": [
      "1\n"
     ]
    }
   ],
   "source": [
    "X = Matrix([[3],[4],[1],[7],[2],[-4],[6]])\n",
    "y = Matrix([2,5,9,8,2,7,1])\n",
    "X_obs = Matrix([[x_1],[x_2],[1],[7],[2],[-4],[6]])\n",
    "y_obs = Matrix([y_1,y_2,9,8,2,7,1])\n",
    "sols = update_normal(X,y,X_obs,y_obs,2)"
   ]
  },
  {
   "cell_type": "code",
   "execution_count": 27,
   "metadata": {},
   "outputs": [
    {
     "data": {
      "text/plain": [
       "[array([1.04]),\n",
       " array([1.34615385]),\n",
       " array([1.21333333]),\n",
       " array([1.20253165]),\n",
       " array([0.70526316]),\n",
       " array([0.55725191])]"
      ]
     },
     "execution_count": 27,
     "metadata": {},
     "output_type": "execute_result"
    }
   ],
   "source": [
    "sols[0]"
   ]
  },
  {
   "cell_type": "code",
   "execution_count": 20,
   "metadata": {},
   "outputs": [
    {
     "data": {
      "text/latex": [
       "$\\displaystyle \\left[ \\left[\\begin{matrix}\\frac{x^{(1)} y^{(1)} + x^{(2)} y^{(2)} + 9}{\\left(x^{(1)}\\right)^{2} + \\left(x^{(2)}\\right)^{2} + 1}\\end{matrix}\\right], \\  \\left[\\begin{matrix}\\frac{x^{(1)} y^{(1)} + x^{(2)} y^{(2)} + 65}{\\left(x^{(1)}\\right)^{2} + \\left(x^{(2)}\\right)^{2} + 50}\\end{matrix}\\right], \\  \\left[\\begin{matrix}\\frac{x^{(1)} y^{(1)} + x^{(2)} y^{(2)} + 69}{\\left(x^{(1)}\\right)^{2} + \\left(x^{(2)}\\right)^{2} + 54}\\end{matrix}\\right], \\  \\left[\\begin{matrix}\\frac{x^{(1)} y^{(1)} + x^{(2)} y^{(2)} + 41}{\\left(x^{(1)}\\right)^{2} + \\left(x^{(2)}\\right)^{2} + 70}\\end{matrix}\\right]\\right]$"
      ],
      "text/plain": [
       "⎡⎡x__{(1)}⋅y__{(1)} + x__{(2)}⋅y__{(2)} + 9⎤  ⎡x__{(1)}⋅y__{(1)} + x__{(2)}⋅y_\n",
       "⎢⎢─────────────────────────────────────────⎥  ⎢───────────────────────────────\n",
       "⎢⎢                2           2            ⎥, ⎢                2           2  \n",
       "⎣⎣        x__{(1)}  + x__{(2)}  + 1        ⎦  ⎣        x__{(1)}  + x__{(2)}  +\n",
       "\n",
       "_{(2)} + 65⎤  ⎡x__{(1)}⋅y__{(1)} + x__{(2)}⋅y__{(2)} + 69⎤  ⎡x__{(1)}⋅y__{(1)}\n",
       "───────────⎥  ⎢──────────────────────────────────────────⎥  ⎢─────────────────\n",
       "           ⎥, ⎢                2           2             ⎥, ⎢                2\n",
       " 50        ⎦  ⎣        x__{(1)}  + x__{(2)}  + 54        ⎦  ⎣        x__{(1)} \n",
       "\n",
       " + x__{(2)}⋅y__{(2)} + 41⎤⎤\n",
       "─────────────────────────⎥⎥\n",
       "           2             ⎥⎥\n",
       " + x__{(2)}  + 70        ⎦⎦"
      ]
     },
     "execution_count": 20,
     "metadata": {},
     "output_type": "execute_result"
    }
   ],
   "source": [
    "sols[1]"
   ]
  },
  {
   "cell_type": "code",
   "execution_count": 21,
   "metadata": {},
   "outputs": [],
   "source": [
    "foc = sols[1]"
   ]
  },
  {
   "cell_type": "code",
   "execution_count": 24,
   "metadata": {},
   "outputs": [
    {
     "name": "stdout",
     "output_type": "stream",
     "text": [
      "1\n"
     ]
    }
   ],
   "source": [
    "X = Matrix([[4.85254],[1.20535],[1],[7],[2],[-4]])\n",
    "y = Matrix([4.38177,3.8302,9,8,2,7])\n",
    "X_obs = Matrix([[x_1],[x_2],[1],[7],[2],[-4]])\n",
    "y_obs = Matrix([y_1,y_2,9,8,2,7])\n",
    "sols = update_normal(X,y,X_obs,y_obs,2)"
   ]
  },
  {
   "cell_type": "code",
   "execution_count": 25,
   "metadata": {},
   "outputs": [
    {
     "data": {
      "text/plain": [
       "[array([1.03517729]),\n",
       " array([1.34151647]),\n",
       " array([1.21172573]),\n",
       " array([1.20100544]),\n",
       " array([0.70399407])]"
      ]
     },
     "execution_count": 25,
     "metadata": {},
     "output_type": "execute_result"
    }
   ],
   "source": [
    "sols[0]"
   ]
  },
  {
   "cell_type": "code",
   "execution_count": null,
   "metadata": {},
   "outputs": [],
   "source": []
  },
  {
   "cell_type": "markdown",
   "metadata": {},
   "source": [
    "## N = 1, D = 1, N known, no intercept"
   ]
  },
  {
   "cell_type": "markdown",
   "metadata": {},
   "source": [
    "can you learn size of n?"
   ]
  },
  {
   "cell_type": "code",
   "execution_count": 38,
   "metadata": {},
   "outputs": [],
   "source": [
    "X = Matrix([[0],[1]])\n",
    "y = Matrix([0,3])\n",
    "X_obs = Matrix([[x_1],[1]])\n",
    "y_obs = Matrix([y_1,3])"
   ]
  },
  {
   "cell_type": "code",
   "execution_count": 39,
   "metadata": {},
   "outputs": [
    {
     "name": "stdout",
     "output_type": "stream",
     "text": [
      "1\n"
     ]
    }
   ],
   "source": [
    "sols = update_normal(X,y,X_obs,y_obs,1)"
   ]
  },
  {
   "cell_type": "code",
   "execution_count": 42,
   "metadata": {},
   "outputs": [
    {
     "data": {
      "image/png": "[encoded data removed]",
      "text/latex": [
       "$\\displaystyle \\left[ -3.0 + \\frac{x^{(1)} y^{(1)} + 3}{\\left(x^{(1)}\\right)^{2} + 1}\\right]$"
      ],
      "text/plain": [
       "⎡       x__{(1)}⋅y__{(1)} + 3⎤\n",
       "⎢-3.0 + ─────────────────────⎥\n",
       "⎢                   2        ⎥\n",
       "⎣           x__{(1)}  + 1    ⎦"
      ]
     },
     "execution_count": 42,
     "metadata": {},
     "output_type": "execute_result"
    }
   ],
   "source": [
    "sols[2]"
   ]
  },
  {
   "cell_type": "code",
   "execution_count": 43,
   "metadata": {},
   "outputs": [
    {
     "data": {
      "image/png": "[encoded data removed]",
      "text/latex": [
       "$\\displaystyle \\left[ \\left\\{ x^{(1)} : 0.0\\right\\}, \\  \\left\\{ x^{(1)} : 0.333333333333333 y^{(1)}\\right\\}\\right]$"
      ],
      "text/plain": [
       "[{x__{(1)}: 0.0}, {x__{(1)}: 0.333333333333333⋅y__{(1)}}]"
      ]
     },
     "execution_count": 43,
     "metadata": {},
     "output_type": "execute_result"
    }
   ],
   "source": [
    "solvers.solve(sols[2])"
   ]
  },
  {
   "cell_type": "code",
   "execution_count": 31,
   "metadata": {},
   "outputs": [
    {
     "data": {
      "text/plain": [
       "[array([0.]), array([3.])]"
      ]
     },
     "execution_count": 31,
     "metadata": {},
     "output_type": "execute_result"
    }
   ],
   "source": [
    "sols[0]"
   ]
  },
  {
   "cell_type": "code",
   "execution_count": null,
   "metadata": {},
   "outputs": [],
   "source": [
    "sols"
   ]
  },
  {
   "cell_type": "code",
   "execution_count": 43,
   "metadata": {},
   "outputs": [
    {
     "data": {
      "image/png": "[encoded data removed]",
      "text/latex": [
       "$\\displaystyle 1.0 x^{(1)}$"
      ],
      "text/plain": [
       "1.0⋅x__{(1)}"
      ]
     },
     "execution_count": 43,
     "metadata": {},
     "output_type": "execute_result"
    }
   ],
   "source": [
    "sols[1][x_1].subs(y_1, 3*x_1)"
   ]
  },
  {
   "cell_type": "code",
   "execution_count": 25,
   "metadata": {},
   "outputs": [],
   "source": [
    "X = Matrix([[3],[1]])\n",
    "y = Matrix([5,3])\n",
    "X_obs = Matrix([[x_1],[1]])\n",
    "y_obs = Matrix([y_1,3])"
   ]
  },
  {
   "cell_type": "code",
   "execution_count": 26,
   "metadata": {},
   "outputs": [
    {
     "name": "stdout",
     "output_type": "stream",
     "text": [
      "1\n"
     ]
    }
   ],
   "source": [
    "sols = update_normal(X,y,X_obs,y_obs,1)"
   ]
  },
  {
   "cell_type": "code",
   "execution_count": 27,
   "metadata": {},
   "outputs": [
    {
     "data": {
      "text/latex": [
       "$\\displaystyle \\left[ \\left[\\begin{matrix}\\frac{x^{(1)} y^{(1)} + 3}{\\left(x^{(1)}\\right)^{2} + 1}\\end{matrix}\\right]\\right]$"
      ],
      "text/plain": [
       "⎡⎡x__{(1)}⋅y__{(1)} + 3⎤⎤\n",
       "⎢⎢─────────────────────⎥⎥\n",
       "⎢⎢            2        ⎥⎥\n",
       "⎣⎣    x__{(1)}  + 1    ⎦⎦"
      ]
     },
     "execution_count": 27,
     "metadata": {},
     "output_type": "execute_result"
    }
   ],
   "source": [
    "sols[1]"
   ]
  },
  {
   "cell_type": "code",
   "execution_count": 47,
   "metadata": {},
   "outputs": [
    {
     "data": {
      "image/png": "[encoded data removed]",
      "text/latex": [
       "$\\displaystyle \\left[ \\left\\{ x^{(1)} : 0.277777777777778 y^{(1)} - 0.0555555555555556 \\sqrt{25.0 \\left(y^{(1)}\\right)^{2} + 216.0}\\right\\}, \\  \\left\\{ x^{(1)} : 0.277777777777778 y^{(1)} + 0.0555555555555556 \\sqrt{25.0 \\left(y^{(1)}\\right)^{2} + 216.0}\\right\\}\\right]$"
      ],
      "text/plain": [
       "⎡⎧                                                             _______________\n",
       "⎢⎨                                                            ╱              2\n",
       "⎣⎩x__{(1)}: 0.277777777777778⋅y__{(1)} - 0.0555555555555556⋅╲╱  25.0⋅y__{(1)} \n",
       "\n",
       "_________⎫  ⎧                                                             ____\n",
       "         ⎬  ⎨                                                            ╱    \n",
       " + 216.0 ⎭, ⎩x__{(1)}: 0.277777777777778⋅y__{(1)} + 0.0555555555555556⋅╲╱  25.\n",
       "\n",
       "____________________⎫⎤\n",
       "          2         ⎬⎥\n",
       "0⋅y__{(1)}  + 216.0 ⎭⎦"
      ]
     },
     "execution_count": 47,
     "metadata": {},
     "output_type": "execute_result"
    }
   ],
   "source": [
    "sols"
   ]
  },
  {
   "cell_type": "code",
   "execution_count": 13,
   "metadata": {},
   "outputs": [],
   "source": [
    "# should not have a solution\n",
    "X = Matrix([[3,4],[1,2]])\n",
    "y = Matrix([5,3])\n",
    "X_obs = Matrix([[x_1,x_2],[1,2]])\n",
    "y_obs = Matrix([y_1,3])"
   ]
  },
  {
   "cell_type": "code",
   "execution_count": 14,
   "metadata": {},
   "outputs": [
    {
     "name": "stdout",
     "output_type": "stream",
     "text": [
      "1\n"
     ]
    }
   ],
   "source": [
    "sols = update_normal(X,y,X_obs,y_obs,1)"
   ]
  },
  {
   "cell_type": "code",
   "execution_count": 16,
   "metadata": {},
   "outputs": [
    {
     "data": {
      "text/latex": [
       "$\\displaystyle \\left[ \\left[\\begin{matrix}- \\frac{\\left(x^{(1)} x^{(2)} + 2\\right) \\left(x^{(2)} y^{(1)} + 6\\right)}{\\left(\\left(x^{(1)}\\right)^{2} + 1\\right) \\left(\\left(x^{(2)}\\right)^{2} + 4\\right) - \\left(x^{(1)} x^{(2)} + 2\\right)^{2}} + \\frac{\\left(x^{(1)} y^{(1)} + 3\\right) \\left(\\left(\\left(x^{(1)}\\right)^{2} + 1\\right) \\left(\\left(x^{(2)}\\right)^{2} + 4\\right) - \\left(- x^{(1)} x^{(2)} - 2\\right) \\left(x^{(1)} x^{(2)} + 2\\right) - \\left(x^{(1)} x^{(2)} + 2\\right)^{2}\\right)}{\\left(\\left(x^{(1)}\\right)^{2} + 1\\right) \\left(\\left(\\left(x^{(1)}\\right)^{2} + 1\\right) \\left(\\left(x^{(2)}\\right)^{2} + 4\\right) - \\left(x^{(1)} x^{(2)} + 2\\right)^{2}\\right)}\\\\\\frac{\\left(\\left(x^{(1)}\\right)^{2} + 1\\right) \\left(x^{(2)} y^{(1)} + 6\\right)}{\\left(\\left(x^{(1)}\\right)^{2} + 1\\right) \\left(\\left(x^{(2)}\\right)^{2} + 4\\right) - \\left(x^{(1)} x^{(2)} + 2\\right)^{2}} + \\frac{\\left(- x^{(1)} x^{(2)} - 2\\right) \\left(x^{(1)} y^{(1)} + 3\\right)}{\\left(\\left(x^{(1)}\\right)^{2} + 1\\right) \\left(\\left(x^{(2)}\\right)^{2} + 4\\right) - \\left(x^{(1)} x^{(2)} + 2\\right)^{2}}\\end{matrix}\\right]\\right]$"
      ],
      "text/plain": [
       "⎡⎡                                                                            \n",
       "⎢⎢       (x__{(1)}⋅x__{(2)} + 2)⋅(x__{(2)}⋅y__{(1)} + 6)         (x__{(1)}⋅y__\n",
       "⎢⎢- ────────────────────────────────────────────────────────── + ─────────────\n",
       "⎢⎢  ⎛        2    ⎞ ⎛        2    ⎞                          2                \n",
       "⎢⎢  ⎝x__{(1)}  + 1⎠⋅⎝x__{(2)}  + 4⎠ - (x__{(1)}⋅x__{(2)} + 2)                 \n",
       "⎢⎢                                                                            \n",
       "⎢⎢                                                ⎛        2    ⎞             \n",
       "⎢⎢                                                ⎝x__{(1)}  + 1⎠⋅(x__{(2)}⋅y_\n",
       "⎢⎢                                       ─────────────────────────────────────\n",
       "⎢⎢                                       ⎛        2    ⎞ ⎛        2    ⎞      \n",
       "⎣⎣                                       ⎝x__{(1)}  + 1⎠⋅⎝x__{(2)}  + 4⎠ - (x_\n",
       "\n",
       "           ⎛⎛        2    ⎞ ⎛        2    ⎞                                   \n",
       "{(1)} + 3)⋅⎝⎝x__{(1)}  + 1⎠⋅⎝x__{(2)}  + 4⎠ - (-x__{(1)}⋅x__{(2)} - 2)⋅(x__{(1\n",
       "──────────────────────────────────────────────────────────────────────────────\n",
       "                 ⎛        2    ⎞ ⎛⎛        2    ⎞ ⎛        2    ⎞             \n",
       "                 ⎝x__{(1)}  + 1⎠⋅⎝⎝x__{(1)}  + 1⎠⋅⎝x__{(2)}  + 4⎠ - (x__{(1)}⋅\n",
       "                                                                              \n",
       "                                                                              \n",
       "_{(1)} + 6)                  (-x__{(1)}⋅x__{(2)} - 2)⋅(x__{(1)}⋅y__{(1)} + 3) \n",
       "───────────────────── + ──────────────────────────────────────────────────────\n",
       "                    2   ⎛        2    ⎞ ⎛        2    ⎞                       \n",
       "_{(1)}⋅x__{(2)} + 2)    ⎝x__{(1)}  + 1⎠⋅⎝x__{(2)}  + 4⎠ - (x__{(1)}⋅x__{(2)} +\n",
       "\n",
       "                                          2⎞⎤⎤\n",
       ")}⋅x__{(2)} + 2) - (x__{(1)}⋅x__{(2)} + 2) ⎠⎥⎥\n",
       "────────────────────────────────────────────⎥⎥\n",
       "             2⎞                             ⎥⎥\n",
       "x__{(2)} + 2) ⎠                             ⎥⎥\n",
       "                                            ⎥⎥\n",
       "                                            ⎥⎥\n",
       "                                            ⎥⎥\n",
       "────                                        ⎥⎥\n",
       "   2                                        ⎥⎥\n",
       " 2)                                         ⎦⎦"
      ]
     },
     "execution_count": 16,
     "metadata": {},
     "output_type": "execute_result"
    }
   ],
   "source": [
    "sols[1]"
   ]
  },
  {
   "cell_type": "code",
   "execution_count": 28,
   "metadata": {},
   "outputs": [],
   "source": [
    "# need additional pt to get solution\n",
    "X = Matrix([[3,4],[1,2],[2,3]])\n",
    "y = Matrix([5,3,5])\n",
    "X_obs = Matrix([[x_1,x_2],[1,2],[2,3]])\n",
    "y_obs = Matrix([y_1,3,5])"
   ]
  },
  {
   "cell_type": "code",
   "execution_count": 29,
   "metadata": {},
   "outputs": [
    {
     "name": "stdout",
     "output_type": "stream",
     "text": [
      "1\n"
     ]
    }
   ],
   "source": [
    "sols = update_normal(X,y,X_obs,y_obs,1)"
   ]
  },
  {
   "cell_type": "code",
   "execution_count": 30,
   "metadata": {},
   "outputs": [
    {
     "data": {
      "text/plain": [
       "[array([0.6, 0.8]), array([-1.,  2.]), array([-1.33333333,  2.33333333])]"
      ]
     },
     "execution_count": 30,
     "metadata": {},
     "output_type": "execute_result"
    }
   ],
   "source": [
    "sols[0]"
   ]
  },
  {
   "cell_type": "code",
   "execution_count": 35,
   "metadata": {},
   "outputs": [
    {
     "data": {
      "text/latex": [
       "$\\displaystyle \\left[ \\left[\\begin{matrix}- \\frac{\\left(x^{(1)} x^{(2)} + 2\\right) \\left(x^{(2)} y^{(1)} + 6\\right)}{\\left(\\left(x^{(1)}\\right)^{2} + 1\\right) \\left(\\left(x^{(2)}\\right)^{2} + 4\\right) - \\left(x^{(1)} x^{(2)} + 2\\right)^{2}} + \\frac{\\left(x^{(1)} y^{(1)} + 3\\right) \\left(\\left(\\left(x^{(1)}\\right)^{2} + 1\\right) \\left(\\left(x^{(2)}\\right)^{2} + 4\\right) - \\left(- x^{(1)} x^{(2)} - 2\\right) \\left(x^{(1)} x^{(2)} + 2\\right) - \\left(x^{(1)} x^{(2)} + 2\\right)^{2}\\right)}{\\left(\\left(x^{(1)}\\right)^{2} + 1\\right) \\left(\\left(\\left(x^{(1)}\\right)^{2} + 1\\right) \\left(\\left(x^{(2)}\\right)^{2} + 4\\right) - \\left(x^{(1)} x^{(2)} + 2\\right)^{2}\\right)}\\\\\\frac{\\left(\\left(x^{(1)}\\right)^{2} + 1\\right) \\left(x^{(2)} y^{(1)} + 6\\right)}{\\left(\\left(x^{(1)}\\right)^{2} + 1\\right) \\left(\\left(x^{(2)}\\right)^{2} + 4\\right) - \\left(x^{(1)} x^{(2)} + 2\\right)^{2}} + \\frac{\\left(- x^{(1)} x^{(2)} - 2\\right) \\left(x^{(1)} y^{(1)} + 3\\right)}{\\left(\\left(x^{(1)}\\right)^{2} + 1\\right) \\left(\\left(x^{(2)}\\right)^{2} + 4\\right) - \\left(x^{(1)} x^{(2)} + 2\\right)^{2}}\\end{matrix}\\right], \\  \\left[\\begin{matrix}- \\frac{\\left(x^{(1)} x^{(2)} + 8\\right) \\left(x^{(2)} y^{(1)} + 21\\right)}{\\left(\\left(x^{(1)}\\right)^{2} + 5\\right) \\left(\\left(x^{(2)}\\right)^{2} + 13\\right) - \\left(x^{(1)} x^{(2)} + 8\\right)^{2}} + \\frac{\\left(x^{(1)} y^{(1)} + 13\\right) \\left(\\left(\\left(x^{(1)}\\right)^{2} + 5\\right) \\left(\\left(x^{(2)}\\right)^{2} + 13\\right) - \\left(- x^{(1)} x^{(2)} - 8\\right) \\left(x^{(1)} x^{(2)} + 8\\right) - \\left(x^{(1)} x^{(2)} + 8\\right)^{2}\\right)}{\\left(\\left(x^{(1)}\\right)^{2} + 5\\right) \\left(\\left(\\left(x^{(1)}\\right)^{2} + 5\\right) \\left(\\left(x^{(2)}\\right)^{2} + 13\\right) - \\left(x^{(1)} x^{(2)} + 8\\right)^{2}\\right)}\\\\\\frac{\\left(\\left(x^{(1)}\\right)^{2} + 5\\right) \\left(x^{(2)} y^{(1)} + 21\\right)}{\\left(\\left(x^{(1)}\\right)^{2} + 5\\right) \\left(\\left(x^{(2)}\\right)^{2} + 13\\right) - \\left(x^{(1)} x^{(2)} + 8\\right)^{2}} + \\frac{\\left(- x^{(1)} x^{(2)} - 8\\right) \\left(x^{(1)} y^{(1)} + 13\\right)}{\\left(\\left(x^{(1)}\\right)^{2} + 5\\right) \\left(\\left(x^{(2)}\\right)^{2} + 13\\right) - \\left(x^{(1)} x^{(2)} + 8\\right)^{2}}\\end{matrix}\\right]\\right]$"
      ],
      "text/plain": [
       "⎡⎡                                                                            \n",
       "⎢⎢       (x__{(1)}⋅x__{(2)} + 2)⋅(x__{(2)}⋅y__{(1)} + 6)         (x__{(1)}⋅y__\n",
       "⎢⎢- ────────────────────────────────────────────────────────── + ─────────────\n",
       "⎢⎢  ⎛        2    ⎞ ⎛        2    ⎞                          2                \n",
       "⎢⎢  ⎝x__{(1)}  + 1⎠⋅⎝x__{(2)}  + 4⎠ - (x__{(1)}⋅x__{(2)} + 2)                 \n",
       "⎢⎢                                                                            \n",
       "⎢⎢                                                ⎛        2    ⎞             \n",
       "⎢⎢                                                ⎝x__{(1)}  + 1⎠⋅(x__{(2)}⋅y_\n",
       "⎢⎢                                       ─────────────────────────────────────\n",
       "⎢⎢                                       ⎛        2    ⎞ ⎛        2    ⎞      \n",
       "⎣⎣                                       ⎝x__{(1)}  + 1⎠⋅⎝x__{(2)}  + 4⎠ - (x_\n",
       "\n",
       "           ⎛⎛        2    ⎞ ⎛        2    ⎞                                   \n",
       "{(1)} + 3)⋅⎝⎝x__{(1)}  + 1⎠⋅⎝x__{(2)}  + 4⎠ - (-x__{(1)}⋅x__{(2)} - 2)⋅(x__{(1\n",
       "──────────────────────────────────────────────────────────────────────────────\n",
       "                 ⎛        2    ⎞ ⎛⎛        2    ⎞ ⎛        2    ⎞             \n",
       "                 ⎝x__{(1)}  + 1⎠⋅⎝⎝x__{(1)}  + 1⎠⋅⎝x__{(2)}  + 4⎠ - (x__{(1)}⋅\n",
       "                                                                              \n",
       "                                                                              \n",
       "_{(1)} + 6)                  (-x__{(1)}⋅x__{(2)} - 2)⋅(x__{(1)}⋅y__{(1)} + 3) \n",
       "───────────────────── + ──────────────────────────────────────────────────────\n",
       "                    2   ⎛        2    ⎞ ⎛        2    ⎞                       \n",
       "_{(1)}⋅x__{(2)} + 2)    ⎝x__{(1)}  + 1⎠⋅⎝x__{(2)}  + 4⎠ - (x__{(1)}⋅x__{(2)} +\n",
       "\n",
       "                                          2⎞⎤  ⎡                              \n",
       ")}⋅x__{(2)} + 2) - (x__{(1)}⋅x__{(2)} + 2) ⎠⎥  ⎢        (x__{(1)}⋅x__{(2)} + 8\n",
       "────────────────────────────────────────────⎥  ⎢- ────────────────────────────\n",
       "             2⎞                             ⎥  ⎢  ⎛        2    ⎞ ⎛        2  \n",
       "x__{(2)} + 2) ⎠                             ⎥  ⎢  ⎝x__{(1)}  + 5⎠⋅⎝x__{(2)}  +\n",
       "                                            ⎥, ⎢                              \n",
       "                                            ⎥  ⎢                              \n",
       "                                            ⎥  ⎢                              \n",
       "────                                        ⎥  ⎢                              \n",
       "   2                                        ⎥  ⎢                              \n",
       " 2)                                         ⎦  ⎣                              \n",
       "\n",
       "                                                           ⎛⎛        2    ⎞ ⎛ \n",
       ")⋅(x__{(2)}⋅y__{(1)} + 21)        (x__{(1)}⋅y__{(1)} + 13)⋅⎝⎝x__{(1)}  + 5⎠⋅⎝x\n",
       "─────────────────────────────── + ────────────────────────────────────────────\n",
       "   ⎞                          2                                 ⎛        2    \n",
       " 13⎠ - (x__{(1)}⋅x__{(2)} + 8)                                  ⎝x__{(1)}  + 5\n",
       "                                                                              \n",
       "                    ⎛        2    ⎞                                           \n",
       "                    ⎝x__{(1)}  + 5⎠⋅(x__{(2)}⋅y__{(1)} + 21)                 (\n",
       "          ─────────────────────────────────────────────────────────── + ──────\n",
       "          ⎛        2    ⎞ ⎛        2     ⎞                          2   ⎛     \n",
       "          ⎝x__{(1)}  + 5⎠⋅⎝x__{(2)}  + 13⎠ - (x__{(1)}⋅x__{(2)} + 8)    ⎝x__{(\n",
       "\n",
       "       2     ⎞                                                                \n",
       "__{(2)}  + 13⎠ - (-x__{(1)}⋅x__{(2)} - 8)⋅(x__{(1)}⋅x__{(2)} + 8) - (x__{(1)}⋅\n",
       "──────────────────────────────────────────────────────────────────────────────\n",
       "⎞ ⎛⎛        2    ⎞ ⎛        2     ⎞                          2⎞               \n",
       "⎠⋅⎝⎝x__{(1)}  + 5⎠⋅⎝x__{(2)}  + 13⎠ - (x__{(1)}⋅x__{(2)} + 8) ⎠               \n",
       "                                                                              \n",
       "                                                                              \n",
       "-x__{(1)}⋅x__{(2)} - 8)⋅(x__{(1)}⋅y__{(1)} + 13)                              \n",
       "─────────────────────────────────────────────────────                         \n",
       "   2    ⎞ ⎛        2     ⎞                          2                         \n",
       "1)}  + 5⎠⋅⎝x__{(2)}  + 13⎠ - (x__{(1)}⋅x__{(2)} + 8)                          \n",
       "\n",
       "             2⎞⎤⎤\n",
       "x__{(2)} + 8) ⎠⎥⎥\n",
       "───────────────⎥⎥\n",
       "               ⎥⎥\n",
       "               ⎥⎥\n",
       "               ⎥⎥\n",
       "               ⎥⎥\n",
       "               ⎥⎥\n",
       "               ⎥⎥\n",
       "               ⎥⎥\n",
       "               ⎦⎦"
      ]
     },
     "execution_count": 35,
     "metadata": {},
     "output_type": "execute_result"
    }
   ],
   "source": [
    "sols[1]"
   ]
  },
  {
   "cell_type": "code",
   "execution_count": 36,
   "metadata": {},
   "outputs": [
    {
     "data": {
      "image/png": "[encoded data removed]",
      "text/latex": [
       "$\\displaystyle \\left[ \\left\\{ x^{(1)} : -3.0, \\  x^{(2)} : -4.0, \\  y^{(1)} : -5.0\\right\\}, \\  \\left\\{ x^{(1)} : 3.0, \\  x^{(2)} : 4.0, \\  y^{(1)} : 5.0\\right\\}\\right]$"
      ],
      "text/plain": [
       "[{x__{(1)}: -3.0, x__{(2)}: -4.0, y__{(1)}: -5.0}, {x__{(1)}: 3.0, x__{(2)}: 4\n",
       ".0, y__{(1)}: 5.0}]"
      ]
     },
     "execution_count": 36,
     "metadata": {},
     "output_type": "execute_result"
    }
   ],
   "source": [
    "solvers.solve(sols[2])"
   ]
  },
  {
   "cell_type": "code",
   "execution_count": 37,
   "metadata": {},
   "outputs": [
    {
     "data": {
      "image/png": "[encoded data removed]",
      "text/latex": [
       "$\\displaystyle \\left[ - \\frac{\\left(x^{(1)} x^{(2)} + 2\\right) \\left(x^{(2)} y^{(1)} + 6\\right)}{\\left(\\left(x^{(1)}\\right)^{2} + 1\\right) \\left(\\left(x^{(2)}\\right)^{2} + 4\\right) - \\left(x^{(1)} x^{(2)} + 2\\right)^{2}} + 1.0 + \\frac{\\left(x^{(1)} y^{(1)} + 3\\right) \\left(\\left(\\left(x^{(1)}\\right)^{2} + 1\\right) \\left(\\left(x^{(2)}\\right)^{2} + 4\\right) - \\left(- x^{(1)} x^{(2)} - 2\\right) \\left(x^{(1)} x^{(2)} + 2\\right) - \\left(x^{(1)} x^{(2)} + 2\\right)^{2}\\right)}{\\left(\\left(x^{(1)}\\right)^{2} + 1\\right) \\left(\\left(\\left(x^{(1)}\\right)^{2} + 1\\right) \\left(\\left(x^{(2)}\\right)^{2} + 4\\right) - \\left(x^{(1)} x^{(2)} + 2\\right)^{2}\\right)}, \\  \\frac{\\left(\\left(x^{(1)}\\right)^{2} + 1\\right) \\left(x^{(2)} y^{(1)} + 6\\right)}{\\left(\\left(x^{(1)}\\right)^{2} + 1\\right) \\left(\\left(x^{(2)}\\right)^{2} + 4\\right) - \\left(x^{(1)} x^{(2)} + 2\\right)^{2}} + \\frac{\\left(- x^{(1)} x^{(2)} - 2\\right) \\left(x^{(1)} y^{(1)} + 3\\right)}{\\left(\\left(x^{(1)}\\right)^{2} + 1\\right) \\left(\\left(x^{(2)}\\right)^{2} + 4\\right) - \\left(x^{(1)} x^{(2)} + 2\\right)^{2}} - 2.0, \\  - \\frac{\\left(x^{(1)} x^{(2)} + 8\\right) \\left(x^{(2)} y^{(1)} + 21\\right)}{\\left(\\left(x^{(1)}\\right)^{2} + 5\\right) \\left(\\left(x^{(2)}\\right)^{2} + 13\\right) - \\left(x^{(1)} x^{(2)} + 8\\right)^{2}} + 1.33333333333333 + \\frac{\\left(x^{(1)} y^{(1)} + 13\\right) \\left(\\left(\\left(x^{(1)}\\right)^{2} + 5\\right) \\left(\\left(x^{(2)}\\right)^{2} + 13\\right) - \\left(- x^{(1)} x^{(2)} - 8\\right) \\left(x^{(1)} x^{(2)} + 8\\right) - \\left(x^{(1)} x^{(2)} + 8\\right)^{2}\\right)}{\\left(\\left(x^{(1)}\\right)^{2} + 5\\right) \\left(\\left(\\left(x^{(1)}\\right)^{2} + 5\\right) \\left(\\left(x^{(2)}\\right)^{2} + 13\\right) - \\left(x^{(1)} x^{(2)} + 8\\right)^{2}\\right)}, \\  \\frac{\\left(\\left(x^{(1)}\\right)^{2} + 5\\right) \\left(x^{(2)} y^{(1)} + 21\\right)}{\\left(\\left(x^{(1)}\\right)^{2} + 5\\right) \\left(\\left(x^{(2)}\\right)^{2} + 13\\right) - \\left(x^{(1)} x^{(2)} + 8\\right)^{2}} + \\frac{\\left(- x^{(1)} x^{(2)} - 8\\right) \\left(x^{(1)} y^{(1)} + 13\\right)}{\\left(\\left(x^{(1)}\\right)^{2} + 5\\right) \\left(\\left(x^{(2)}\\right)^{2} + 13\\right) - \\left(x^{(1)} x^{(2)} + 8\\right)^{2}} - 2.33333333333333\\right]$"
      ],
      "text/plain": [
       "⎡                                                                             \n",
       "⎢       (x__{(1)}⋅x__{(2)} + 2)⋅(x__{(2)}⋅y__{(1)} + 6)               (x__{(1)\n",
       "⎢- ────────────────────────────────────────────────────────── + 1.0 + ────────\n",
       "⎢  ⎛        2    ⎞ ⎛        2    ⎞                          2                 \n",
       "⎣  ⎝x__{(1)}  + 1⎠⋅⎝x__{(2)}  + 4⎠ - (x__{(1)}⋅x__{(2)} + 2)                  \n",
       "\n",
       "                ⎛⎛        2    ⎞ ⎛        2    ⎞                              \n",
       "}⋅y__{(1)} + 3)⋅⎝⎝x__{(1)}  + 1⎠⋅⎝x__{(2)}  + 4⎠ - (-x__{(1)}⋅x__{(2)} - 2)⋅(x\n",
       "──────────────────────────────────────────────────────────────────────────────\n",
       "                      ⎛        2    ⎞ ⎛⎛        2    ⎞ ⎛        2    ⎞        \n",
       "                      ⎝x__{(1)}  + 1⎠⋅⎝⎝x__{(1)}  + 1⎠⋅⎝x__{(2)}  + 4⎠ - (x__{\n",
       "\n",
       "                                               2⎞           ⎛        2    ⎞   \n",
       "__{(1)}⋅x__{(2)} + 2) - (x__{(1)}⋅x__{(2)} + 2) ⎠           ⎝x__{(1)}  + 1⎠⋅(x\n",
       "─────────────────────────────────────────────────, ───────────────────────────\n",
       "                  2⎞                               ⎛        2    ⎞ ⎛        2 \n",
       "(1)}⋅x__{(2)} + 2) ⎠                               ⎝x__{(1)}  + 1⎠⋅⎝x__{(2)}  \n",
       "\n",
       "                                                                              \n",
       "__{(2)}⋅y__{(1)} + 6)                  (-x__{(1)}⋅x__{(2)} - 2)⋅(x__{(1)}⋅y__{\n",
       "─────────────────────────────── + ────────────────────────────────────────────\n",
       "   ⎞                          2   ⎛        2    ⎞ ⎛        2    ⎞             \n",
       "+ 4⎠ - (x__{(1)}⋅x__{(2)} + 2)    ⎝x__{(1)}  + 1⎠⋅⎝x__{(2)}  + 4⎠ - (x__{(1)}⋅\n",
       "\n",
       "                                                                              \n",
       "(1)} + 3)                     (x__{(1)}⋅x__{(2)} + 8)⋅(x__{(2)}⋅y__{(1)} + 21)\n",
       "────────────── - 2.0, - ──────────────────────────────────────────────────────\n",
       "             2          ⎛        2    ⎞ ⎛        2     ⎞                      \n",
       "x__{(2)} + 2)           ⎝x__{(1)}  + 5⎠⋅⎝x__{(2)}  + 13⎠ - (x__{(1)}⋅x__{(2)} \n",
       "\n",
       "                                                    ⎛⎛        2    ⎞ ⎛        \n",
       "                           (x__{(1)}⋅y__{(1)} + 13)⋅⎝⎝x__{(1)}  + 5⎠⋅⎝x__{(2)}\n",
       "───── + 1.33333333333333 + ───────────────────────────────────────────────────\n",
       "    2                                                    ⎛        2    ⎞ ⎛⎛   \n",
       "+ 8)                                                     ⎝x__{(1)}  + 5⎠⋅⎝⎝x__\n",
       "\n",
       "2     ⎞                                                                       \n",
       "  + 13⎠ - (-x__{(1)}⋅x__{(2)} - 8)⋅(x__{(1)}⋅x__{(2)} + 8) - (x__{(1)}⋅x__{(2)\n",
       "──────────────────────────────────────────────────────────────────────────────\n",
       "     2    ⎞ ⎛        2     ⎞                          2⎞                      \n",
       "{(1)}  + 5⎠⋅⎝x__{(2)}  + 13⎠ - (x__{(1)}⋅x__{(2)} + 8) ⎠                      \n",
       "\n",
       "      2⎞            ⎛        2    ⎞                                           \n",
       "} + 8) ⎠            ⎝x__{(1)}  + 5⎠⋅(x__{(2)}⋅y__{(1)} + 21)                 (\n",
       "────────, ─────────────────────────────────────────────────────────── + ──────\n",
       "          ⎛        2    ⎞ ⎛        2     ⎞                          2   ⎛     \n",
       "          ⎝x__{(1)}  + 5⎠⋅⎝x__{(2)}  + 13⎠ - (x__{(1)}⋅x__{(2)} + 8)    ⎝x__{(\n",
       "\n",
       "                                                                        ⎤\n",
       "-x__{(1)}⋅x__{(2)} - 8)⋅(x__{(1)}⋅y__{(1)} + 13)                        ⎥\n",
       "───────────────────────────────────────────────────── - 2.33333333333333⎥\n",
       "   2    ⎞ ⎛        2     ⎞                          2                   ⎥\n",
       "1)}  + 5⎠⋅⎝x__{(2)}  + 13⎠ - (x__{(1)}⋅x__{(2)} + 8)                    ⎦"
      ]
     },
     "execution_count": 37,
     "metadata": {},
     "output_type": "execute_result"
    }
   ],
   "source": [
    "sols[2]"
   ]
  },
  {
   "cell_type": "code",
   "execution_count": 8,
   "metadata": {},
   "outputs": [],
   "source": [
    "X = Matrix([[1,0],[0,1],[1,1],[3,2]])\n",
    "y = Matrix([1,1,1,2])\n",
    "X_obs = Matrix([[x_1,x_2],[0,1],[1,1],[1,2]])\n",
    "y_obs = Matrix([y_1,0,1,2])"
   ]
  },
  {
   "cell_type": "code",
   "execution_count": 9,
   "metadata": {},
   "outputs": [
    {
     "name": "stdout",
     "output_type": "stream",
     "text": [
      "1\n"
     ]
    }
   ],
   "source": [
    "sols = update_normal(X,y,X_obs,y_obs,1)"
   ]
  },
  {
   "cell_type": "code",
   "execution_count": 10,
   "metadata": {},
   "outputs": [
    {
     "data": {
      "text/plain": [
       "[array([1., 0.]),\n",
       " array([1., 1.]),\n",
       " array([0.66666667, 0.66666667]),\n",
       " array([0.35294118, 0.58823529])]"
      ]
     },
     "execution_count": 10,
     "metadata": {},
     "output_type": "execute_result"
    }
   ],
   "source": [
    "sols[0]"
   ]
  },
  {
   "cell_type": "code",
   "execution_count": 109,
   "metadata": {},
   "outputs": [],
   "source": [
    "X = Matrix([[3,4],[0,1],[4,7],[3,6],[-4,9],[2,-9]])\n",
    "y = Matrix([5,1,3,2,8,8])\n",
    "X_obs = Matrix([[x_1,x_2],[0,1],[4,7],[3,6],[10,9]])\n",
    "y_obs = Matrix([y_1,1,3,2,3,2])"
   ]
  },
  {
   "cell_type": "code",
   "execution_count": 110,
   "metadata": {},
   "outputs": [
    {
     "name": "stdout",
     "output_type": "stream",
     "text": [
      "2\n"
     ]
    }
   ],
   "source": [
    "sols = update_normal(X,y,X_obs,y_obs,1)"
   ]
  },
  {
   "cell_type": "code",
   "execution_count": 111,
   "metadata": {},
   "outputs": [
    {
     "data": {
      "text/plain": [
       "[array([0.6, 0.8]),\n",
       " array([0.33333333, 1.        ]),\n",
       " array([ 2.04, -0.6 ]),\n",
       " array([ 2.25, -0.75]),\n",
       " array([-0.29875375,  0.72444034]),\n",
       " array([0.3, 0.2])]"
      ]
     },
     "execution_count": 111,
     "metadata": {},
     "output_type": "execute_result"
    }
   ],
   "source": [
    "sols[0]"
   ]
  },
  {
   "cell_type": "code",
   "execution_count": 29,
   "metadata": {},
   "outputs": [],
   "source": [
    "X = Matrix([[4],[1]])\n",
    "y = Matrix([6,10])\n",
    "X_obs = Matrix([[x_1],[1]])\n",
    "y_obs = Matrix([y_1,10])"
   ]
  },
  {
   "cell_type": "code",
   "execution_count": 58,
   "metadata": {},
   "outputs": [
    {
     "name": "stdout",
     "output_type": "stream",
     "text": [
      "1\n"
     ]
    }
   ],
   "source": [
    "sols = update_normal(X,y,X_obs,y_obs,1)"
   ]
  },
  {
   "cell_type": "code",
   "execution_count": 59,
   "metadata": {},
   "outputs": [
    {
     "data": {
      "image/png": "[encoded data removed]",
      "text/latex": [
       "$\\displaystyle \\left[ \\left\\{ x^{(1)} : 0.25 y^{(1)} - 0.25 \\sqrt{\\left(y^{(1)}\\right)^{2} + 64.0}\\right\\}, \\  \\left\\{ x^{(1)} : 0.25 y^{(1)} + 0.25 \\sqrt{\\left(y^{(1)}\\right)^{2} + 64.0}\\right\\}\\right]$"
      ],
      "text/plain": [
       "⎡⎧                                  __________________⎫  ⎧                    \n",
       "⎢⎨                                 ╱         2        ⎬  ⎨                    \n",
       "⎣⎩x__{(1)}: 0.25⋅y__{(1)} - 0.25⋅╲╱  y__{(1)}  + 64.0 ⎭, ⎩x__{(1)}: 0.25⋅y__{(\n",
       "\n",
       "              __________________⎫⎤\n",
       "             ╱         2        ⎬⎥\n",
       "1)} + 0.25⋅╲╱  y__{(1)}  + 64.0 ⎭⎦"
      ]
     },
     "execution_count": 59,
     "metadata": {},
     "output_type": "execute_result"
    }
   ],
   "source": [
    "sols"
   ]
  },
  {
   "cell_type": "code",
   "execution_count": 44,
   "metadata": {},
   "outputs": [],
   "source": [
    "X = Matrix([[3,4,5],[1,2,3],[9,3,1],[-4,2,4]])\n",
    "y = Matrix([6,4,-4,1])\n",
    "X_obs = Matrix([[x_1,x_2,x_3],[1,2,3],[9,3,1],[-4,2,4]])\n",
    "y_obs = Matrix([y_1,4,-4,1])"
   ]
  },
  {
   "cell_type": "code",
   "execution_count": 45,
   "metadata": {},
   "outputs": [
    {
     "name": "stdout",
     "output_type": "stream",
     "text": [
      "2\n"
     ]
    }
   ],
   "source": [
    "sols = update_normal(X,y,X_obs,y_obs,1)"
   ]
  },
  {
   "cell_type": "code",
   "execution_count": 46,
   "metadata": {},
   "outputs": [
    {
     "data": {
      "text/plain": [
       "[array([0.36, 0.48, 0.6 ]),\n",
       " array([-0.66666667,  0.33333333,  1.33333333]),\n",
       " array([-0.75,  0.5 ,  1.25]),\n",
       " array([  2.49137931, -11.5       ,   8.62931034])]"
      ]
     },
     "execution_count": 46,
     "metadata": {},
     "output_type": "execute_result"
    }
   ],
   "source": [
    "sols[0]"
   ]
  },
  {
   "cell_type": "code",
   "execution_count": 72,
   "metadata": {},
   "outputs": [
    {
     "data": {
      "text/latex": [
       "$\\displaystyle - \\frac{\\left(x^{(3}} y^{(1)} + 8\\right) \\left(- \\left(x^{(1)} x^{(2)} + 29\\right) \\left(\\left(\\left(x^{(1)}\\right)^{2} + 82\\right) \\left(x^{(2)} x^{(3}} + 9\\right) - \\left(x^{(1)} x^{(2)} + 29\\right) \\left(x^{(1)} x^{(3}} + 12\\right)\\right) + \\left(x^{(1)} x^{(3}} + 12\\right) \\left(\\left(\\left(x^{(1)}\\right)^{2} + 82\\right) \\left(\\left(x^{(2)}\\right)^{2} + 13\\right) - \\left(x^{(1)} x^{(2)} + 29\\right)^{2}\\right)\\right)}{\\left(\\left(\\left(x^{(1)}\\right)^{2} + 82\\right) \\left(\\left(x^{(2)}\\right)^{2} + 13\\right) - \\left(x^{(1)} x^{(2)} + 29\\right)^{2}\\right) \\left(\\left(\\left(x^{(1)}\\right)^{2} + 82\\right) \\left(\\left(x^{(3}}\\right)^{2} + 10\\right) - \\left(x^{(1)} x^{(3}} + 12\\right)^{2}\\right) - \\left(\\left(\\left(x^{(1)}\\right)^{2} + 82\\right) \\left(x^{(2)} x^{(3}} + 9\\right) - \\left(x^{(1)} x^{(2)} + 29\\right) \\left(x^{(1)} x^{(3}} + 12\\right)\\right)^{2}} + 0.749999999999997 + \\frac{\\left(x^{(1)} y^{(1)} - 32\\right) \\left(- \\left(- \\left(- x^{(1)} x^{(2)} - 29\\right) \\left(\\left(\\left(x^{(1)}\\right)^{2} + 82\\right) \\left(x^{(2)} x^{(3}} + 9\\right) - \\left(x^{(1)} x^{(2)} + 29\\right) \\left(x^{(1)} x^{(3}} + 12\\right)\\right) + \\left(- x^{(1)} x^{(3}} - 12\\right) \\left(\\left(\\left(x^{(1)}\\right)^{2} + 82\\right) \\left(\\left(x^{(2)}\\right)^{2} + 13\\right) - \\left(x^{(1)} x^{(2)} + 29\\right)^{2}\\right)\\right) \\left(- \\left(x^{(1)} x^{(2)} + 29\\right) \\left(\\left(\\left(x^{(1)}\\right)^{2} + 82\\right) \\left(x^{(2)} x^{(3}} + 9\\right) - \\left(x^{(1)} x^{(2)} + 29\\right) \\left(x^{(1)} x^{(3}} + 12\\right)\\right) + \\left(x^{(1)} x^{(3}} + 12\\right) \\left(\\left(\\left(x^{(1)}\\right)^{2} + 82\\right) \\left(\\left(x^{(2)}\\right)^{2} + 13\\right) - \\left(x^{(1)} x^{(2)} + 29\\right)^{2}\\right)\\right) + \\left(\\left(\\left(\\left(x^{(1)}\\right)^{2} + 82\\right) \\left(\\left(x^{(2)}\\right)^{2} + 13\\right) - \\left(x^{(1)} x^{(2)} + 29\\right)^{2}\\right) \\left(\\left(\\left(x^{(1)}\\right)^{2} + 82\\right) \\left(\\left(x^{(3}}\\right)^{2} + 10\\right) - \\left(x^{(1)} x^{(3}} + 12\\right)^{2}\\right) - \\left(\\left(\\left(x^{(1)}\\right)^{2} + 82\\right) \\left(x^{(2)} x^{(3}} + 9\\right) - \\left(x^{(1)} x^{(2)} + 29\\right) \\left(x^{(1)} x^{(3}} + 12\\right)\\right)^{2}\\right) \\left(\\left(\\left(x^{(1)}\\right)^{2} + 82\\right) \\left(\\left(x^{(2)}\\right)^{2} + 13\\right) - \\left(- x^{(1)} x^{(2)} - 29\\right) \\left(x^{(1)} x^{(2)} + 29\\right) - \\left(x^{(1)} x^{(2)} + 29\\right)^{2}\\right)\\right)}{\\left(\\left(x^{(1)}\\right)^{2} + 82\\right) \\left(\\left(\\left(x^{(1)}\\right)^{2} + 82\\right) \\left(\\left(x^{(2)}\\right)^{2} + 13\\right) - \\left(x^{(1)} x^{(2)} + 29\\right)^{2}\\right) \\left(\\left(\\left(\\left(x^{(1)}\\right)^{2} + 82\\right) \\left(\\left(x^{(2)}\\right)^{2} + 13\\right) - \\left(x^{(1)} x^{(2)} + 29\\right)^{2}\\right) \\left(\\left(\\left(x^{(1)}\\right)^{2} + 82\\right) \\left(\\left(x^{(3}}\\right)^{2} + 10\\right) - \\left(x^{(1)} x^{(3}} + 12\\right)^{2}\\right) - \\left(\\left(\\left(x^{(1)}\\right)^{2} + 82\\right) \\left(x^{(2)} x^{(3}} + 9\\right) - \\left(x^{(1)} x^{(2)} + 29\\right) \\left(x^{(1)} x^{(3}} + 12\\right)\\right)^{2}\\right)} + \\frac{\\left(x^{(2)} y^{(1)} - 4\\right) \\left(- \\left(\\left(x^{(1)}\\right)^{2} + 82\\right) \\left(x^{(1)} x^{(2)} + 29\\right) \\left(\\left(\\left(\\left(x^{(1)}\\right)^{2} + 82\\right) \\left(\\left(x^{(2)}\\right)^{2} + 13\\right) - \\left(x^{(1)} x^{(2)} + 29\\right)^{2}\\right) \\left(\\left(\\left(x^{(1)}\\right)^{2} + 82\\right) \\left(\\left(x^{(3}}\\right)^{2} + 10\\right) - \\left(x^{(1)} x^{(3}} + 12\\right)^{2}\\right) - \\left(\\left(\\left(x^{(1)}\\right)^{2} + 82\\right) \\left(x^{(2)} x^{(3}} + 9\\right) - \\left(x^{(1)} x^{(2)} + 29\\right) \\left(x^{(1)} x^{(3}} + 12\\right)\\right)^{2}\\right) + \\left(\\left(x^{(1)}\\right)^{2} + 82\\right) \\left(\\left(\\left(x^{(1)}\\right)^{2} + 82\\right) \\left(x^{(2)} x^{(3}} + 9\\right) - \\left(x^{(1)} x^{(2)} + 29\\right) \\left(x^{(1)} x^{(3}} + 12\\right)\\right) \\left(- \\left(x^{(1)} x^{(2)} + 29\\right) \\left(\\left(\\left(x^{(1)}\\right)^{2} + 82\\right) \\left(x^{(2)} x^{(3}} + 9\\right) - \\left(x^{(1)} x^{(2)} + 29\\right) \\left(x^{(1)} x^{(3}} + 12\\right)\\right) + \\left(x^{(1)} x^{(3}} + 12\\right) \\left(\\left(\\left(x^{(1)}\\right)^{2} + 82\\right) \\left(\\left(x^{(2)}\\right)^{2} + 13\\right) - \\left(x^{(1)} x^{(2)} + 29\\right)^{2}\\right)\\right)\\right)}{\\left(\\left(x^{(1)}\\right)^{2} + 82\\right) \\left(\\left(\\left(x^{(1)}\\right)^{2} + 82\\right) \\left(\\left(x^{(2)}\\right)^{2} + 13\\right) - \\left(x^{(1)} x^{(2)} + 29\\right)^{2}\\right) \\left(\\left(\\left(\\left(x^{(1)}\\right)^{2} + 82\\right) \\left(\\left(x^{(2)}\\right)^{2} + 13\\right) - \\left(x^{(1)} x^{(2)} + 29\\right)^{2}\\right) \\left(\\left(\\left(x^{(1)}\\right)^{2} + 82\\right) \\left(\\left(x^{(3}}\\right)^{2} + 10\\right) - \\left(x^{(1)} x^{(3}} + 12\\right)^{2}\\right) - \\left(\\left(\\left(x^{(1)}\\right)^{2} + 82\\right) \\left(x^{(2)} x^{(3}} + 9\\right) - \\left(x^{(1)} x^{(2)} + 29\\right) \\left(x^{(1)} x^{(3}} + 12\\right)\\right)^{2}\\right)}$"
      ],
      "text/plain": [
       "                                                                              \n",
       "                          ⎛                           ⎛⎛        2     ⎞       \n",
       "  (x__{(3}}⋅y__{(1)} + 8)⋅⎝- (x__{(1)}⋅x__{(2)} + 29)⋅⎝⎝x__{(1)}  + 82⎠⋅(x__{(\n",
       "- ────────────────────────────────────────────────────────────────────────────\n",
       "                                                                              \n",
       "        ⎛⎛        2     ⎞ ⎛        2     ⎞                           2⎞ ⎛⎛    \n",
       "        ⎝⎝x__{(1)}  + 82⎠⋅⎝x__{(2)}  + 13⎠ - (x__{(1)}⋅x__{(2)} + 29) ⎠⋅⎝⎝x__{\n",
       "\n",
       "                                                                              \n",
       "                                                                     ⎞        \n",
       "2)}⋅x__{(3}} + 9) - (x__{(1)}⋅x__{(2)} + 29)⋅(x__{(1)}⋅x__{(3}} + 12)⎠ + (x__{\n",
       "──────────────────────────────────────────────────────────────────────────────\n",
       "                                                                              \n",
       "    2     ⎞ ⎛        2     ⎞                           2⎞   ⎛⎛        2     ⎞ \n",
       "(1)}  + 82⎠⋅⎝x__{(3}}  + 10⎠ - (x__{(1)}⋅x__{(3}} + 12) ⎠ - ⎝⎝x__{(1)}  + 82⎠⋅\n",
       "\n",
       "                                                                              \n",
       "                    ⎛⎛        2     ⎞ ⎛        2     ⎞                        \n",
       "(1)}⋅x__{(3}} + 12)⋅⎝⎝x__{(1)}  + 82⎠⋅⎝x__{(2)}  + 13⎠ - (x__{(1)}⋅x__{(2)} + \n",
       "──────────────────────────────────────────────────────────────────────────────\n",
       "                                                                            2 \n",
       "                                                                           ⎞  \n",
       "(x__{(2)}⋅x__{(3}} + 9) - (x__{(1)}⋅x__{(2)} + 29)⋅(x__{(1)}⋅x__{(3}} + 12)⎠  \n",
       "\n",
       "                                                      ⎛                       \n",
       "   2⎞⎞                                                ⎜  ⎛                    \n",
       "29) ⎠⎠                       (x__{(1)}⋅y__{(1)} - 32)⋅⎝- ⎝- (-x__{(1)}⋅x__{(2)\n",
       "────── + 0.749999999999997 + ─────────────────────────────────────────────────\n",
       "                                                                              \n",
       "                                                                              \n",
       "                                                                              \n",
       "\n",
       "                                                                              \n",
       "        ⎛⎛        2     ⎞                                                     \n",
       "} - 29)⋅⎝⎝x__{(1)}  + 82⎠⋅(x__{(2)}⋅x__{(3}} + 9) - (x__{(1)}⋅x__{(2)} + 29)⋅(\n",
       "──────────────────────────────────────────────────────────────────────────────\n",
       "                                                                              \n",
       "                                                                              \n",
       "                                                                              \n",
       "\n",
       "                                                                              \n",
       "                       ⎞                             ⎛⎛        2     ⎞ ⎛      \n",
       "x__{(1)}⋅x__{(3}} + 12)⎠ + (-x__{(1)}⋅x__{(3}} - 12)⋅⎝⎝x__{(1)}  + 82⎠⋅⎝x__{(2\n",
       "──────────────────────────────────────────────────────────────────────────────\n",
       "                                                                              \n",
       "                                                                              \n",
       "                                                                              \n",
       "\n",
       "                                                                              \n",
       "  2     ⎞                           2⎞⎞ ⎛                           ⎛⎛        \n",
       ")}  + 13⎠ - (x__{(1)}⋅x__{(2)} + 29) ⎠⎠⋅⎝- (x__{(1)}⋅x__{(2)} + 29)⋅⎝⎝x__{(1)}\n",
       "──────────────────────────────────────────────────────────────────────────────\n",
       "                                                                              \n",
       "                                             ⎛        2     ⎞ ⎛⎛        2     \n",
       "                                             ⎝x__{(1)}  + 82⎠⋅⎝⎝x__{(1)}  + 82\n",
       "\n",
       "                                                                              \n",
       "2     ⎞                                                                       \n",
       "  + 82⎠⋅(x__{(2)}⋅x__{(3}} + 9) - (x__{(1)}⋅x__{(2)} + 29)⋅(x__{(1)}⋅x__{(3}} \n",
       "──────────────────────────────────────────────────────────────────────────────\n",
       "                                                ⎛                             \n",
       "⎞ ⎛        2     ⎞                           2⎞ ⎜⎛⎛        2     ⎞ ⎛        2 \n",
       "⎠⋅⎝x__{(2)}  + 13⎠ - (x__{(1)}⋅x__{(2)} + 29) ⎠⋅⎝⎝⎝x__{(1)}  + 82⎠⋅⎝x__{(2)}  \n",
       "\n",
       "                                                                              \n",
       "     ⎞                            ⎛⎛        2     ⎞ ⎛        2     ⎞          \n",
       "+ 12)⎠ + (x__{(1)}⋅x__{(3}} + 12)⋅⎝⎝x__{(1)}  + 82⎠⋅⎝x__{(2)}  + 13⎠ - (x__{(1\n",
       "──────────────────────────────────────────────────────────────────────────────\n",
       "                                                                              \n",
       "    ⎞                           2⎞ ⎛⎛        2     ⎞ ⎛        2     ⎞         \n",
       "+ 13⎠ - (x__{(1)}⋅x__{(2)} + 29) ⎠⋅⎝⎝x__{(1)}  + 82⎠⋅⎝x__{(3}}  + 10⎠ - (x__{(\n",
       "\n",
       "                       ⎛                                                      \n",
       "                 2⎞⎞   ⎜⎛⎛        2     ⎞ ⎛        2     ⎞                    \n",
       ")}⋅x__{(2)} + 29) ⎠⎠ + ⎝⎝⎝x__{(1)}  + 82⎠⋅⎝x__{(2)}  + 13⎠ - (x__{(1)}⋅x__{(2)\n",
       "──────────────────────────────────────────────────────────────────────────────\n",
       "                                                                              \n",
       "                  2⎞   ⎛⎛        2     ⎞                                      \n",
       "1)}⋅x__{(3}} + 12) ⎠ - ⎝⎝x__{(1)}  + 82⎠⋅(x__{(2)}⋅x__{(3}} + 9) - (x__{(1)}⋅x\n",
       "\n",
       "                                                                              \n",
       "       2⎞ ⎛⎛        2     ⎞ ⎛        2     ⎞                           2⎞   ⎛⎛\n",
       "} + 29) ⎠⋅⎝⎝x__{(1)}  + 82⎠⋅⎝x__{(3}}  + 10⎠ - (x__{(1)}⋅x__{(3}} + 12) ⎠ - ⎝⎝\n",
       "──────────────────────────────────────────────────────────────────────────────\n",
       "                                       2⎞                                     \n",
       "                                      ⎞ ⎟                                     \n",
       "__{(2)} + 29)⋅(x__{(1)}⋅x__{(3}} + 12)⎠ ⎠                                     \n",
       "\n",
       "                                                                              \n",
       "        2     ⎞                                                               \n",
       "x__{(1)}  + 82⎠⋅(x__{(2)}⋅x__{(3}} + 9) - (x__{(1)}⋅x__{(2)} + 29)⋅(x__{(1)}⋅x\n",
       "──────────────────────────────────────────────────────────────────────────────\n",
       "                                                                              \n",
       "                                                                              \n",
       "                                                                              \n",
       "\n",
       "              2⎞                                                              \n",
       "             ⎞ ⎟ ⎛⎛        2     ⎞ ⎛        2     ⎞                           \n",
       "__{(3}} + 12)⎠ ⎠⋅⎝⎝x__{(1)}  + 82⎠⋅⎝x__{(2)}  + 13⎠ - (-x__{(1)}⋅x__{(2)} - 29\n",
       "──────────────────────────────────────────────────────────────────────────────\n",
       "                                                                              \n",
       "                                                                              \n",
       "                                                                              \n",
       "\n",
       "                                                       ⎞                      \n",
       "                                                     2⎞⎟                      \n",
       ")⋅(x__{(1)}⋅x__{(2)} + 29) - (x__{(1)}⋅x__{(2)} + 29) ⎠⎠   (x__{(2)}⋅y__{(1)} \n",
       "──────────────────────────────────────────────────────── + ───────────────────\n",
       "                                                                              \n",
       "                                                                              \n",
       "                                                                              \n",
       "\n",
       "     ⎛                                            ⎛                           \n",
       "     ⎜  ⎛        2     ⎞                          ⎜⎛⎛        2     ⎞ ⎛        \n",
       "- 4)⋅⎝- ⎝x__{(1)}  + 82⎠⋅(x__{(1)}⋅x__{(2)} + 29)⋅⎝⎝⎝x__{(1)}  + 82⎠⋅⎝x__{(2)}\n",
       "──────────────────────────────────────────────────────────────────────────────\n",
       "                                                                              \n",
       "                                                                              \n",
       "                                                                              \n",
       "\n",
       "                                                                              \n",
       "2     ⎞                           2⎞ ⎛⎛        2     ⎞ ⎛        2     ⎞       \n",
       "  + 13⎠ - (x__{(1)}⋅x__{(2)} + 29) ⎠⋅⎝⎝x__{(1)}  + 82⎠⋅⎝x__{(3}}  + 10⎠ - (x__\n",
       "──────────────────────────────────────────────────────────────────────────────\n",
       "                                                                              \n",
       "                                                              ⎛        2     ⎞\n",
       "                                                              ⎝x__{(1)}  + 82⎠\n",
       "\n",
       "                                                                              \n",
       "                    2⎞   ⎛⎛        2     ⎞                                    \n",
       "{(1)}⋅x__{(3}} + 12) ⎠ - ⎝⎝x__{(1)}  + 82⎠⋅(x__{(2)}⋅x__{(3}} + 9) - (x__{(1)}\n",
       "──────────────────────────────────────────────────────────────────────────────\n",
       "                                                                 ⎛            \n",
       " ⎛⎛        2     ⎞ ⎛        2     ⎞                           2⎞ ⎜⎛⎛        2 \n",
       "⋅⎝⎝x__{(1)}  + 82⎠⋅⎝x__{(2)}  + 13⎠ - (x__{(1)}⋅x__{(2)} + 29) ⎠⋅⎝⎝⎝x__{(1)}  \n",
       "\n",
       "                                         2⎞                                   \n",
       "                                        ⎞ ⎟   ⎛        2     ⎞ ⎛⎛        2    \n",
       "⋅x__{(2)} + 29)⋅(x__{(1)}⋅x__{(3}} + 12)⎠ ⎠ + ⎝x__{(1)}  + 82⎠⋅⎝⎝x__{(1)}  + 8\n",
       "──────────────────────────────────────────────────────────────────────────────\n",
       "                                                                              \n",
       "    ⎞ ⎛        2     ⎞                           2⎞ ⎛⎛        2     ⎞ ⎛       \n",
       "+ 82⎠⋅⎝x__{(2)}  + 13⎠ - (x__{(1)}⋅x__{(2)} + 29) ⎠⋅⎝⎝x__{(1)}  + 82⎠⋅⎝x__{(3}\n",
       "\n",
       "                                                                              \n",
       " ⎞                                                                            \n",
       "2⎠⋅(x__{(2)}⋅x__{(3}} + 9) - (x__{(1)}⋅x__{(2)} + 29)⋅(x__{(1)}⋅x__{(3}} + 12)\n",
       "──────────────────────────────────────────────────────────────────────────────\n",
       "                                                                              \n",
       " 2     ⎞                           2⎞   ⎛⎛        2     ⎞                     \n",
       "}  + 10⎠ - (x__{(1)}⋅x__{(3}} + 12) ⎠ - ⎝⎝x__{(1)}  + 82⎠⋅(x__{(2)}⋅x__{(3}} +\n",
       "\n",
       "                                                                              \n",
       "⎞ ⎛                           ⎛⎛        2     ⎞                               \n",
       "⎠⋅⎝- (x__{(1)}⋅x__{(2)} + 29)⋅⎝⎝x__{(1)}  + 82⎠⋅(x__{(2)}⋅x__{(3}} + 9) - (x__\n",
       "──────────────────────────────────────────────────────────────────────────────\n",
       "                                                        2⎞                    \n",
       "                                                       ⎞ ⎟                    \n",
       " 9) - (x__{(1)}⋅x__{(2)} + 29)⋅(x__{(1)}⋅x__{(3}} + 12)⎠ ⎠                    \n",
       "\n",
       "                                                                              \n",
       "                                             ⎞                            ⎛⎛  \n",
       "{(1)}⋅x__{(2)} + 29)⋅(x__{(1)}⋅x__{(3}} + 12)⎠ + (x__{(1)}⋅x__{(3}} + 12)⋅⎝⎝x_\n",
       "──────────────────────────────────────────────────────────────────────────────\n",
       "                                                                              \n",
       "                                                                              \n",
       "                                                                              \n",
       "\n",
       "                                                            ⎞\n",
       "      2     ⎞ ⎛        2     ⎞                           2⎞⎞⎟\n",
       "_{(1)}  + 82⎠⋅⎝x__{(2)}  + 13⎠ - (x__{(1)}⋅x__{(2)} + 29) ⎠⎠⎠\n",
       "─────────────────────────────────────────────────────────────\n",
       "                                                             \n",
       "                                                             \n",
       "                                                             "
      ]
     },
     "execution_count": 72,
     "metadata": {},
     "output_type": "execute_result"
    }
   ],
   "source": [
    "sols[2][0]"
   ]
  },
  {
   "cell_type": "code",
   "execution_count": 47,
   "metadata": {},
   "outputs": [],
   "source": [
    "x_4 = symbols('x^{(4)}')"
   ]
  },
  {
   "cell_type": "code",
   "execution_count": 48,
   "metadata": {},
   "outputs": [
    {
     "data": {
      "image/png": "[encoded data removed]",
      "text/latex": [
       "$\\displaystyle x^{(4)}$"
      ],
      "text/plain": [
       "x__{(4)}"
      ]
     },
     "execution_count": 48,
     "metadata": {},
     "output_type": "execute_result"
    }
   ],
   "source": [
    "x_4"
   ]
  },
  {
   "cell_type": "code",
   "execution_count": 55,
   "metadata": {},
   "outputs": [],
   "source": [
    "X = Matrix([[3,4,5,2],[1,2,3,4],[9,3,1,9],[-4,2,4,-3]])\n",
    "y = Matrix([6,4,-4,1])\n",
    "X_obs = Matrix([[x_1,x_2,x_3,x_4],[1,2,3,4],[9,3,1,9],[-4,2,4,-3]])\n",
    "y_obs = Matrix([y_1,4,-4,1])"
   ]
  },
  {
   "cell_type": "code",
   "execution_count": 56,
   "metadata": {},
   "outputs": [
    {
     "name": "stdout",
     "output_type": "stream",
     "text": [
      "3\n"
     ]
    }
   ],
   "source": [
    "sols = update_normal(X,y,X_obs,y_obs,1)"
   ]
  },
  {
   "cell_type": "code",
   "execution_count": 57,
   "metadata": {},
   "outputs": [
    {
     "data": {
      "text/plain": [
       "[array([0.33333333, 0.44444444, 0.55555556, 0.22222222]),\n",
       " array([0.31034483, 0.43103448, 0.55172414, 0.29310345]),\n",
       " array([-0.76107011,  0.53505535,  1.22785978,  0.00184502]),\n",
       " array([  3.61363636, -13.31818182,   9.97727273,  -0.72727273])]"
      ]
     },
     "execution_count": 57,
     "metadata": {},
     "output_type": "execute_result"
    }
   ],
   "source": [
    "sols[0]"
   ]
  },
  {
   "cell_type": "code",
   "execution_count": null,
   "metadata": {},
   "outputs": [],
   "source": []
  },
  {
   "cell_type": "code",
   "execution_count": 81,
   "metadata": {},
   "outputs": [],
   "source": [
    "X = Matrix([[3,4,5,10],[1,2,3,4],[6,7,0,-2],[-4,2,4,2],[8,8,2,1]])\n",
    "y = Matrix([6,4,-4,1,8])\n",
    "X_obs = Matrix([[x_1,x_2,x_3,x_4],[1,2,3,4],[9,3,1,2],[-4,2,4,2],[8,8,2,1]])\n",
    "y_obs = Matrix([y_1,4,-4,1,8])"
   ]
  },
  {
   "cell_type": "code",
   "execution_count": 82,
   "metadata": {},
   "outputs": [
    {
     "name": "stdout",
     "output_type": "stream",
     "text": [
      "3\n"
     ]
    }
   ],
   "source": [
    "sols = update_normal(X,y,X_obs,y_obs,1)"
   ]
  },
  {
   "cell_type": "code",
   "execution_count": 83,
   "metadata": {},
   "outputs": [
    {
     "data": {
      "text/plain": [
       "[array([0.12, 0.16, 0.2 , 0.4 ]),\n",
       " array([-0.33333333,  0.5       ,  1.33333333, -0.16666667]),\n",
       " array([-0.72607261,  0.07260726,  1.42574257,  0.07590759]),\n",
       " array([ 1.25      , -1.74324324,  2.5472973 , -0.35135135]),\n",
       " array([ 3.316588  , -3.82734145,  6.39711467, -2.10799588])]"
      ]
     },
     "execution_count": 83,
     "metadata": {},
     "output_type": "execute_result"
    }
   ],
   "source": [
    "sols[0]"
   ]
  },
  {
   "cell_type": "code",
   "execution_count": 84,
   "metadata": {},
   "outputs": [],
   "source": [
    "X = Matrix([[1,0,0,0],[0,1,0,0],[0,0,1,0],[0,0,0,1],[1,1,0,0]])\n",
    "y = Matrix([1,1,0,1,0])\n",
    "X_obs = Matrix([[x_1,x_2,x_3,x_4],[0,1,0,0],[0,0,1,0],[0,0,0,1],[1,1,0,0]])\n",
    "y_obs = Matrix([y_1,1,0,1,0])"
   ]
  },
  {
   "cell_type": "code",
   "execution_count": 85,
   "metadata": {},
   "outputs": [
    {
     "name": "stdout",
     "output_type": "stream",
     "text": [
      "3\n"
     ]
    }
   ],
   "source": [
    "sols = update_normal(X,y,X_obs,y_obs,1)"
   ]
  },
  {
   "cell_type": "code",
   "execution_count": 86,
   "metadata": {},
   "outputs": [
    {
     "data": {
      "text/plain": [
       "[array([1., 0., 0., 0.]),\n",
       " array([1., 1., 0., 0.]),\n",
       " array([1., 1., 0., 0.]),\n",
       " array([1., 1., 0., 1.]),\n",
       " array([0.33333333, 0.33333333, 0.        , 1.        ])]"
      ]
     },
     "execution_count": 86,
     "metadata": {},
     "output_type": "execute_result"
    }
   ],
   "source": [
    "sols[0]"
   ]
  },
  {
   "cell_type": "markdown",
   "metadata": {},
   "source": [
    "# have to sub first for some reason"
   ]
  },
  {
   "cell_type": "code",
   "execution_count": null,
   "metadata": {},
   "outputs": [],
   "source": [
    "solvers.solve(sols[0].subs(y_1, 1.5*x_1))"
   ]
  },
  {
   "cell_type": "code",
   "execution_count": 64,
   "metadata": {},
   "outputs": [
    {
     "data": {
      "image/png": "[encoded data removed]",
      "text/latex": [
       "$\\displaystyle 5.4414$"
      ],
      "text/plain": [
       "5.4414"
      ]
     },
     "execution_count": 64,
     "metadata": {},
     "output_type": "execute_result"
    }
   ],
   "source": [
    ".1379*6-.2828*3+1.3656*4"
   ]
  },
  {
   "cell_type": "code",
   "execution_count": 65,
   "metadata": {},
   "outputs": [
    {
     "data": {
      "image/png": "[encoded data removed]",
      "text/latex": [
       "$\\displaystyle 1.0322329427260277$"
      ],
      "text/plain": [
       "1.0322329427260277"
      ]
     },
     "execution_count": 65,
     "metadata": {},
     "output_type": "execute_result"
    }
   ],
   "source": [
    "197493/191326"
   ]
  },
  {
   "cell_type": "code",
   "execution_count": null,
   "metadata": {},
   "outputs": [],
   "source": []
  }
 ],
 "metadata": {
  "kernelspec": {
   "display_name": "Python [conda env:T02] *",
   "language": "python",
   "name": "conda-env-T02-py"
  },
  "language_info": {
   "codemirror_mode": {
    "name": "ipython",
    "version": 3
   },
   "file_extension": ".py",
   "mimetype": "text/x-python",
   "name": "python",
   "nbconvert_exporter": "python",
   "pygments_lexer": "ipython3",
   "version": "3.7.4"
  }
 },
 "nbformat": 4,
 "nbformat_minor": 2
}
