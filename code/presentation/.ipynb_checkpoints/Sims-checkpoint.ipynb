{
 "cells": [
  {
   "cell_type": "code",
   "execution_count": 1,
   "metadata": {},
   "outputs": [],
   "source": [
    "import numpy as np\n",
    "import pandas as pd\n",
    "import matplotlib.pyplot as plt\n",
    "from sympy import *\n",
    "from sklearn.linear_model import LinearRegression\n",
    "init_printing(use_unicode=True)"
   ]
  },
  {
   "cell_type": "code",
   "execution_count": 11,
   "metadata": {},
   "outputs": [],
   "source": [
    "x_1, x_2, x_3, y_1, y_2, y_3, theta_1, theta_2, theta_3 = symbols('x^{(1)} x^{(2)} x^{(3}} y^{(1)} y^{(2)} y^{(3)} \\Theta^{(1)} \\Theta^{(2)} \\Theta^{(3)}')"
   ]
  },
  {
   "cell_type": "code",
   "execution_count": 2,
   "metadata": {},
   "outputs": [],
   "source": [
    "def normal(X, y):\n",
    "    XT = X.T\n",
    "    XTX = XT*X\n",
    "    XTX_inv = XTX**-1\n",
    "    XTy = XT*y\n",
    "    return XTX_inv * XTy"
   ]
  },
  {
   "cell_type": "code",
   "execution_count": 44,
   "metadata": {},
   "outputs": [],
   "source": [
    "def update_normal(X_full, y_full, X_obscured, y_obscured, original_n):\n",
    "    n,d = X.shape\n",
    "    #X_list, y_list = X_full.tolist(), y_full.tolist()\n",
    "    theta_full = []\n",
    "    lefts = []\n",
    "    original_X, original_y = X_full[:original_n,:], y_full[:original_n,:]\n",
    "    original_X_obs, original_y_obs = X_obscured[:original_n,:], y_obscured[:original_n,:]\n",
    "    \n",
    "    lm = LinearRegression(fit_intercept=False)\n",
    "    \n",
    "    lm.fit(original_X, original_y)\n",
    "    theta_full.append(lm.coef_[0])\n",
    "    for i in range(original_n+1, n+1):\n",
    "        try:\n",
    "            updated_X, updated_y = X_full[:i,:], y_full[:i,:]\n",
    "            updated_X_obs, updated_y_obs = X_obscured[:i,:], y_obscured[:i,:]\n",
    "\n",
    "            lm.fit(updated_X, updated_y)\n",
    "            theta_full.append(lm.coef_[0])\n",
    "\n",
    "            left = normal(updated_X_obs, updated_y_obs)\n",
    "            lefts.append(left)\n",
    "        except:\n",
    "            continue\n",
    "    sys_eqs = []\n",
    "    diff = len(theta_full) - len(lefts)\n",
    "    print(diff)\n",
    "    for i in range(len(lefts)):\n",
    "        for j in range(d):\n",
    "            eq = lefts[i][j] - theta_full[i+diff][j]\n",
    "            sys_eqs.append(eq)\n",
    "    return theta_full, lefts, sys_eqs\n",
    "    #return theta_full, lefts\n",
    "    #return solvers.solve(sys_eqs)"
   ]
  },
  {
   "cell_type": "code",
   "execution_count": 60,
   "metadata": {},
   "outputs": [],
   "source": [
    "X = Matrix([[3,4],[1,2],[0,3]])\n",
    "y = Matrix([5,3,4])\n",
    "X_obs = Matrix([[x_1,x_2],[1,2],[0,3]])\n",
    "y_obs = Matrix([y_1,3,4])"
   ]
  },
  {
   "cell_type": "code",
   "execution_count": 61,
   "metadata": {},
   "outputs": [
    {
     "name": "stdout",
     "output_type": "stream",
     "text": [
      "1\n"
     ]
    }
   ],
   "source": [
    "a = update_normal(X,y,X_obs,y_obs,1)"
   ]
  },
  {
   "cell_type": "code",
   "execution_count": 63,
   "metadata": {},
   "outputs": [
    {
     "data": {
      "text/plain": [
       "[array([0.6, 0.8]), array([-1.,  2.]), array([-0.10638298,  1.36170213])]"
      ]
     },
     "execution_count": 63,
     "metadata": {},
     "output_type": "execute_result"
    }
   ],
   "source": [
    "a[0]"
   ]
  },
  {
   "cell_type": "code",
   "execution_count": 62,
   "metadata": {},
   "outputs": [
    {
     "data": {
      "text/latex": [
       "$\\displaystyle \\left[ \\left[\\begin{matrix}- \\frac{\\left(x^{(1)} x^{(2)} + 2\\right) \\left(x^{(2)} y^{(1)} + 6\\right)}{\\left(\\left(x^{(1)}\\right)^{2} + 1\\right) \\left(\\left(x^{(2)}\\right)^{2} + 4\\right) - \\left(x^{(1)} x^{(2)} + 2\\right)^{2}} + \\frac{\\left(x^{(1)} y^{(1)} + 3\\right) \\left(\\left(\\left(x^{(1)}\\right)^{2} + 1\\right) \\left(\\left(x^{(2)}\\right)^{2} + 4\\right) - \\left(- x^{(1)} x^{(2)} - 2\\right) \\left(x^{(1)} x^{(2)} + 2\\right) - \\left(x^{(1)} x^{(2)} + 2\\right)^{2}\\right)}{\\left(\\left(x^{(1)}\\right)^{2} + 1\\right) \\left(\\left(\\left(x^{(1)}\\right)^{2} + 1\\right) \\left(\\left(x^{(2)}\\right)^{2} + 4\\right) - \\left(x^{(1)} x^{(2)} + 2\\right)^{2}\\right)}\\\\\\frac{\\left(\\left(x^{(1)}\\right)^{2} + 1\\right) \\left(x^{(2)} y^{(1)} + 6\\right)}{\\left(\\left(x^{(1)}\\right)^{2} + 1\\right) \\left(\\left(x^{(2)}\\right)^{2} + 4\\right) - \\left(x^{(1)} x^{(2)} + 2\\right)^{2}} + \\frac{\\left(- x^{(1)} x^{(2)} - 2\\right) \\left(x^{(1)} y^{(1)} + 3\\right)}{\\left(\\left(x^{(1)}\\right)^{2} + 1\\right) \\left(\\left(x^{(2)}\\right)^{2} + 4\\right) - \\left(x^{(1)} x^{(2)} + 2\\right)^{2}}\\end{matrix}\\right], \\  \\left[\\begin{matrix}- \\frac{\\left(x^{(1)} x^{(2)} + 2\\right) \\left(x^{(2)} y^{(1)} + 18\\right)}{\\left(\\left(x^{(1)}\\right)^{2} + 1\\right) \\left(\\left(x^{(2)}\\right)^{2} + 13\\right) - \\left(x^{(1)} x^{(2)} + 2\\right)^{2}} + \\frac{\\left(x^{(1)} y^{(1)} + 3\\right) \\left(\\left(\\left(x^{(1)}\\right)^{2} + 1\\right) \\left(\\left(x^{(2)}\\right)^{2} + 13\\right) - \\left(- x^{(1)} x^{(2)} - 2\\right) \\left(x^{(1)} x^{(2)} + 2\\right) - \\left(x^{(1)} x^{(2)} + 2\\right)^{2}\\right)}{\\left(\\left(x^{(1)}\\right)^{2} + 1\\right) \\left(\\left(\\left(x^{(1)}\\right)^{2} + 1\\right) \\left(\\left(x^{(2)}\\right)^{2} + 13\\right) - \\left(x^{(1)} x^{(2)} + 2\\right)^{2}\\right)}\\\\\\frac{\\left(\\left(x^{(1)}\\right)^{2} + 1\\right) \\left(x^{(2)} y^{(1)} + 18\\right)}{\\left(\\left(x^{(1)}\\right)^{2} + 1\\right) \\left(\\left(x^{(2)}\\right)^{2} + 13\\right) - \\left(x^{(1)} x^{(2)} + 2\\right)^{2}} + \\frac{\\left(- x^{(1)} x^{(2)} - 2\\right) \\left(x^{(1)} y^{(1)} + 3\\right)}{\\left(\\left(x^{(1)}\\right)^{2} + 1\\right) \\left(\\left(x^{(2)}\\right)^{2} + 13\\right) - \\left(x^{(1)} x^{(2)} + 2\\right)^{2}}\\end{matrix}\\right]\\right]$"
      ],
      "text/plain": [
       "⎡⎡                                                                            \n",
       "⎢⎢       (x__{(1)}⋅x__{(2)} + 2)⋅(x__{(2)}⋅y__{(1)} + 6)         (x__{(1)}⋅y__\n",
       "⎢⎢- ────────────────────────────────────────────────────────── + ─────────────\n",
       "⎢⎢  ⎛        2    ⎞ ⎛        2    ⎞                          2                \n",
       "⎢⎢  ⎝x__{(1)}  + 1⎠⋅⎝x__{(2)}  + 4⎠ - (x__{(1)}⋅x__{(2)} + 2)                 \n",
       "⎢⎢                                                                            \n",
       "⎢⎢                                                ⎛        2    ⎞             \n",
       "⎢⎢                                                ⎝x__{(1)}  + 1⎠⋅(x__{(2)}⋅y_\n",
       "⎢⎢                                       ─────────────────────────────────────\n",
       "⎢⎢                                       ⎛        2    ⎞ ⎛        2    ⎞      \n",
       "⎣⎣                                       ⎝x__{(1)}  + 1⎠⋅⎝x__{(2)}  + 4⎠ - (x_\n",
       "\n",
       "           ⎛⎛        2    ⎞ ⎛        2    ⎞                                   \n",
       "{(1)} + 3)⋅⎝⎝x__{(1)}  + 1⎠⋅⎝x__{(2)}  + 4⎠ - (-x__{(1)}⋅x__{(2)} - 2)⋅(x__{(1\n",
       "──────────────────────────────────────────────────────────────────────────────\n",
       "                 ⎛        2    ⎞ ⎛⎛        2    ⎞ ⎛        2    ⎞             \n",
       "                 ⎝x__{(1)}  + 1⎠⋅⎝⎝x__{(1)}  + 1⎠⋅⎝x__{(2)}  + 4⎠ - (x__{(1)}⋅\n",
       "                                                                              \n",
       "                                                                              \n",
       "_{(1)} + 6)                  (-x__{(1)}⋅x__{(2)} - 2)⋅(x__{(1)}⋅y__{(1)} + 3) \n",
       "───────────────────── + ──────────────────────────────────────────────────────\n",
       "                    2   ⎛        2    ⎞ ⎛        2    ⎞                       \n",
       "_{(1)}⋅x__{(2)} + 2)    ⎝x__{(1)}  + 1⎠⋅⎝x__{(2)}  + 4⎠ - (x__{(1)}⋅x__{(2)} +\n",
       "\n",
       "                                          2⎞⎤  ⎡                              \n",
       ")}⋅x__{(2)} + 2) - (x__{(1)}⋅x__{(2)} + 2) ⎠⎥  ⎢        (x__{(1)}⋅x__{(2)} + 2\n",
       "────────────────────────────────────────────⎥  ⎢- ────────────────────────────\n",
       "             2⎞                             ⎥  ⎢  ⎛        2    ⎞ ⎛        2  \n",
       "x__{(2)} + 2) ⎠                             ⎥  ⎢  ⎝x__{(1)}  + 1⎠⋅⎝x__{(2)}  +\n",
       "                                            ⎥, ⎢                              \n",
       "                                            ⎥  ⎢                              \n",
       "                                            ⎥  ⎢                              \n",
       "────                                        ⎥  ⎢                              \n",
       "   2                                        ⎥  ⎢                              \n",
       " 2)                                         ⎦  ⎣                              \n",
       "\n",
       "                                                          ⎛⎛        2    ⎞ ⎛  \n",
       ")⋅(x__{(2)}⋅y__{(1)} + 18)        (x__{(1)}⋅y__{(1)} + 3)⋅⎝⎝x__{(1)}  + 1⎠⋅⎝x_\n",
       "─────────────────────────────── + ────────────────────────────────────────────\n",
       "   ⎞                          2                                ⎛        2    ⎞\n",
       " 13⎠ - (x__{(1)}⋅x__{(2)} + 2)                                 ⎝x__{(1)}  + 1⎠\n",
       "                                                                              \n",
       "                   ⎛        2    ⎞                                            \n",
       "                   ⎝x__{(1)}  + 1⎠⋅(x__{(2)}⋅y__{(1)} + 18)                  (\n",
       "         ─────────────────────────────────────────────────────────── + ───────\n",
       "         ⎛        2    ⎞ ⎛        2     ⎞                          2   ⎛      \n",
       "         ⎝x__{(1)}  + 1⎠⋅⎝x__{(2)}  + 13⎠ - (x__{(1)}⋅x__{(2)} + 2)    ⎝x__{(1\n",
       "\n",
       "      2     ⎞                                                                 \n",
       "_{(2)}  + 13⎠ - (-x__{(1)}⋅x__{(2)} - 2)⋅(x__{(1)}⋅x__{(2)} + 2) - (x__{(1)}⋅x\n",
       "──────────────────────────────────────────────────────────────────────────────\n",
       " ⎛⎛        2    ⎞ ⎛        2     ⎞                          2⎞                \n",
       "⋅⎝⎝x__{(1)}  + 1⎠⋅⎝x__{(2)}  + 13⎠ - (x__{(1)}⋅x__{(2)} + 2) ⎠                \n",
       "                                                                              \n",
       "                                                                              \n",
       "-x__{(1)}⋅x__{(2)} - 2)⋅(x__{(1)}⋅y__{(1)} + 3)                               \n",
       "────────────────────────────────────────────────────                          \n",
       "  2    ⎞ ⎛        2     ⎞                          2                          \n",
       ")}  + 1⎠⋅⎝x__{(2)}  + 13⎠ - (x__{(1)}⋅x__{(2)} + 2)                           \n",
       "\n",
       "            2⎞⎤⎤\n",
       "__{(2)} + 2) ⎠⎥⎥\n",
       "──────────────⎥⎥\n",
       "              ⎥⎥\n",
       "              ⎥⎥\n",
       "              ⎥⎥\n",
       "              ⎥⎥\n",
       "              ⎥⎥\n",
       "              ⎥⎥\n",
       "              ⎥⎥\n",
       "              ⎦⎦"
      ]
     },
     "execution_count": 62,
     "metadata": {},
     "output_type": "execute_result"
    }
   ],
   "source": [
    "a[1]"
   ]
  },
  {
   "cell_type": "code",
   "execution_count": 64,
   "metadata": {},
   "outputs": [
    {
     "data": {
      "image/png": "[encoded data removed]",
      "text/latex": [
       "$\\displaystyle \\left[ \\left\\{ x^{(1)} : -3.0, \\  x^{(2)} : -4.0, \\  y^{(1)} : -5.0\\right\\}, \\  \\left\\{ x^{(1)} : 3.0, \\  x^{(2)} : 4.0, \\  y^{(1)} : 5.0\\right\\}\\right]$"
      ],
      "text/plain": [
       "[{x__{(1)}: -3.0, x__{(2)}: -4.0, y__{(1)}: -5.0}, {x__{(1)}: 3.0, x__{(2)}: 4\n",
       ".0, y__{(1)}: 5.0}]"
      ]
     },
     "execution_count": 64,
     "metadata": {},
     "output_type": "execute_result"
    }
   ],
   "source": [
    "solve(a[2], quick=True)"
   ]
  },
  {
   "cell_type": "code",
   "execution_count": 80,
   "metadata": {},
   "outputs": [],
   "source": [
    "X = Matrix([[3,4,5],[1,2,3],[9,3,1],[8,2,4]])\n",
    "y = Matrix([6,4,-4,7])\n",
    "X_obs = Matrix([[x_1,x_2,x_3],[1,2,3],[9,3,1],[8,2,4]])\n",
    "y_obs = Matrix([y_1,4,-4,7])"
   ]
  },
  {
   "cell_type": "code",
   "execution_count": 81,
   "metadata": {},
   "outputs": [
    {
     "name": "stdout",
     "output_type": "stream",
     "text": [
      "2\n"
     ]
    }
   ],
   "source": [
    "a = update_normal(X,y,X_obs,y_obs,1)"
   ]
  },
  {
   "cell_type": "code",
   "execution_count": 82,
   "metadata": {},
   "outputs": [
    {
     "data": {
      "text/plain": [
       "[array([0.36, 0.48, 0.6 ]),\n",
       " array([-0.66666667,  0.33333333,  1.33333333]),\n",
       " array([-0.75,  0.5 ,  1.25]),\n",
       " array([-0.04339623, -2.15471698,  2.90754717])]"
      ]
     },
     "execution_count": 82,
     "metadata": {},
     "output_type": "execute_result"
    }
   ],
   "source": [
    "a[0]"
   ]
  },
  {
   "cell_type": "code",
   "execution_count": 85,
   "metadata": {},
   "outputs": [
    {
     "ename": "KeyboardInterrupt",
     "evalue": "",
     "output_type": "error",
     "traceback": [
      "\u001b[0;31m---------------------------------------------------------------------------\u001b[0m",
      "\u001b[0;31mKeyboardInterrupt\u001b[0m                         Traceback (most recent call last)",
      "\u001b[0;32m<ipython-input-85-9760153afcca>\u001b[0m in \u001b[0;36m<module>\u001b[0;34m\u001b[0m\n\u001b[0;32m----> 1\u001b[0;31m \u001b[0msolve\u001b[0m\u001b[0;34m(\u001b[0m\u001b[0ma\u001b[0m\u001b[0;34m[\u001b[0m\u001b[0;36m2\u001b[0m\u001b[0;34m]\u001b[0m\u001b[0;34m,\u001b[0m \u001b[0mquick\u001b[0m\u001b[0;34m=\u001b[0m\u001b[0;32mTrue\u001b[0m\u001b[0;34m)\u001b[0m\u001b[0;34m\u001b[0m\u001b[0;34m\u001b[0m\u001b[0m\n\u001b[0m",
      "\u001b[0;32m/anaconda3/envs/T02/lib/python3.7/site-packages/sympy/solvers/solvers.py\u001b[0m in \u001b[0;36msolve\u001b[0;34m(f, *symbols, **flags)\u001b[0m\n\u001b[1;32m   1171\u001b[0m         \u001b[0msolution\u001b[0m \u001b[0;34m=\u001b[0m \u001b[0m_solve\u001b[0m\u001b[0;34m(\u001b[0m\u001b[0mf\u001b[0m\u001b[0;34m[\u001b[0m\u001b[0;36m0\u001b[0m\u001b[0;34m]\u001b[0m\u001b[0;34m,\u001b[0m \u001b[0;34m*\u001b[0m\u001b[0msymbols\u001b[0m\u001b[0;34m,\u001b[0m \u001b[0;34m**\u001b[0m\u001b[0mflags\u001b[0m\u001b[0;34m)\u001b[0m\u001b[0;34m\u001b[0m\u001b[0;34m\u001b[0m\u001b[0m\n\u001b[1;32m   1172\u001b[0m     \u001b[0;32melse\u001b[0m\u001b[0;34m:\u001b[0m\u001b[0;34m\u001b[0m\u001b[0;34m\u001b[0m\u001b[0m\n\u001b[0;32m-> 1173\u001b[0;31m         \u001b[0msolution\u001b[0m \u001b[0;34m=\u001b[0m \u001b[0m_solve_system\u001b[0m\u001b[0;34m(\u001b[0m\u001b[0mf\u001b[0m\u001b[0;34m,\u001b[0m \u001b[0msymbols\u001b[0m\u001b[0;34m,\u001b[0m \u001b[0;34m**\u001b[0m\u001b[0mflags\u001b[0m\u001b[0;34m)\u001b[0m\u001b[0;34m\u001b[0m\u001b[0;34m\u001b[0m\u001b[0m\n\u001b[0m\u001b[1;32m   1174\u001b[0m \u001b[0;34m\u001b[0m\u001b[0m\n\u001b[1;32m   1175\u001b[0m     \u001b[0;31m#\u001b[0m\u001b[0;34m\u001b[0m\u001b[0;34m\u001b[0m\u001b[0;34m\u001b[0m\u001b[0m\n",
      "\u001b[0;32m/anaconda3/envs/T02/lib/python3.7/site-packages/sympy/solvers/solvers.py\u001b[0m in \u001b[0;36m_solve_system\u001b[0;34m(exprs, symbols, **flags)\u001b[0m\n\u001b[1;32m   1850\u001b[0m             \u001b[0;32melse\u001b[0m\u001b[0;34m:\u001b[0m\u001b[0;34m\u001b[0m\u001b[0;34m\u001b[0m\u001b[0m\n\u001b[1;32m   1851\u001b[0m                 \u001b[0;32mtry\u001b[0m\u001b[0;34m:\u001b[0m\u001b[0;34m\u001b[0m\u001b[0;34m\u001b[0m\u001b[0m\n\u001b[0;32m-> 1852\u001b[0;31m                     \u001b[0mresult\u001b[0m \u001b[0;34m=\u001b[0m \u001b[0msolve_poly_system\u001b[0m\u001b[0;34m(\u001b[0m\u001b[0mpolys\u001b[0m\u001b[0;34m,\u001b[0m \u001b[0;34m*\u001b[0m\u001b[0msymbols\u001b[0m\u001b[0;34m)\u001b[0m\u001b[0;34m\u001b[0m\u001b[0;34m\u001b[0m\u001b[0m\n\u001b[0m\u001b[1;32m   1853\u001b[0m                     \u001b[0;32mif\u001b[0m \u001b[0mresult\u001b[0m\u001b[0;34m:\u001b[0m\u001b[0;34m\u001b[0m\u001b[0;34m\u001b[0m\u001b[0m\n\u001b[1;32m   1854\u001b[0m                         \u001b[0msolved_syms\u001b[0m \u001b[0;34m=\u001b[0m \u001b[0msymbols\u001b[0m\u001b[0;34m\u001b[0m\u001b[0;34m\u001b[0m\u001b[0m\n",
      "\u001b[0;32m/anaconda3/envs/T02/lib/python3.7/site-packages/sympy/solvers/polysys.py\u001b[0m in \u001b[0;36msolve_poly_system\u001b[0;34m(seq, *gens, **args)\u001b[0m\n\u001b[1;32m     45\u001b[0m                 \u001b[0;32mpass\u001b[0m\u001b[0;34m\u001b[0m\u001b[0;34m\u001b[0m\u001b[0m\n\u001b[1;32m     46\u001b[0m \u001b[0;34m\u001b[0m\u001b[0m\n\u001b[0;32m---> 47\u001b[0;31m     \u001b[0;32mreturn\u001b[0m \u001b[0msolve_generic\u001b[0m\u001b[0;34m(\u001b[0m\u001b[0mpolys\u001b[0m\u001b[0;34m,\u001b[0m \u001b[0mopt\u001b[0m\u001b[0;34m)\u001b[0m\u001b[0;34m\u001b[0m\u001b[0;34m\u001b[0m\u001b[0m\n\u001b[0m\u001b[1;32m     48\u001b[0m \u001b[0;34m\u001b[0m\u001b[0m\n\u001b[1;32m     49\u001b[0m \u001b[0;34m\u001b[0m\u001b[0m\n",
      "\u001b[0;32m/anaconda3/envs/T02/lib/python3.7/site-packages/sympy/solvers/polysys.py\u001b[0m in \u001b[0;36msolve_generic\u001b[0;34m(polys, opt)\u001b[0m\n\u001b[1;32m    235\u001b[0m \u001b[0;34m\u001b[0m\u001b[0m\n\u001b[1;32m    236\u001b[0m     \u001b[0;32mtry\u001b[0m\u001b[0;34m:\u001b[0m\u001b[0;34m\u001b[0m\u001b[0;34m\u001b[0m\u001b[0m\n\u001b[0;32m--> 237\u001b[0;31m         \u001b[0mresult\u001b[0m \u001b[0;34m=\u001b[0m \u001b[0m_solve_reduced_system\u001b[0m\u001b[0;34m(\u001b[0m\u001b[0mpolys\u001b[0m\u001b[0;34m,\u001b[0m \u001b[0mopt\u001b[0m\u001b[0;34m.\u001b[0m\u001b[0mgens\u001b[0m\u001b[0;34m,\u001b[0m \u001b[0mentry\u001b[0m\u001b[0;34m=\u001b[0m\u001b[0;32mTrue\u001b[0m\u001b[0;34m)\u001b[0m\u001b[0;34m\u001b[0m\u001b[0;34m\u001b[0m\u001b[0m\n\u001b[0m\u001b[1;32m    238\u001b[0m     \u001b[0;32mexcept\u001b[0m \u001b[0mCoercionFailed\u001b[0m\u001b[0;34m:\u001b[0m\u001b[0;34m\u001b[0m\u001b[0;34m\u001b[0m\u001b[0m\n\u001b[1;32m    239\u001b[0m         \u001b[0;32mraise\u001b[0m \u001b[0mNotImplementedError\u001b[0m\u001b[0;34m\u001b[0m\u001b[0;34m\u001b[0m\u001b[0m\n",
      "\u001b[0;32m/anaconda3/envs/T02/lib/python3.7/site-packages/sympy/solvers/polysys.py\u001b[0m in \u001b[0;36m_solve_reduced_system\u001b[0;34m(system, gens, entry)\u001b[0m\n\u001b[1;32m    183\u001b[0m             \u001b[0;32mreturn\u001b[0m \u001b[0;34m[\u001b[0m \u001b[0;34m(\u001b[0m\u001b[0mzero\u001b[0m\u001b[0;34m,\u001b[0m\u001b[0;34m)\u001b[0m \u001b[0;32mfor\u001b[0m \u001b[0mzero\u001b[0m \u001b[0;32min\u001b[0m \u001b[0mzeros\u001b[0m \u001b[0;34m]\u001b[0m\u001b[0;34m\u001b[0m\u001b[0;34m\u001b[0m\u001b[0m\n\u001b[1;32m    184\u001b[0m \u001b[0;34m\u001b[0m\u001b[0m\n\u001b[0;32m--> 185\u001b[0;31m         \u001b[0mbasis\u001b[0m \u001b[0;34m=\u001b[0m \u001b[0mgroebner\u001b[0m\u001b[0;34m(\u001b[0m\u001b[0msystem\u001b[0m\u001b[0;34m,\u001b[0m \u001b[0mgens\u001b[0m\u001b[0;34m,\u001b[0m \u001b[0mpolys\u001b[0m\u001b[0;34m=\u001b[0m\u001b[0;32mTrue\u001b[0m\u001b[0;34m)\u001b[0m\u001b[0;34m\u001b[0m\u001b[0;34m\u001b[0m\u001b[0m\n\u001b[0m\u001b[1;32m    186\u001b[0m \u001b[0;34m\u001b[0m\u001b[0m\n\u001b[1;32m    187\u001b[0m         \u001b[0;32mif\u001b[0m \u001b[0mlen\u001b[0m\u001b[0;34m(\u001b[0m\u001b[0mbasis\u001b[0m\u001b[0;34m)\u001b[0m \u001b[0;34m==\u001b[0m \u001b[0;36m1\u001b[0m \u001b[0;32mand\u001b[0m \u001b[0mbasis\u001b[0m\u001b[0;34m[\u001b[0m\u001b[0;36m0\u001b[0m\u001b[0;34m]\u001b[0m\u001b[0;34m.\u001b[0m\u001b[0mis_ground\u001b[0m\u001b[0;34m:\u001b[0m\u001b[0;34m\u001b[0m\u001b[0;34m\u001b[0m\u001b[0m\n",
      "\u001b[0;32m/anaconda3/envs/T02/lib/python3.7/site-packages/sympy/polys/polytools.py\u001b[0m in \u001b[0;36mgroebner\u001b[0;34m(F, *gens, **args)\u001b[0m\n\u001b[1;32m   6768\u001b[0m \u001b[0;34m\u001b[0m\u001b[0m\n\u001b[1;32m   6769\u001b[0m     \"\"\"\n\u001b[0;32m-> 6770\u001b[0;31m     \u001b[0;32mreturn\u001b[0m \u001b[0mGroebnerBasis\u001b[0m\u001b[0;34m(\u001b[0m\u001b[0mF\u001b[0m\u001b[0;34m,\u001b[0m \u001b[0;34m*\u001b[0m\u001b[0mgens\u001b[0m\u001b[0;34m,\u001b[0m \u001b[0;34m**\u001b[0m\u001b[0margs\u001b[0m\u001b[0;34m)\u001b[0m\u001b[0;34m\u001b[0m\u001b[0;34m\u001b[0m\u001b[0m\n\u001b[0m\u001b[1;32m   6771\u001b[0m \u001b[0;34m\u001b[0m\u001b[0m\n\u001b[1;32m   6772\u001b[0m \u001b[0;34m\u001b[0m\u001b[0m\n",
      "\u001b[0;32m/anaconda3/envs/T02/lib/python3.7/site-packages/sympy/polys/polytools.py\u001b[0m in \u001b[0;36m__new__\u001b[0;34m(cls, F, *gens, **args)\u001b[0m\n\u001b[1;32m   6807\u001b[0m         \u001b[0mpolys\u001b[0m \u001b[0;34m=\u001b[0m \u001b[0;34m[\u001b[0m\u001b[0mring\u001b[0m\u001b[0;34m.\u001b[0m\u001b[0mfrom_dict\u001b[0m\u001b[0;34m(\u001b[0m\u001b[0mpoly\u001b[0m\u001b[0;34m.\u001b[0m\u001b[0mrep\u001b[0m\u001b[0;34m.\u001b[0m\u001b[0mto_dict\u001b[0m\u001b[0;34m(\u001b[0m\u001b[0;34m)\u001b[0m\u001b[0;34m)\u001b[0m \u001b[0;32mfor\u001b[0m \u001b[0mpoly\u001b[0m \u001b[0;32min\u001b[0m \u001b[0mpolys\u001b[0m \u001b[0;32mif\u001b[0m \u001b[0mpoly\u001b[0m\u001b[0;34m]\u001b[0m\u001b[0;34m\u001b[0m\u001b[0;34m\u001b[0m\u001b[0m\n\u001b[1;32m   6808\u001b[0m \u001b[0;34m\u001b[0m\u001b[0m\n\u001b[0;32m-> 6809\u001b[0;31m         \u001b[0mG\u001b[0m \u001b[0;34m=\u001b[0m \u001b[0m_groebner\u001b[0m\u001b[0;34m(\u001b[0m\u001b[0mpolys\u001b[0m\u001b[0;34m,\u001b[0m \u001b[0mring\u001b[0m\u001b[0;34m,\u001b[0m \u001b[0mmethod\u001b[0m\u001b[0;34m=\u001b[0m\u001b[0mopt\u001b[0m\u001b[0;34m.\u001b[0m\u001b[0mmethod\u001b[0m\u001b[0;34m)\u001b[0m\u001b[0;34m\u001b[0m\u001b[0;34m\u001b[0m\u001b[0m\n\u001b[0m\u001b[1;32m   6810\u001b[0m         \u001b[0mG\u001b[0m \u001b[0;34m=\u001b[0m \u001b[0;34m[\u001b[0m\u001b[0mPoly\u001b[0m\u001b[0;34m.\u001b[0m\u001b[0m_from_dict\u001b[0m\u001b[0;34m(\u001b[0m\u001b[0mg\u001b[0m\u001b[0;34m,\u001b[0m \u001b[0mopt\u001b[0m\u001b[0;34m)\u001b[0m \u001b[0;32mfor\u001b[0m \u001b[0mg\u001b[0m \u001b[0;32min\u001b[0m \u001b[0mG\u001b[0m\u001b[0;34m]\u001b[0m\u001b[0;34m\u001b[0m\u001b[0;34m\u001b[0m\u001b[0m\n\u001b[1;32m   6811\u001b[0m \u001b[0;34m\u001b[0m\u001b[0m\n",
      "\u001b[0;32m/anaconda3/envs/T02/lib/python3.7/site-packages/sympy/polys/groebnertools.py\u001b[0m in \u001b[0;36mgroebner\u001b[0;34m(seq, ring, method)\u001b[0m\n\u001b[1;32m     43\u001b[0m             \u001b[0mseq\u001b[0m \u001b[0;34m=\u001b[0m \u001b[0;34m[\u001b[0m \u001b[0ms\u001b[0m\u001b[0;34m.\u001b[0m\u001b[0mset_ring\u001b[0m\u001b[0;34m(\u001b[0m\u001b[0mring\u001b[0m\u001b[0;34m)\u001b[0m \u001b[0;32mfor\u001b[0m \u001b[0ms\u001b[0m \u001b[0;32min\u001b[0m \u001b[0mseq\u001b[0m \u001b[0;34m]\u001b[0m\u001b[0;34m\u001b[0m\u001b[0;34m\u001b[0m\u001b[0m\n\u001b[1;32m     44\u001b[0m \u001b[0;34m\u001b[0m\u001b[0m\n\u001b[0;32m---> 45\u001b[0;31m     \u001b[0mG\u001b[0m \u001b[0;34m=\u001b[0m \u001b[0m_groebner\u001b[0m\u001b[0;34m(\u001b[0m\u001b[0mseq\u001b[0m\u001b[0;34m,\u001b[0m \u001b[0mring\u001b[0m\u001b[0;34m)\u001b[0m\u001b[0;34m\u001b[0m\u001b[0;34m\u001b[0m\u001b[0m\n\u001b[0m\u001b[1;32m     46\u001b[0m \u001b[0;34m\u001b[0m\u001b[0m\n\u001b[1;32m     47\u001b[0m     \u001b[0;32mif\u001b[0m \u001b[0morig\u001b[0m \u001b[0;32mis\u001b[0m \u001b[0;32mnot\u001b[0m \u001b[0;32mNone\u001b[0m\u001b[0;34m:\u001b[0m\u001b[0;34m\u001b[0m\u001b[0;34m\u001b[0m\u001b[0m\n",
      "\u001b[0;32m/anaconda3/envs/T02/lib/python3.7/site-packages/sympy/polys/groebnertools.py\u001b[0m in \u001b[0;36m_buchberger\u001b[0;34m(f, ring)\u001b[0m\n\u001b[1;32m    238\u001b[0m         \u001b[0;31m# ordering divisors is on average more efficient [Cox] page 111\u001b[0m\u001b[0;34m\u001b[0m\u001b[0;34m\u001b[0m\u001b[0;34m\u001b[0m\u001b[0m\n\u001b[1;32m    239\u001b[0m         \u001b[0mG1\u001b[0m \u001b[0;34m=\u001b[0m \u001b[0msorted\u001b[0m\u001b[0;34m(\u001b[0m\u001b[0mG\u001b[0m\u001b[0;34m,\u001b[0m \u001b[0mkey\u001b[0m\u001b[0;34m=\u001b[0m\u001b[0;32mlambda\u001b[0m \u001b[0mg\u001b[0m\u001b[0;34m:\u001b[0m \u001b[0morder\u001b[0m\u001b[0;34m(\u001b[0m\u001b[0mf\u001b[0m\u001b[0;34m[\u001b[0m\u001b[0mg\u001b[0m\u001b[0;34m]\u001b[0m\u001b[0;34m.\u001b[0m\u001b[0mLM\u001b[0m\u001b[0;34m)\u001b[0m\u001b[0;34m)\u001b[0m\u001b[0;34m\u001b[0m\u001b[0;34m\u001b[0m\u001b[0m\n\u001b[0;32m--> 240\u001b[0;31m         \u001b[0mht\u001b[0m \u001b[0;34m=\u001b[0m \u001b[0mnormal\u001b[0m\u001b[0;34m(\u001b[0m\u001b[0mh\u001b[0m\u001b[0;34m,\u001b[0m \u001b[0mG1\u001b[0m\u001b[0;34m)\u001b[0m\u001b[0;34m\u001b[0m\u001b[0;34m\u001b[0m\u001b[0m\n\u001b[0m\u001b[1;32m    241\u001b[0m \u001b[0;34m\u001b[0m\u001b[0m\n\u001b[1;32m    242\u001b[0m         \u001b[0;32mif\u001b[0m \u001b[0mht\u001b[0m\u001b[0;34m:\u001b[0m\u001b[0;34m\u001b[0m\u001b[0;34m\u001b[0m\u001b[0m\n",
      "\u001b[0;32m/anaconda3/envs/T02/lib/python3.7/site-packages/sympy/polys/groebnertools.py\u001b[0m in \u001b[0;36mnormal\u001b[0;34m(g, J)\u001b[0m\n\u001b[1;32m    109\u001b[0m             \u001b[0;32mreturn\u001b[0m \u001b[0;32mNone\u001b[0m\u001b[0;34m\u001b[0m\u001b[0;34m\u001b[0m\u001b[0m\n\u001b[1;32m    110\u001b[0m         \u001b[0;32melse\u001b[0m\u001b[0;34m:\u001b[0m\u001b[0;34m\u001b[0m\u001b[0;34m\u001b[0m\u001b[0m\n\u001b[0;32m--> 111\u001b[0;31m             \u001b[0mh\u001b[0m \u001b[0;34m=\u001b[0m \u001b[0mh\u001b[0m\u001b[0;34m.\u001b[0m\u001b[0mmonic\u001b[0m\u001b[0;34m(\u001b[0m\u001b[0;34m)\u001b[0m\u001b[0;34m\u001b[0m\u001b[0;34m\u001b[0m\u001b[0m\n\u001b[0m\u001b[1;32m    112\u001b[0m \u001b[0;34m\u001b[0m\u001b[0m\n\u001b[1;32m    113\u001b[0m             \u001b[0;32mif\u001b[0m \u001b[0;32mnot\u001b[0m \u001b[0mh\u001b[0m \u001b[0;32min\u001b[0m \u001b[0mI\u001b[0m\u001b[0;34m:\u001b[0m\u001b[0;34m\u001b[0m\u001b[0;34m\u001b[0m\u001b[0m\n",
      "\u001b[0;32m/anaconda3/envs/T02/lib/python3.7/site-packages/sympy/polys/rings.py\u001b[0m in \u001b[0;36mmonic\u001b[0;34m(f)\u001b[0m\n\u001b[1;32m   1959\u001b[0m             \u001b[0;32mreturn\u001b[0m \u001b[0mf\u001b[0m\u001b[0;34m\u001b[0m\u001b[0;34m\u001b[0m\u001b[0m\n\u001b[1;32m   1960\u001b[0m         \u001b[0;32melse\u001b[0m\u001b[0;34m:\u001b[0m\u001b[0;34m\u001b[0m\u001b[0;34m\u001b[0m\u001b[0m\n\u001b[0;32m-> 1961\u001b[0;31m             \u001b[0;32mreturn\u001b[0m \u001b[0mf\u001b[0m\u001b[0;34m.\u001b[0m\u001b[0mquo_ground\u001b[0m\u001b[0;34m(\u001b[0m\u001b[0mf\u001b[0m\u001b[0;34m.\u001b[0m\u001b[0mLC\u001b[0m\u001b[0;34m)\u001b[0m\u001b[0;34m\u001b[0m\u001b[0;34m\u001b[0m\u001b[0m\n\u001b[0m\u001b[1;32m   1962\u001b[0m \u001b[0;34m\u001b[0m\u001b[0m\n\u001b[1;32m   1963\u001b[0m     \u001b[0;32mdef\u001b[0m \u001b[0mmul_ground\u001b[0m\u001b[0;34m(\u001b[0m\u001b[0mf\u001b[0m\u001b[0;34m,\u001b[0m \u001b[0mx\u001b[0m\u001b[0;34m)\u001b[0m\u001b[0;34m:\u001b[0m\u001b[0;34m\u001b[0m\u001b[0;34m\u001b[0m\u001b[0m\n",
      "\u001b[0;32m/anaconda3/envs/T02/lib/python3.7/site-packages/sympy/polys/rings.py\u001b[0m in \u001b[0;36mquo_ground\u001b[0;34m(f, x)\u001b[0m\n\u001b[1;32m   1995\u001b[0m         \u001b[0;32mif\u001b[0m \u001b[0mdomain\u001b[0m\u001b[0;34m.\u001b[0m\u001b[0mis_Field\u001b[0m\u001b[0;34m:\u001b[0m\u001b[0;34m\u001b[0m\u001b[0;34m\u001b[0m\u001b[0m\n\u001b[1;32m   1996\u001b[0m             \u001b[0mquo\u001b[0m \u001b[0;34m=\u001b[0m \u001b[0mdomain\u001b[0m\u001b[0;34m.\u001b[0m\u001b[0mquo\u001b[0m\u001b[0;34m\u001b[0m\u001b[0;34m\u001b[0m\u001b[0m\n\u001b[0;32m-> 1997\u001b[0;31m             \u001b[0mterms\u001b[0m \u001b[0;34m=\u001b[0m \u001b[0;34m[\u001b[0m \u001b[0;34m(\u001b[0m\u001b[0mmonom\u001b[0m\u001b[0;34m,\u001b[0m \u001b[0mquo\u001b[0m\u001b[0;34m(\u001b[0m\u001b[0mcoeff\u001b[0m\u001b[0;34m,\u001b[0m \u001b[0mx\u001b[0m\u001b[0;34m)\u001b[0m\u001b[0;34m)\u001b[0m \u001b[0;32mfor\u001b[0m \u001b[0mmonom\u001b[0m\u001b[0;34m,\u001b[0m \u001b[0mcoeff\u001b[0m \u001b[0;32min\u001b[0m \u001b[0mf\u001b[0m\u001b[0;34m.\u001b[0m\u001b[0miterterms\u001b[0m\u001b[0;34m(\u001b[0m\u001b[0;34m)\u001b[0m \u001b[0;34m]\u001b[0m\u001b[0;34m\u001b[0m\u001b[0;34m\u001b[0m\u001b[0m\n\u001b[0m\u001b[1;32m   1998\u001b[0m         \u001b[0;32melse\u001b[0m\u001b[0;34m:\u001b[0m\u001b[0;34m\u001b[0m\u001b[0;34m\u001b[0m\u001b[0m\n\u001b[1;32m   1999\u001b[0m             \u001b[0mterms\u001b[0m \u001b[0;34m=\u001b[0m \u001b[0;34m[\u001b[0m \u001b[0;34m(\u001b[0m\u001b[0mmonom\u001b[0m\u001b[0;34m,\u001b[0m \u001b[0mcoeff\u001b[0m \u001b[0;34m//\u001b[0m \u001b[0mx\u001b[0m\u001b[0;34m)\u001b[0m \u001b[0;32mfor\u001b[0m \u001b[0mmonom\u001b[0m\u001b[0;34m,\u001b[0m \u001b[0mcoeff\u001b[0m \u001b[0;32min\u001b[0m \u001b[0mf\u001b[0m\u001b[0;34m.\u001b[0m\u001b[0miterterms\u001b[0m\u001b[0;34m(\u001b[0m\u001b[0;34m)\u001b[0m \u001b[0;32mif\u001b[0m \u001b[0;32mnot\u001b[0m \u001b[0;34m(\u001b[0m\u001b[0mcoeff\u001b[0m \u001b[0;34m%\u001b[0m \u001b[0mx\u001b[0m\u001b[0;34m)\u001b[0m \u001b[0;34m]\u001b[0m\u001b[0;34m\u001b[0m\u001b[0;34m\u001b[0m\u001b[0m\n",
      "\u001b[0;32m/anaconda3/envs/T02/lib/python3.7/site-packages/sympy/polys/rings.py\u001b[0m in \u001b[0;36m<listcomp>\u001b[0;34m(.0)\u001b[0m\n\u001b[1;32m   1995\u001b[0m         \u001b[0;32mif\u001b[0m \u001b[0mdomain\u001b[0m\u001b[0;34m.\u001b[0m\u001b[0mis_Field\u001b[0m\u001b[0;34m:\u001b[0m\u001b[0;34m\u001b[0m\u001b[0;34m\u001b[0m\u001b[0m\n\u001b[1;32m   1996\u001b[0m             \u001b[0mquo\u001b[0m \u001b[0;34m=\u001b[0m \u001b[0mdomain\u001b[0m\u001b[0;34m.\u001b[0m\u001b[0mquo\u001b[0m\u001b[0;34m\u001b[0m\u001b[0;34m\u001b[0m\u001b[0m\n\u001b[0;32m-> 1997\u001b[0;31m             \u001b[0mterms\u001b[0m \u001b[0;34m=\u001b[0m \u001b[0;34m[\u001b[0m \u001b[0;34m(\u001b[0m\u001b[0mmonom\u001b[0m\u001b[0;34m,\u001b[0m \u001b[0mquo\u001b[0m\u001b[0;34m(\u001b[0m\u001b[0mcoeff\u001b[0m\u001b[0;34m,\u001b[0m \u001b[0mx\u001b[0m\u001b[0;34m)\u001b[0m\u001b[0;34m)\u001b[0m \u001b[0;32mfor\u001b[0m \u001b[0mmonom\u001b[0m\u001b[0;34m,\u001b[0m \u001b[0mcoeff\u001b[0m \u001b[0;32min\u001b[0m \u001b[0mf\u001b[0m\u001b[0;34m.\u001b[0m\u001b[0miterterms\u001b[0m\u001b[0;34m(\u001b[0m\u001b[0;34m)\u001b[0m \u001b[0;34m]\u001b[0m\u001b[0;34m\u001b[0m\u001b[0;34m\u001b[0m\u001b[0m\n\u001b[0m\u001b[1;32m   1998\u001b[0m         \u001b[0;32melse\u001b[0m\u001b[0;34m:\u001b[0m\u001b[0;34m\u001b[0m\u001b[0;34m\u001b[0m\u001b[0m\n\u001b[1;32m   1999\u001b[0m             \u001b[0mterms\u001b[0m \u001b[0;34m=\u001b[0m \u001b[0;34m[\u001b[0m \u001b[0;34m(\u001b[0m\u001b[0mmonom\u001b[0m\u001b[0;34m,\u001b[0m \u001b[0mcoeff\u001b[0m \u001b[0;34m//\u001b[0m \u001b[0mx\u001b[0m\u001b[0;34m)\u001b[0m \u001b[0;32mfor\u001b[0m \u001b[0mmonom\u001b[0m\u001b[0;34m,\u001b[0m \u001b[0mcoeff\u001b[0m \u001b[0;32min\u001b[0m \u001b[0mf\u001b[0m\u001b[0;34m.\u001b[0m\u001b[0miterterms\u001b[0m\u001b[0;34m(\u001b[0m\u001b[0;34m)\u001b[0m \u001b[0;32mif\u001b[0m \u001b[0;32mnot\u001b[0m \u001b[0;34m(\u001b[0m\u001b[0mcoeff\u001b[0m \u001b[0;34m%\u001b[0m \u001b[0mx\u001b[0m\u001b[0;34m)\u001b[0m \u001b[0;34m]\u001b[0m\u001b[0;34m\u001b[0m\u001b[0;34m\u001b[0m\u001b[0m\n",
      "\u001b[0;32m/anaconda3/envs/T02/lib/python3.7/site-packages/sympy/polys/domains/gmpyrationalfield.py\u001b[0m in \u001b[0;36mquo\u001b[0;34m(self, a, b)\u001b[0m\n\u001b[1;32m     70\u001b[0m     \u001b[0;32mdef\u001b[0m \u001b[0mquo\u001b[0m\u001b[0;34m(\u001b[0m\u001b[0mself\u001b[0m\u001b[0;34m,\u001b[0m \u001b[0ma\u001b[0m\u001b[0;34m,\u001b[0m \u001b[0mb\u001b[0m\u001b[0;34m)\u001b[0m\u001b[0;34m:\u001b[0m\u001b[0;34m\u001b[0m\u001b[0;34m\u001b[0m\u001b[0m\n\u001b[1;32m     71\u001b[0m         \u001b[0;34m\"\"\"Quotient of `a` and `b`, implies `__div__`. \"\"\"\u001b[0m\u001b[0;34m\u001b[0m\u001b[0;34m\u001b[0m\u001b[0m\n\u001b[0;32m---> 72\u001b[0;31m         \u001b[0;32mreturn\u001b[0m \u001b[0mGMPYRational\u001b[0m\u001b[0;34m(\u001b[0m\u001b[0ma\u001b[0m\u001b[0;34m)\u001b[0m \u001b[0;34m/\u001b[0m \u001b[0mGMPYRational\u001b[0m\u001b[0;34m(\u001b[0m\u001b[0mb\u001b[0m\u001b[0;34m)\u001b[0m\u001b[0;34m\u001b[0m\u001b[0;34m\u001b[0m\u001b[0m\n\u001b[0m\u001b[1;32m     73\u001b[0m \u001b[0;34m\u001b[0m\u001b[0m\n\u001b[1;32m     74\u001b[0m     \u001b[0;32mdef\u001b[0m \u001b[0mrem\u001b[0m\u001b[0;34m(\u001b[0m\u001b[0mself\u001b[0m\u001b[0;34m,\u001b[0m \u001b[0ma\u001b[0m\u001b[0;34m,\u001b[0m \u001b[0mb\u001b[0m\u001b[0;34m)\u001b[0m\u001b[0;34m:\u001b[0m\u001b[0;34m\u001b[0m\u001b[0;34m\u001b[0m\u001b[0m\n",
      "\u001b[0;31mKeyboardInterrupt\u001b[0m: "
     ]
    }
   ],
   "source": [
    "solve(a[2], quick=True)"
   ]
  },
  {
   "cell_type": "code",
   "execution_count": null,
   "metadata": {},
   "outputs": [],
   "source": []
  }
 ],
 "metadata": {
  "kernelspec": {
   "display_name": "Python [conda env:T02] *",
   "language": "python",
   "name": "conda-env-T02-py"
  },
  "language_info": {
   "codemirror_mode": {
    "name": "ipython",
    "version": 3
   },
   "file_extension": ".py",
   "mimetype": "text/x-python",
   "name": "python",
   "nbconvert_exporter": "python",
   "pygments_lexer": "ipython3",
   "version": "3.7.4"
  }
 },
 "nbformat": 4,
 "nbformat_minor": 2
}
