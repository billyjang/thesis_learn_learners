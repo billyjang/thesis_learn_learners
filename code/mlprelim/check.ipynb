{
 "cells": [
  {
   "cell_type": "code",
   "execution_count": null,
   "metadata": {},
   "outputs": [],
   "source": [
    "t = create_dataset(3,-100,100,2,2,2)\n",
    "t[0]\n",
    "array([[[ -5,  29, -86],\n",
    "        [-27,  19,  -8]],\n",
    "\n",
    "       [[ 85, -66,  25],\n",
    "        [-26,  61,  35]],\n",
    "\n",
    "       [[ 11, -51,  19],\n",
    "        [-56, -10,  78]]])\n",
    "t[1]\n",
    "array([[[ 10, -78,  79],\n",
    "        [-46, -31,  99]],\n",
    "\n",
    "       [[ 47,  33, -57],\n",
    "        [-35,  14,  16]],\n",
    "\n",
    "       [[ 68, -82,  -1],\n",
    "        [ 72, -14, -50]]])\n",
    "t[4]\n",
    "array([[-2.0377907 , -0.53033122, -1.05565668],\n",
    "       [ 1.10550591, -0.35030693, -0.38170109],\n",
    "       [-1.27714093, -1.13806067, -0.99192483]])\n",
    "lm = LinearRegression(fit_intercept=False)\n",
    "lm.fit([[-5,29],[-27,19]], [[-86],[-8]])\n",
    "print(lm.coef_)\n",
    "lm.fit([[-5,29],[-27,19],[10,-78]], [[-86],[-8],[79]])\n",
    "print(lm.coef_)\n",
    "[[-2.0377907  -3.31686047]]\n",
    "[[-0.53033122 -1.31356249]]\n",
    "\n",
    "lm = LinearRegression(fit_intercept=False)\n",
    "lm.fit([[11,-51],[-56,-10]], [[19],[78]])\n",
    "print(lm.coef_)\n",
    "lm.fit([[11,-51],[-56,-10],[68,-82],[72,-14]], [[19],[78],[-1],[-50]])\n",
    "print(lm.coef_)\n",
    "[[-1.27714093 -0.64801079]]\n",
    "[[-0.99192483 -0.77942262]]"
   ]
  }
 ],
 "metadata": {
  "kernelspec": {
   "display_name": "Python [conda env:T02] *",
   "language": "python",
   "name": "conda-env-T02-py"
  },
  "language_info": {
   "codemirror_mode": {
    "name": "ipython",
    "version": 3
   },
   "file_extension": ".py",
   "mimetype": "text/x-python",
   "name": "python",
   "nbconvert_exporter": "python",
   "pygments_lexer": "ipython3",
   "version": "3.7.4"
  }
 },
 "nbformat": 4,
 "nbformat_minor": 2
}
