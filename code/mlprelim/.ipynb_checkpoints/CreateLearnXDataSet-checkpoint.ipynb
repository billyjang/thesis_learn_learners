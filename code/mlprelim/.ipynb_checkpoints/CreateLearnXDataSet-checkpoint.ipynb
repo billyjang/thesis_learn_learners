{
 "cells": [
  {
   "cell_type": "code",
   "execution_count": 1,
   "metadata": {},
   "outputs": [],
   "source": [
    "import numpy as np\n",
    "from sklearn.linear_model import LinearRegression"
   ]
  },
  {
   "cell_type": "code",
   "execution_count": 135,
   "metadata": {},
   "outputs": [],
   "source": [
    "def create_dataset(num_samples=1000,low=-100,high=100,n=1,d=1,num_updates=1):\n",
    "    #assumes n = 1 for original dataset\n",
    "    #probably move to keras/tf backend as n grows\n",
    "    #flatten array for now but maybe keep structure (similar to cnns)\n",
    "    original_ds = np.random.randint(low,high+1,size=(num_samples,n,d+1))\n",
    "    updates = np.random.randint(low,high+1,size=(num_samples,num_updates,d+1))\n",
    "    betas = np.zeros((num_samples,num_updates+1,d))\n",
    "    lm = LinearRegression(fit_intercept=False)\n",
    "    for i in range(num_samples):\n",
    "        ds = original_ds[i]\n",
    "        lm.fit(ds[:,:-1], ds[:,-1])\n",
    "        betas[i,0] = lm.coef_\n",
    "        for j in range(num_updates):\n",
    "            ds = np.append(ds,[updates[i,j]],axis=0) #careful with pointers\n",
    "            lm.fit(ds[:,:-1],ds[:,-1])\n",
    "            betas[i,j+1] = lm.coef_\n",
    "            \n",
    "    original_ds_reshape = np.reshape(original_ds, (num_samples, n*(d+1)))\n",
    "    updates_reshape = np.reshape(updates, (num_samples, num_updates*(d+1)))\n",
    "    return original_ds, updates, original_ds_reshape, updates_reshape, betas"
   ]
  },
  {
   "cell_type": "code",
   "execution_count": 136,
   "metadata": {},
   "outputs": [],
   "source": [
    "t = create_dataset(3,-100,100,2,2,2)"
   ]
  },
  {
   "cell_type": "code",
   "execution_count": null,
   "metadata": {},
   "outputs": [],
   "source": []
  }
 ],
 "metadata": {
  "kernelspec": {
   "display_name": "Python [conda env:T02] *",
   "language": "python",
   "name": "conda-env-T02-py"
  },
  "language_info": {
   "codemirror_mode": {
    "name": "ipython",
    "version": 3
   },
   "file_extension": ".py",
   "mimetype": "text/x-python",
   "name": "python",
   "nbconvert_exporter": "python",
   "pygments_lexer": "ipython3",
   "version": "3.7.4"
  }
 },
 "nbformat": 4,
 "nbformat_minor": 2
}
