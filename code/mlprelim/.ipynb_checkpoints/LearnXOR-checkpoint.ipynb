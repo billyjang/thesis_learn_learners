{
 "cells": [
  {
   "cell_type": "code",
   "execution_count": 56,
   "metadata": {},
   "outputs": [],
   "source": [
    "import numpy as np\n",
    "from sklearn.neural_network import MLPClassifier"
   ]
  },
  {
   "cell_type": "code",
   "execution_count": 78,
   "metadata": {},
   "outputs": [],
   "source": [
    "'''\n",
    "def create_simple_ds(n=1000, d = 1):\n",
    "    X = np.random.randint(2, size=(n,2,d))\n",
    "    y = np.apply_along_axis(lambda x: np.logical_xor(x[0], x[1]),1,X)\n",
    "    Xtest = np.random.randint(2,size=((int)(.2*n),2,d))\n",
    "    ytest = np.apply_along_axis(lambda x: np.logical_xor(x[0], x[1]),1,Xtest)\n",
    "    return X,y,Xtest,ytest\n",
    "''';"
   ]
  },
  {
   "cell_type": "code",
   "execution_count": 75,
   "metadata": {},
   "outputs": [],
   "source": [
    "def create_simple_ds(n=1000):\n",
    "    X = np.random.randint(2, size=(n,2))\n",
    "    y = np.apply_along_axis(lambda x: np.logical_xor(x[0],x[1]),1,X)\n",
    "    Xtest = np.random.randint(2, size=((int)(.2*n),2))\n",
    "    ytest = np.apply_along_axis(lambda x: np.logical_xor(x[0],x[1]),1,Xtest)\n",
    "    return X,y,Xtest,ytest"
   ]
  },
  {
   "cell_type": "code",
   "execution_count": 76,
   "metadata": {},
   "outputs": [],
   "source": [
    "X,y,Xtest,ytest = create_simple_ds(1000000)"
   ]
  },
  {
   "cell_type": "code",
   "execution_count": 83,
   "metadata": {},
   "outputs": [],
   "source": [
    "nn_c = MLPClassifier(verbose=True, max_iter=10)"
   ]
  },
  {
   "cell_type": "code",
   "execution_count": 84,
   "metadata": {},
   "outputs": [
    {
     "name": "stdout",
     "output_type": "stream",
     "text": [
      "Iteration 1, loss = 0.04406069\n",
      "Iteration 2, loss = 0.00009176\n",
      "Iteration 3, loss = 0.00004164\n",
      "Iteration 4, loss = 0.00003929\n",
      "Iteration 5, loss = 0.00003898\n",
      "Iteration 6, loss = 0.00003897\n",
      "Iteration 7, loss = 0.00003897\n",
      "Iteration 8, loss = 0.00003897\n",
      "Iteration 9, loss = 0.00003897\n",
      "Iteration 10, loss = 0.00003897\n"
     ]
    },
    {
     "name": "stderr",
     "output_type": "stream",
     "text": [
      "/anaconda3/envs/T02/lib/python3.7/site-packages/sklearn/neural_network/multilayer_perceptron.py:566: ConvergenceWarning: Stochastic Optimizer: Maximum iterations (10) reached and the optimization hasn't converged yet.\n",
      "  % self.max_iter, ConvergenceWarning)\n"
     ]
    },
    {
     "data": {
      "text/plain": [
       "MLPClassifier(activation='relu', alpha=0.0001, batch_size='auto', beta_1=0.9,\n",
       "              beta_2=0.999, early_stopping=False, epsilon=1e-08,\n",
       "              hidden_layer_sizes=(100,), learning_rate='constant',\n",
       "              learning_rate_init=0.001, max_iter=10, momentum=0.9,\n",
       "              n_iter_no_change=10, nesterovs_momentum=True, power_t=0.5,\n",
       "              random_state=None, shuffle=True, solver='adam', tol=0.0001,\n",
       "              validation_fraction=0.1, verbose=True, warm_start=False)"
      ]
     },
     "execution_count": 84,
     "metadata": {},
     "output_type": "execute_result"
    }
   ],
   "source": [
    "nn_c.fit(X,y)"
   ]
  },
  {
   "cell_type": "code",
   "execution_count": 85,
   "metadata": {},
   "outputs": [
    {
     "data": {
      "text/plain": [
       "1.0"
      ]
     },
     "execution_count": 85,
     "metadata": {},
     "output_type": "execute_result"
    }
   ],
   "source": [
    "nn_c.score(Xtest,ytest)"
   ]
  },
  {
   "cell_type": "code",
   "execution_count": null,
   "metadata": {},
   "outputs": [],
   "source": []
  }
 ],
 "metadata": {
  "kernelspec": {
   "display_name": "Python 3",
   "language": "python",
   "name": "python3"
  },
  "language_info": {
   "codemirror_mode": {
    "name": "ipython",
    "version": 3
   },
   "file_extension": ".py",
   "mimetype": "text/x-python",
   "name": "python",
   "nbconvert_exporter": "python",
   "pygments_lexer": "ipython3",
   "version": "3.7.4"
  }
 },
 "nbformat": 4,
 "nbformat_minor": 2
}
